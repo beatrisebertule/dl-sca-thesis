{
  "cells": [
    {
      "cell_type": "markdown",
      "metadata": {
        "id": "Xn6ei161ZSDe"
      },
      "source": [
        "# A Tutorial on Deep Learning-based (Profiled) Side-channel Analysis (DLSCA)\n",
        "\n",
        "This notebook contains executable code that complements the article \"A Tutorial on Deep Learning-based (Profiled) Side-channel Analysis (DLSCA)\". It provides concrete implementations of the deep learning-based side-channel analysis techniques described in the paper, allowing readers to reproduce experiments, explore different configurations, and gain a deeper understanding of the subject matter through hands-on experience.\n",
        "\n",
        "Code cells should be executed sequentially in the order they are shown within each section so that appropriate variables and functions are defined and implemented for common later use in the following code cell if not used immediately in the same one. Some sections are standalone, meaning they can be executed right after running the section Imports and Setup, while some rely on other sections as well. This is noted for each section.\n",
        "\n"
      ]
    },
    {
      "cell_type": "markdown",
      "metadata": {
        "id": "vDZzqcNMI8cQ"
      },
      "source": [
        "## Imports and Setup"
      ]
    },
    {
      "cell_type": "markdown",
      "metadata": {
        "id": "Gha9-amvGQ8z"
      },
      "source": [
        "The following code cell imports all required libraries. These are typically pre-installed in the Google Colab environment. If any are missing, they can be installed using the following command:\n",
        "```\n",
        "!pip install <name_of_the_package>\n",
        "```\n",
        "\n",
        "This code cell also implements other required functions and variables assumed in the later code cells. So, this cell should be executed before running any other code cell(s).\n"
      ]
    },
    {
      "cell_type": "code",
      "execution_count": 1,
      "metadata": {
        "colab": {
          "base_uri": "https://localhost:8080/"
        },
        "id": "TXKX0cFVsnX6",
        "outputId": "60b2e768-502a-4788-829e-2ad3f0eb51ed"
      },
      "outputs": [],
      "source": [
        "# importing necessary libraries\n",
        "import os\n",
        "# import tensorflow as tf\n",
        "# import tensorflow.keras as tk\n",
        "# from tensorflow.keras.models import *\n",
        "# from tensorflow.keras.optimizers import *\n",
        "# from tensorflow.keras import layers\n",
        "# from tensorflow.keras.layers import *\n",
        "# from tensorflow.keras.utils import to_categorical\n",
        "# from tensorflow.python.keras import backend as K\n",
        "\n",
        "import sys\n",
        "import h5py\n",
        "import numpy as np\n",
        "import random\n",
        "import math\n",
        "import gc\n",
        "import importlib\n",
        "\n",
        "from sklearn.preprocessing import StandardScaler, MinMaxScaler\n",
        "from sklearn.metrics import accuracy_score\n",
        "\n",
        "import matplotlib\n",
        "import matplotlib.pyplot as plt\n",
        "\n",
        "# set a random seed for reproducibility (running with the given numbers should lead to the same results)\n",
        "seed = 1502117258716530292 #random.randrange(sys.maxsize)\n",
        "random.seed(seed)\n",
        "# print('seed random was', seed)\n",
        "seed = 4188638569 #random.randrange(2**32 - 1)\n",
        "np.random.seed(seed)\n",
        "# print('seed np random was', seed)\n",
        "\n",
        "# The dataset implements AES-128, for which a known and fixed AES substitution table exists.\n",
        "# This S-box is used for the attack, so we define it here as a prerequisite for running later code.\n",
        "AES_Sbox = np.array([\n",
        "    0x63, 0x7C, 0x77, 0x7B, 0xF2, 0x6B, 0x6F, 0xC5, 0x30, 0x01, 0x67, 0x2B, 0xFE, 0xD7, 0xAB, 0x76,\n",
        "    0xCA, 0x82, 0xC9, 0x7D, 0xFA, 0x59, 0x47, 0xF0, 0xAD, 0xD4, 0xA2, 0xAF, 0x9C, 0xA4, 0x72, 0xC0,\n",
        "    0xB7, 0xFD, 0x93, 0x26, 0x36, 0x3F, 0xF7, 0xCC, 0x34, 0xA5, 0xE5, 0xF1, 0x71, 0xD8, 0x31, 0x15,\n",
        "    0x04, 0xC7, 0x23, 0xC3, 0x18, 0x96, 0x05, 0x9A, 0x07, 0x12, 0x80, 0xE2, 0xEB, 0x27, 0xB2, 0x75,\n",
        "    0x09, 0x83, 0x2C, 0x1A, 0x1B, 0x6E, 0x5A, 0xA0, 0x52, 0x3B, 0xD6, 0xB3, 0x29, 0xE3, 0x2F, 0x84,\n",
        "    0x53, 0xD1, 0x00, 0xED, 0x20, 0xFC, 0xB1, 0x5B, 0x6A, 0xCB, 0xBE, 0x39, 0x4A, 0x4C, 0x58, 0xCF,\n",
        "    0xD0, 0xEF, 0xAA, 0xFB, 0x43, 0x4D, 0x33, 0x85, 0x45, 0xF9, 0x02, 0x7F, 0x50, 0x3C, 0x9F, 0xA8,\n",
        "    0x51, 0xA3, 0x40, 0x8F, 0x92, 0x9D, 0x38, 0xF5, 0xBC, 0xB6, 0xDA, 0x21, 0x10, 0xFF, 0xF3, 0xD2,\n",
        "    0xCD, 0x0C, 0x13, 0xEC, 0x5F, 0x97, 0x44, 0x17, 0xC4, 0xA7, 0x7E, 0x3D, 0x64, 0x5D, 0x19, 0x73,\n",
        "    0x60, 0x81, 0x4F, 0xDC, 0x22, 0x2A, 0x90, 0x88, 0x46, 0xEE, 0xB8, 0x14, 0xDE, 0x5E, 0x0B, 0xDB,\n",
        "    0xE0, 0x32, 0x3A, 0x0A, 0x49, 0x06, 0x24, 0x5C, 0xC2, 0xD3, 0xAC, 0x62, 0x91, 0x95, 0xE4, 0x79,\n",
        "    0xE7, 0xC8, 0x37, 0x6D, 0x8D, 0xD5, 0x4E, 0xA9, 0x6C, 0x56, 0xF4, 0xEA, 0x65, 0x7A, 0xAE, 0x08,\n",
        "    0xBA, 0x78, 0x25, 0x2E, 0x1C, 0xA6, 0xB4, 0xC6, 0xE8, 0xDD, 0x74, 0x1F, 0x4B, 0xBD, 0x8B, 0x8A,\n",
        "    0x70, 0x3E, 0xB5, 0x66, 0x48, 0x03, 0xF6, 0x0E, 0x61, 0x35, 0x57, 0xB9, 0x86, 0xC1, 0x1D, 0x9E,\n",
        "    0xE1, 0xF8, 0x98, 0x11, 0x69, 0xD9, 0x8E, 0x94, 0x9B, 0x1E, 0x87, 0xE9, 0xCE, 0x55, 0x28, 0xDF,\n",
        "    0x8C, 0xA1, 0x89, 0x0D, 0xBF, 0xE6, 0x42, 0x68, 0x41, 0x99, 0x2D, 0x0F, 0xB0, 0x54, 0xBB, 0x16\n",
        "])\n",
        "\n",
        "# This function checks if the file exists and will be used to read the dataset files.\n",
        "def check_file_exists(file_path):\n",
        "    if os.path.exists(file_path) == False:\n",
        "        print(\"Error: provided file path '%s' does not exist!\" % file_path)\n",
        "        sys.exit(-1)\n",
        "    return\n",
        "\n",
        "# Function to load profiling and attack data (traces and labels) (source : https://github.com/ANSSI-FR/ASCAD)\n",
        "def load_ascad(ascad_database_file, load_metadata=False, target_byte=2):\n",
        "\tcheck_file_exists(ascad_database_file)\n",
        "\t# Open the ASCAD database HDF5 for reading\n",
        "\ttry:\n",
        "\t\tin_file\t = h5py.File(ascad_database_file, \"r\")\n",
        "\texcept:\n",
        "\t\tprint(\"Error: can't open HDF5 file '%s' for reading (it might be malformed) ...\" % ascad_database_file)\n",
        "\t\tsys.exit(-1)\n",
        "\t# Load profiling traces\n",
        "\tX_profiling = np.array(in_file['Profiling_traces/traces'], dtype=np.int8)\n",
        "\t# Load profiling labels\n",
        "\tY_profiling = np.array(in_file['Profiling_traces/labels'])\n",
        "\t# Load attacking traces\n",
        "\tX_attack = np.array(in_file['Attack_traces/traces'], dtype=np.int8)\n",
        "\t# Load attacking labels\n",
        "\tY_attack = np.array(in_file['Attack_traces/labels'])\n",
        "\tif load_metadata == False:\n",
        "\t\treturn (X_profiling, Y_profiling), (X_attack, Y_attack)\n",
        "\telse:\n",
        "\t\treturn (X_profiling, Y_profiling), (X_attack, Y_attack), (in_file['Profiling_traces/metadata'], in_file['Attack_traces/metadata'])\n",
        "\n",
        "# ID means the label values are taken directly\n",
        "# For HW leakage model, we show how the conversion is done\n",
        "def calculate_HW(data):\n",
        "    hw = [bin(x).count(\"1\") for x in range(256)]\n",
        "    return [hw[int(s)] for s in data]\n",
        "\n",
        "# Functions for returning GE vector for increasing number of traces\n",
        "def score_keys_convergence(predictions, plaintexts):\n",
        "  \"\"\"\n",
        "  Computes the scores for each key hypothesis\n",
        "  \"\"\"\n",
        "  scores_keys = np.zeros((256, predictions.shape[0]))\n",
        "  for k in range(256):\n",
        "    # Generate Hypothetical labels for a key-candidate k\n",
        "    hypothetical_labels = AES_Sbox[plaintexts ^ k]\n",
        "    if leakage_model == \"HW\":\n",
        "      hypothetical_labels = calculate_HW(hypothetical_labels)\n",
        "\n",
        "    for i in range(predictions.shape[0]):\n",
        "      scores_keys[k, i] = scores_keys[k,i-1] + predictions[i, hypothetical_labels[i]]\n",
        "  return scores_keys\n",
        "\n",
        "def guessing_entropy_convergence(predictions, plaintexts, correct_key, nb_traces, nb_attacks=100):\n",
        "  ranks = np.zeros((nb_attacks, nb_traces))\n",
        "  # Take log of probablities to sum later with small addition for numeric stability\n",
        "  predictions_log = np.log(predictions + 1e-36)\n",
        "\n",
        "  for attack in range(nb_attacks):\n",
        "    # Take random subset of traces\n",
        "    r = np.random.choice(\n",
        "            range(predictions_log.shape[0]), nb_traces, replace=False)\n",
        "\n",
        "    key_scores = score_keys_convergence(predictions_log[r], plaintexts[r])\n",
        "\n",
        "    for n in range(nb_traces):\n",
        "      order_keys = np.argsort(key_scores[:, n])[::-1]\n",
        "      ranks[attack, n]  = np.where(order_keys == correct_key)[0][0]\n",
        "  return np.median(ranks, axis=0), np.average(ranks, axis=0)\n",
        "\n",
        "# Functions to calculate GE for a given number of attack traces\n",
        "def score_keys(predictions, plaintexts):\n",
        "  \"\"\"\n",
        "  Computes the scores for each key hypothesis\n",
        "  \"\"\"\n",
        "  scores_keys = np.zeros(256)\n",
        "  for k in range(256):\n",
        "    #Generate Hypothetical labels for a key-candidate k\n",
        "    hypothetical_labels = AES_Sbox[plaintexts ^ k]\n",
        "    if leakage_model == \"HW\":\n",
        "      hypothetical_labels = calculate_HW(hypothetical_labels)\n",
        "\n",
        "    for i in range(predictions.shape[0]):\n",
        "      scores_keys[k] += predictions[i, hypothetical_labels[i]]\n",
        "  return scores_keys\n",
        "\n",
        "def guessing_entropy(predictions, plaintexts, correct_key, nb_traces, nb_attacks=100):\n",
        "  ranks = np.zeros(nb_attacks)\n",
        "  # Take log of probablities to sum later with small addition for numeric stability\n",
        "  predictions_log = np.log(predictions + 1e-36)\n",
        "\n",
        "  for attack in range(nb_attacks):\n",
        "    # Take random subset of traces\n",
        "    r = np.random.choice(\n",
        "            range(predictions_log.shape[0]), nb_traces, replace=False)\n",
        "\n",
        "    key_scores = score_keys(predictions_log[r], plaintexts[r])\n",
        "\n",
        "    order_keys = np.argsort(key_scores)[::-1]\n",
        "\n",
        "    ranks[attack] = np.where(order_keys == correct_key)[0][0]\n",
        "  return np.median(ranks), np.average(ranks)"
      ]
    },
    {
      "cell_type": "markdown",
      "metadata": {
        "id": "cnzl_RRjJlr1"
      },
      "source": [
        "## Downloading the Dataset\n",
        "\n",
        "We download the public dataset, ASCAD with variable key, using the following code and the link provided. This downloads the data in the temporary disk of the Colab and will be deleted after the session ends.\n"
      ]
    },
    {
      "cell_type": "code",
      "execution_count": 9,
      "metadata": {
        "colab": {
          "base_uri": "https://localhost:8080/"
        },
        "id": "dgAX1Mo5ZRg4",
        "outputId": "e1085914-49bf-41fa-8931-2f1aaef36d6c"
      },
      "outputs": [
        {
          "name": "stdout",
          "output_type": "stream",
          "text": [
            "--2025-09-19 13:44:18--  https://static.data.gouv.fr/resources/ascad-atmega-8515-variable-key/20190903-083349/ascad-variable.h5\n",
            "Resolving static.data.gouv.fr (static.data.gouv.fr)... 37.59.183.73, 37.59.183.91\n",
            "Connecting to static.data.gouv.fr (static.data.gouv.fr)|37.59.183.73|:443... connected.\n",
            "HTTP request sent, awaiting response... 200 OK\n",
            "Length: 438606904 (418M) [application/octet-stream]\n",
            "Saving to: ‘ascad-variable.h5.1’\n",
            "\n",
            "ascad-variable.h5.1  34%[=====>              ] 143.04M  7.25MB/s    eta 38s    ^C\n"
          ]
        }
      ],
      "source": [
        "# download the data\n",
        "!wget https://static.data.gouv.fr/resources/ascad-atmega-8515-variable-key/20190903-083349/ascad-variable.h5"
      ]
    },
    {
      "cell_type": "markdown",
      "metadata": {
        "id": "uH0yFKZDIvpf"
      },
      "source": [
        "To avoid downloading the dataset for each session, we can mount My Drive from Google Account, which allows us to use data already in the My Drive. Thus, the public dataset can be within your My Drive, and the path to the dataset has to be updated in the tutorial. However, this tutorial will rely on the downloaded dataset within the temporary disk for the controlled execution process.\n",
        "\n",
        "The code for mounting the Drive is the following:\n",
        "\n",
        "```\n",
        "from google.colab import drive\n",
        "drive.mount('/content/drive')\n",
        "```\n"
      ]
    },
    {
      "cell_type": "markdown",
      "metadata": {
        "id": "WgNXtXb7ORyZ"
      },
      "source": [
        "The following code cell of the tutorial does not have to be executed for the attack to run but is informative for understanding how the labels are created."
      ]
    },
    {
      "cell_type": "code",
      "execution_count": 2,
      "metadata": {
        "id": "GElfENReuIJq"
      },
      "outputs": [],
      "source": [
        "## This part of the tutorial does not have to be executed for the attack to run\n",
        "## This is informative for understanding how the labels are created\n",
        "ascad_dataset = './content/ascad-variable.h5'\n",
        "target_byte = 2 # we attack the third key byte (which is 2 in 0-index array)\n",
        "(X_profiling, Y_profiling), (X_attack, Y_attack), (profiling_metadata, attack_metadata) = load_ascad(ascad_dataset, load_metadata=True, target_byte=target_byte)\n",
        "\n",
        "# Load the plaintexts of the profiling traces of the corresponding target byte\n",
        "profiling_plaintexts = profiling_metadata['plaintext'][:, target_byte].astype(np.uint8)\n",
        "# Load the target_byte value of the key of the corresponding profiling traces\n",
        "profiling_keys =  profiling_metadata['key'][:, target_byte].astype(np.uint8)\n",
        "# Calculate the correct label using the plaintext and key byte of the profiling set\n",
        "created_Y_profiling = AES_Sbox[profiling_plaintexts ^ profiling_keys]\n",
        "assert (created_Y_profiling == Y_profiling).all(), \"Calculated profiling labels are not equal to loaded labels.\"\n",
        "\n",
        "# Similar process for attack set\n",
        "attack_plaintexts = attack_metadata['plaintext'][:, target_byte].astype(np.uint8)\n",
        "attack_keys =  attack_metadata['key'][:, target_byte].astype(np.uint8)\n",
        "created_Y_attack = AES_Sbox[attack_plaintexts ^ attack_keys]\n",
        "assert (created_Y_attack == Y_attack).all(), \"Calculated attack labels are not equal to loaded labels.\""
      ]
    },
    {
      "cell_type": "markdown",
      "metadata": {
        "id": "PyVY5jfCOfwh"
      },
      "source": [
        "The following code cell loads the dataset downloaded in the temporary disk. This path has to be updated when data stored in the My Drive (mounting the Drive) is used."
      ]
    },
    {
      "cell_type": "code",
      "execution_count": 9,
      "metadata": {
        "id": "HLLUmdags5eV"
      },
      "outputs": [],
      "source": [
        "ascad_dataset = './content/ascad-variable.h5'\n",
        "(X_profiling, Y_profiling), (X_attack, Y_attack), (profiling_metadata, attack_metadata) = load_ascad(ascad_dataset, load_metadata=True)\n",
        "input_size = len(X_profiling[0])"
      ]
    },
    {
      "cell_type": "markdown",
      "metadata": {
        "id": "4X1LexvmO4m1"
      },
      "source": [
        "### Preprocessing for Deep Learning\n",
        "\n"
      ]
    },
    {
      "cell_type": "markdown",
      "metadata": {
        "id": "DGGkkO-bPdTC"
      },
      "source": [
        "Standardization and normalization are common for deep learning preprocessing, and the following code cell uses the scikit-learn library implementation for those calculations."
      ]
    },
    {
      "cell_type": "code",
      "execution_count": 4,
      "metadata": {
        "id": "I93J6pxWs-sU"
      },
      "outputs": [],
      "source": [
        "# Standardization\n",
        "scaler = StandardScaler()\n",
        "X_profiling = scaler.fit_transform(X_profiling)\n",
        "X_attack = scaler.transform(X_attack)\n",
        "# Normalization (between 0 and 1) - Generally this is more for desynchronized traces\n",
        "# scaler = MinMaxScaler(feature_range=(0, 1))\n",
        "# X_profiling = scaler.fit_transform(X_profiling)\n",
        "# X_attack = scaler.transform(X_attack)"
      ]
    },
    {
      "cell_type": "markdown",
      "metadata": {
        "id": "WzHnwhwbQYWE"
      },
      "source": [
        "### Leakage Model and Classification Task Label Preparation"
      ]
    },
    {
      "cell_type": "code",
      "execution_count": 5,
      "metadata": {
        "id": "lMDKYblitefU"
      },
      "outputs": [
        {
          "ename": "NameError",
          "evalue": "name 'to_categorical' is not defined",
          "output_type": "error",
          "traceback": [
            "\u001b[31m---------------------------------------------------------------------------\u001b[39m",
            "\u001b[31mNameError\u001b[39m                                 Traceback (most recent call last)",
            "\u001b[36mCell\u001b[39m\u001b[36m \u001b[39m\u001b[32mIn[5]\u001b[39m\u001b[32m, line 13\u001b[39m\n\u001b[32m     10\u001b[39m   Y_attack = calculate_HW(Y_attack)\n\u001b[32m     12\u001b[39m \u001b[38;5;66;03m# Since we use classification, we turn the the label values into categorical\u001b[39;00m\n\u001b[32m---> \u001b[39m\u001b[32m13\u001b[39m Y_profiling = \u001b[43mto_categorical\u001b[49m(Y_profiling, num_classes=nb_classes)\n\u001b[32m     14\u001b[39m Y_attack = to_categorical(Y_attack, num_classes=nb_classes)\n",
            "\u001b[31mNameError\u001b[39m: name 'to_categorical' is not defined"
          ]
        }
      ],
      "source": [
        "# Depending on the leakage model, we have different number of classes for the classification\n",
        "leakage_model = 'ID'\n",
        "if leakage_model == 'HW':\n",
        "  nb_classes = 9\n",
        "elif leakage_model == 'ID':\n",
        "  nb_classes = 256\n",
        "\n",
        "if leakage_model == 'HW':\n",
        "  Y_profiling = calculate_HW(Y_profiling)\n",
        "  Y_attack = calculate_HW(Y_attack)\n",
        "\n",
        "# Since we use classification, we turn the the label values into categorical\n",
        "Y_profiling = to_categorical(Y_profiling, num_classes=nb_classes)\n",
        "Y_attack = to_categorical(Y_attack, num_classes=nb_classes)"
      ]
    },
    {
      "cell_type": "markdown",
      "metadata": {
        "id": "vH6dlaJPkoVE"
      },
      "source": [
        "##Fixed Model Training\n",
        "This section shows how to train a single fixed neural network architecture for DLSCA.\n",
        "\n",
        "Both sections *Imports and Setup* and *Downloading the Dataset* must be executed before running cells in this section."
      ]
    },
    {
      "cell_type": "markdown",
      "metadata": {
        "id": "rQWehstgsuYN"
      },
      "source": [
        "### Models\n",
        "The following code cell has functions, each creating a fixed model for training (profiling), and they are taken from reported research papers."
      ]
    },
    {
      "cell_type": "code",
      "execution_count": null,
      "metadata": {
        "id": "7hxi5_GXtjs0"
      },
      "outputs": [],
      "source": [
        "# Model taked from Perin, Guilherme, Lichao Wu, and Stjepan Picek.\n",
        "# \"Exploring feature selection scenarios for deep learning-based side-channel analysis.\"\n",
        "# IACR Transactions on Cryptographic Hardware and Embedded Systems 2022.4 (2022): 828-861.\n",
        "def best_mlp_id_opoi_1400_ascadr(classes, number_of_samples):\n",
        "    # Best multilayer perceptron for ASCAD variable key dataset\n",
        "    # Number of points-of-interest: 1400\n",
        "    # Leakage model: ID\n",
        "    # POI interval: [80945, 82345]\n",
        "    # Number of parameters: 34236\n",
        "\n",
        "    batch_size = 100\n",
        "    tf.random.set_seed(83545)\n",
        "    model = Sequential(name='best_mlp_id_opoi_ascadv_1400')\n",
        "    model.add(Dense(20, activation='selu', kernel_initializer='random_uniform', input_shape=(number_of_samples,)))\n",
        "    model.add(Dense(20, activation='selu', kernel_initializer='random_uniform'))\n",
        "    model.add(Dense(20, activation='selu', kernel_initializer='random_uniform'))\n",
        "    model.add(Dense(classes, activation='softmax'))\n",
        "    optimizer = Adam(learning_rate=0.0005)\n",
        "    model.compile(loss='categorical_crossentropy', optimizer=optimizer, metrics=['accuracy'])\n",
        "    return model, batch_size\n",
        "\n",
        "# Model taked from Perin, Guilherme, Lichao Wu, and Stjepan Picek.\n",
        "# \"Exploring feature selection scenarios for deep learning-based side-channel analysis.\"\n",
        "# IACR Transactions on Cryptographic Hardware and Embedded Systems 2022.4 (2022): 828-861.\n",
        "def best_cnn_id_opoi_1400_ascadr(classes, number_of_samples):\n",
        "    # Best Convolutional Neural Network for ASCAD variable key dataset\n",
        "    # Number of points-of-interest: 1400\n",
        "    # Leakage model: ID\n",
        "    # POI interval: [80945, 82345]\n",
        "    # Number of parameters: 87632\n",
        "\n",
        "    batch_size = 300\n",
        "    tf.random.set_seed(511628)\n",
        "    model = Sequential(name='best_cnn_id_opoi_ascadv_1400')\n",
        "    model.add(Conv1D(kernel_size=46, strides=23, filters=8, activation='selu', input_shape=(number_of_samples, 1), padding='same'))\n",
        "    model.add(MaxPool1D(pool_size=2, strides=2, padding='same'))\n",
        "    model.add(BatchNormalization())\n",
        "    model.add(Conv1D(kernel_size=50, strides=25, filters=16, activation='selu', padding='same'))\n",
        "    model.add(MaxPool1D(pool_size=6, strides=6, padding='same'))\n",
        "    model.add(BatchNormalization())\n",
        "    model.add(Conv1D(kernel_size=44, strides=22, filters=32, activation='selu', padding='same'))\n",
        "    model.add(MaxPool1D(pool_size=2, strides=2, padding='same'))\n",
        "    model.add(BatchNormalization())\n",
        "    model.add(Flatten())\n",
        "    model.add(Dense(200, activation='selu', kernel_initializer='he_uniform'))\n",
        "    model.add(Dense(classes, activation='softmax'))\n",
        "    optimizer = Adam(learning_rate=0.001)\n",
        "    model.compile(loss='categorical_crossentropy', optimizer=optimizer, metrics=['accuracy'])\n",
        "    return model, batch_size\n",
        "\n",
        "# Model taken from Benadjila, Ryad, et al.\n",
        "# \"Deep learning for side-channel analysis and introduction to ASCAD database.\"\n",
        "# Journal of Cryptographic Engineering 10.2 (2020): 163-188.\n",
        "def mlp_best(classes, number_of_samples):\n",
        "  node=200\n",
        "  layer_nb=6\n",
        "  model = Sequential()\n",
        "  model.add(Dense(node, input_dim=number_of_samples, activation='relu'))\n",
        "  for i in range(layer_nb-2):\n",
        "    model.add(Dense(node, activation='relu'))\n",
        "  model.add(Dense(classes, activation='softmax'))\n",
        "  optimizer = Adam(learning_rate=0.0001)\n",
        "  model.compile(loss='categorical_crossentropy', optimizer=optimizer, metrics=['accuracy'])\n",
        "  return model\n"
      ]
    },
    {
      "cell_type": "markdown",
      "metadata": {
        "id": "Hhtbfw5x0MrV"
      },
      "source": [
        "### Training/Profiling\n",
        "First phase of (DL)SCA.\n",
        "\n",
        "We create the model by calling one of the functions. The training is done by calling the function *fit* on the model."
      ]
    },
    {
      "cell_type": "code",
      "execution_count": null,
      "metadata": {},
      "outputs": [
        {
          "ename": "TypeError",
          "evalue": "object of type 'int' has no len()",
          "output_type": "error",
          "traceback": [
            "\u001b[31m---------------------------------------------------------------------------\u001b[39m",
            "\u001b[31mTypeError\u001b[39m                                 Traceback (most recent call last)",
            "\u001b[36mCell\u001b[39m\u001b[36m \u001b[39m\u001b[32mIn[10]\u001b[39m\u001b[32m, line 2\u001b[39m\n\u001b[32m      1\u001b[39m \u001b[38;5;66;03m# print(len(nb_classes))\u001b[39;00m\n\u001b[32m----> \u001b[39m\u001b[32m2\u001b[39m \u001b[38;5;28mprint\u001b[39m(\u001b[38;5;28;43mlen\u001b[39;49m\u001b[43m(\u001b[49m\u001b[43minput_size\u001b[49m\u001b[43m)\u001b[49m)\n",
            "\u001b[31mTypeError\u001b[39m: object of type 'int' has no len()"
          ]
        }
      ],
      "source": [
        "# print(len(nb_classes))\n",
        "# print(len(input_size))"
      ]
    },
    {
      "cell_type": "code",
      "execution_count": null,
      "metadata": {
        "colab": {
          "base_uri": "https://localhost:8080/"
        },
        "id": "lXEOOZ1-tlS7",
        "outputId": "43923af6-acda-4ccd-dccf-d4383d806c7e"
      },
      "outputs": [
        {
          "name": "stderr",
          "output_type": "stream",
          "text": [
            "/usr/local/lib/python3.11/dist-packages/keras/src/layers/core/dense.py:87: UserWarning: Do not pass an `input_shape`/`input_dim` argument to a layer. When using Sequential models, prefer using an `Input(shape)` object as the first layer in the model instead.\n",
            "  super().__init__(activity_regularizer=activity_regularizer, **kwargs)\n"
          ]
        },
        {
          "name": "stdout",
          "output_type": "stream",
          "text": [
            "Epoch 1/100\n",
            "\u001b[1m2000/2000\u001b[0m \u001b[32m━━━━━━━━━━━━━━━━━━━━\u001b[0m\u001b[37m\u001b[0m \u001b[1m8s\u001b[0m 3ms/step - accuracy: 0.0039 - loss: 5.5457\n",
            "Epoch 2/100\n",
            "\u001b[1m2000/2000\u001b[0m \u001b[32m━━━━━━━━━━━━━━━━━━━━\u001b[0m\u001b[37m\u001b[0m \u001b[1m5s\u001b[0m 2ms/step - accuracy: 0.0045 - loss: 5.5447\n",
            "Epoch 3/100\n",
            "\u001b[1m2000/2000\u001b[0m \u001b[32m━━━━━━━━━━━━━━━━━━━━\u001b[0m\u001b[37m\u001b[0m \u001b[1m5s\u001b[0m 3ms/step - accuracy: 0.0048 - loss: 5.5432\n",
            "Epoch 4/100\n",
            "\u001b[1m2000/2000\u001b[0m \u001b[32m━━━━━━━━━━━━━━━━━━━━\u001b[0m\u001b[37m\u001b[0m \u001b[1m5s\u001b[0m 3ms/step - accuracy: 0.0052 - loss: 5.5410\n",
            "Epoch 5/100\n",
            "\u001b[1m2000/2000\u001b[0m \u001b[32m━━━━━━━━━━━━━━━━━━━━\u001b[0m\u001b[37m\u001b[0m \u001b[1m5s\u001b[0m 2ms/step - accuracy: 0.0056 - loss: 5.5372\n",
            "Epoch 6/100\n",
            "\u001b[1m2000/2000\u001b[0m \u001b[32m━━━━━━━━━━━━━━━━━━━━\u001b[0m\u001b[37m\u001b[0m \u001b[1m7s\u001b[0m 4ms/step - accuracy: 0.0061 - loss: 5.5272\n",
            "Epoch 7/100\n",
            "\u001b[1m2000/2000\u001b[0m \u001b[32m━━━━━━━━━━━━━━━━━━━━\u001b[0m\u001b[37m\u001b[0m \u001b[1m14s\u001b[0m 6ms/step - accuracy: 0.0071 - loss: 5.5110\n",
            "Epoch 8/100\n",
            "\u001b[1m2000/2000\u001b[0m \u001b[32m━━━━━━━━━━━━━━━━━━━━\u001b[0m\u001b[37m\u001b[0m \u001b[1m9s\u001b[0m 4ms/step - accuracy: 0.0073 - loss: 5.5012\n",
            "Epoch 9/100\n",
            "\u001b[1m2000/2000\u001b[0m \u001b[32m━━━━━━━━━━━━━━━━━━━━\u001b[0m\u001b[37m\u001b[0m \u001b[1m9s\u001b[0m 4ms/step - accuracy: 0.0076 - loss: 5.4914\n",
            "Epoch 10/100\n",
            "\u001b[1m2000/2000\u001b[0m \u001b[32m━━━━━━━━━━━━━━━━━━━━\u001b[0m\u001b[37m\u001b[0m \u001b[1m8s\u001b[0m 3ms/step - accuracy: 0.0094 - loss: 5.4415\n",
            "Epoch 11/100\n",
            "\u001b[1m2000/2000\u001b[0m \u001b[32m━━━━━━━━━━━━━━━━━━━━\u001b[0m\u001b[37m\u001b[0m \u001b[1m8s\u001b[0m 4ms/step - accuracy: 0.0103 - loss: 5.3859\n",
            "Epoch 12/100\n",
            "\u001b[1m2000/2000\u001b[0m \u001b[32m━━━━━━━━━━━━━━━━━━━━\u001b[0m\u001b[37m\u001b[0m \u001b[1m10s\u001b[0m 4ms/step - accuracy: 0.0112 - loss: 5.3583\n",
            "Epoch 13/100\n",
            "\u001b[1m2000/2000\u001b[0m \u001b[32m━━━━━━━━━━━━━━━━━━━━\u001b[0m\u001b[37m\u001b[0m \u001b[1m10s\u001b[0m 3ms/step - accuracy: 0.0116 - loss: 5.3244\n",
            "Epoch 14/100\n",
            "\u001b[1m2000/2000\u001b[0m \u001b[32m━━━━━━━━━━━━━━━━━━━━\u001b[0m\u001b[37m\u001b[0m \u001b[1m8s\u001b[0m 2ms/step - accuracy: 0.0120 - loss: 5.2963\n",
            "Epoch 15/100\n",
            "\u001b[1m2000/2000\u001b[0m \u001b[32m━━━━━━━━━━━━━━━━━━━━\u001b[0m\u001b[37m\u001b[0m \u001b[1m5s\u001b[0m 3ms/step - accuracy: 0.0127 - loss: 5.2667\n",
            "Epoch 16/100\n",
            "\u001b[1m2000/2000\u001b[0m \u001b[32m━━━━━━━━━━━━━━━━━━━━\u001b[0m\u001b[37m\u001b[0m \u001b[1m10s\u001b[0m 3ms/step - accuracy: 0.0127 - loss: 5.2362\n",
            "Epoch 17/100\n",
            "\u001b[1m2000/2000\u001b[0m \u001b[32m━━━━━━━━━━━━━━━━━━━━\u001b[0m\u001b[37m\u001b[0m \u001b[1m6s\u001b[0m 3ms/step - accuracy: 0.0135 - loss: 5.2203\n",
            "Epoch 18/100\n",
            "\u001b[1m2000/2000\u001b[0m \u001b[32m━━━━━━━━━━━━━━━━━━━━\u001b[0m\u001b[37m\u001b[0m \u001b[1m11s\u001b[0m 3ms/step - accuracy: 0.0137 - loss: 5.2095\n",
            "Epoch 19/100\n",
            "\u001b[1m2000/2000\u001b[0m \u001b[32m━━━━━━━━━━━━━━━━━━━━\u001b[0m\u001b[37m\u001b[0m \u001b[1m5s\u001b[0m 2ms/step - accuracy: 0.0141 - loss: 5.2013\n",
            "Epoch 20/100\n",
            "\u001b[1m2000/2000\u001b[0m \u001b[32m━━━━━━━━━━━━━━━━━━━━\u001b[0m\u001b[37m\u001b[0m \u001b[1m6s\u001b[0m 3ms/step - accuracy: 0.0147 - loss: 5.1945\n",
            "Epoch 21/100\n",
            "\u001b[1m2000/2000\u001b[0m \u001b[32m━━━━━━━━━━━━━━━━━━━━\u001b[0m\u001b[37m\u001b[0m \u001b[1m5s\u001b[0m 2ms/step - accuracy: 0.0148 - loss: 5.1885\n",
            "Epoch 22/100\n",
            "\u001b[1m2000/2000\u001b[0m \u001b[32m━━━━━━━━━━━━━━━━━━━━\u001b[0m\u001b[37m\u001b[0m \u001b[1m5s\u001b[0m 2ms/step - accuracy: 0.0150 - loss: 5.1835\n",
            "Epoch 23/100\n",
            "\u001b[1m2000/2000\u001b[0m \u001b[32m━━━━━━━━━━━━━━━━━━━━\u001b[0m\u001b[37m\u001b[0m \u001b[1m6s\u001b[0m 3ms/step - accuracy: 0.0154 - loss: 5.1789\n",
            "Epoch 24/100\n",
            "\u001b[1m2000/2000\u001b[0m \u001b[32m━━━━━━━━━━━━━━━━━━━━\u001b[0m\u001b[37m\u001b[0m \u001b[1m11s\u001b[0m 3ms/step - accuracy: 0.0155 - loss: 5.1749\n",
            "Epoch 25/100\n",
            "\u001b[1m2000/2000\u001b[0m \u001b[32m━━━━━━━━━━━━━━━━━━━━\u001b[0m\u001b[37m\u001b[0m \u001b[1m5s\u001b[0m 2ms/step - accuracy: 0.0160 - loss: 5.1713\n",
            "Epoch 26/100\n",
            "\u001b[1m2000/2000\u001b[0m \u001b[32m━━━━━━━━━━━━━━━━━━━━\u001b[0m\u001b[37m\u001b[0m \u001b[1m11s\u001b[0m 5ms/step - accuracy: 0.0164 - loss: 5.1680\n",
            "Epoch 27/100\n",
            "\u001b[1m2000/2000\u001b[0m \u001b[32m━━━━━━━━━━━━━━━━━━━━\u001b[0m\u001b[37m\u001b[0m \u001b[1m14s\u001b[0m 2ms/step - accuracy: 0.0164 - loss: 5.1649\n",
            "Epoch 28/100\n",
            "\u001b[1m2000/2000\u001b[0m \u001b[32m━━━━━━━━━━━━━━━━━━━━\u001b[0m\u001b[37m\u001b[0m \u001b[1m6s\u001b[0m 3ms/step - accuracy: 0.0166 - loss: 5.1621\n",
            "Epoch 29/100\n",
            "\u001b[1m2000/2000\u001b[0m \u001b[32m━━━━━━━━━━━━━━━━━━━━\u001b[0m\u001b[37m\u001b[0m \u001b[1m10s\u001b[0m 3ms/step - accuracy: 0.0166 - loss: 5.1593\n",
            "Epoch 30/100\n",
            "\u001b[1m2000/2000\u001b[0m \u001b[32m━━━━━━━━━━━━━━━━━━━━\u001b[0m\u001b[37m\u001b[0m \u001b[1m5s\u001b[0m 2ms/step - accuracy: 0.0169 - loss: 5.1567\n",
            "Epoch 31/100\n",
            "\u001b[1m2000/2000\u001b[0m \u001b[32m━━━━━━━━━━━━━━━━━━━━\u001b[0m\u001b[37m\u001b[0m \u001b[1m5s\u001b[0m 2ms/step - accuracy: 0.0167 - loss: 5.1543\n",
            "Epoch 32/100\n",
            "\u001b[1m2000/2000\u001b[0m \u001b[32m━━━━━━━━━━━━━━━━━━━━\u001b[0m\u001b[37m\u001b[0m \u001b[1m6s\u001b[0m 3ms/step - accuracy: 0.0168 - loss: 5.1522\n",
            "Epoch 33/100\n",
            "\u001b[1m2000/2000\u001b[0m \u001b[32m━━━━━━━━━━━━━━━━━━━━\u001b[0m\u001b[37m\u001b[0m \u001b[1m5s\u001b[0m 2ms/step - accuracy: 0.0172 - loss: 5.1501\n",
            "Epoch 34/100\n",
            "\u001b[1m2000/2000\u001b[0m \u001b[32m━━━━━━━━━━━━━━━━━━━━\u001b[0m\u001b[37m\u001b[0m \u001b[1m6s\u001b[0m 3ms/step - accuracy: 0.0173 - loss: 5.1480\n",
            "Epoch 35/100\n",
            "\u001b[1m2000/2000\u001b[0m \u001b[32m━━━━━━━━━━━━━━━━━━━━\u001b[0m\u001b[37m\u001b[0m \u001b[1m9s\u001b[0m 3ms/step - accuracy: 0.0173 - loss: 5.1462\n",
            "Epoch 36/100\n",
            "\u001b[1m2000/2000\u001b[0m \u001b[32m━━━━━━━━━━━━━━━━━━━━\u001b[0m\u001b[37m\u001b[0m \u001b[1m5s\u001b[0m 3ms/step - accuracy: 0.0175 - loss: 5.1444\n",
            "Epoch 37/100\n",
            "\u001b[1m2000/2000\u001b[0m \u001b[32m━━━━━━━━━━━━━━━━━━━━\u001b[0m\u001b[37m\u001b[0m \u001b[1m5s\u001b[0m 2ms/step - accuracy: 0.0177 - loss: 5.1427\n",
            "Epoch 38/100\n",
            "\u001b[1m2000/2000\u001b[0m \u001b[32m━━━━━━━━━━━━━━━━━━━━\u001b[0m\u001b[37m\u001b[0m \u001b[1m6s\u001b[0m 3ms/step - accuracy: 0.0178 - loss: 5.1411\n",
            "Epoch 39/100\n",
            "\u001b[1m2000/2000\u001b[0m \u001b[32m━━━━━━━━━━━━━━━━━━━━\u001b[0m\u001b[37m\u001b[0m \u001b[1m5s\u001b[0m 3ms/step - accuracy: 0.0177 - loss: 5.1395\n",
            "Epoch 40/100\n",
            "\u001b[1m2000/2000\u001b[0m \u001b[32m━━━━━━━━━━━━━━━━━━━━\u001b[0m\u001b[37m\u001b[0m \u001b[1m6s\u001b[0m 3ms/step - accuracy: 0.0181 - loss: 5.1380\n",
            "Epoch 41/100\n",
            "\u001b[1m2000/2000\u001b[0m \u001b[32m━━━━━━━━━━━━━━━━━━━━\u001b[0m\u001b[37m\u001b[0m \u001b[1m5s\u001b[0m 3ms/step - accuracy: 0.0183 - loss: 5.1365\n",
            "Epoch 42/100\n",
            "\u001b[1m2000/2000\u001b[0m \u001b[32m━━━━━━━━━━━━━━━━━━━━\u001b[0m\u001b[37m\u001b[0m \u001b[1m10s\u001b[0m 2ms/step - accuracy: 0.0182 - loss: 5.1352\n",
            "Epoch 43/100\n",
            "\u001b[1m2000/2000\u001b[0m \u001b[32m━━━━━━━━━━━━━━━━━━━━\u001b[0m\u001b[37m\u001b[0m \u001b[1m5s\u001b[0m 2ms/step - accuracy: 0.0181 - loss: 5.1337\n",
            "Epoch 44/100\n",
            "\u001b[1m2000/2000\u001b[0m \u001b[32m━━━━━━━━━━━━━━━━━━━━\u001b[0m\u001b[37m\u001b[0m \u001b[1m6s\u001b[0m 3ms/step - accuracy: 0.0182 - loss: 5.1323\n",
            "Epoch 45/100\n",
            "\u001b[1m2000/2000\u001b[0m \u001b[32m━━━━━━━━━━━━━━━━━━━━\u001b[0m\u001b[37m\u001b[0m \u001b[1m5s\u001b[0m 2ms/step - accuracy: 0.0183 - loss: 5.1310\n",
            "Epoch 46/100\n",
            "\u001b[1m2000/2000\u001b[0m \u001b[32m━━━━━━━━━━━━━━━━━━━━\u001b[0m\u001b[37m\u001b[0m \u001b[1m6s\u001b[0m 3ms/step - accuracy: 0.0184 - loss: 5.1297\n",
            "Epoch 47/100\n",
            "\u001b[1m2000/2000\u001b[0m \u001b[32m━━━━━━━━━━━━━━━━━━━━\u001b[0m\u001b[37m\u001b[0m \u001b[1m5s\u001b[0m 2ms/step - accuracy: 0.0183 - loss: 5.1284\n",
            "Epoch 48/100\n",
            "\u001b[1m2000/2000\u001b[0m \u001b[32m━━━━━━━━━━━━━━━━━━━━\u001b[0m\u001b[37m\u001b[0m \u001b[1m6s\u001b[0m 3ms/step - accuracy: 0.0185 - loss: 5.1271\n",
            "Epoch 49/100\n",
            "\u001b[1m2000/2000\u001b[0m \u001b[32m━━━━━━━━━━━━━━━━━━━━\u001b[0m\u001b[37m\u001b[0m \u001b[1m10s\u001b[0m 2ms/step - accuracy: 0.0184 - loss: 5.1259\n",
            "Epoch 50/100\n",
            "\u001b[1m2000/2000\u001b[0m \u001b[32m━━━━━━━━━━━━━━━━━━━━\u001b[0m\u001b[37m\u001b[0m \u001b[1m5s\u001b[0m 3ms/step - accuracy: 0.0183 - loss: 5.1247\n",
            "Epoch 51/100\n",
            "\u001b[1m2000/2000\u001b[0m \u001b[32m━━━━━━━━━━━━━━━━━━━━\u001b[0m\u001b[37m\u001b[0m \u001b[1m5s\u001b[0m 2ms/step - accuracy: 0.0182 - loss: 5.1236\n",
            "Epoch 52/100\n",
            "\u001b[1m2000/2000\u001b[0m \u001b[32m━━━━━━━━━━━━━━━━━━━━\u001b[0m\u001b[37m\u001b[0m \u001b[1m6s\u001b[0m 3ms/step - accuracy: 0.0185 - loss: 5.1224\n",
            "Epoch 53/100\n",
            "\u001b[1m2000/2000\u001b[0m \u001b[32m━━━━━━━━━━━━━━━━━━━━\u001b[0m\u001b[37m\u001b[0m \u001b[1m10s\u001b[0m 3ms/step - accuracy: 0.0185 - loss: 5.1215\n",
            "Epoch 54/100\n",
            "\u001b[1m2000/2000\u001b[0m \u001b[32m━━━━━━━━━━━━━━━━━━━━\u001b[0m\u001b[37m\u001b[0m \u001b[1m5s\u001b[0m 3ms/step - accuracy: 0.0186 - loss: 5.1203\n",
            "Epoch 55/100\n",
            "\u001b[1m2000/2000\u001b[0m \u001b[32m━━━━━━━━━━━━━━━━━━━━\u001b[0m\u001b[37m\u001b[0m \u001b[1m5s\u001b[0m 2ms/step - accuracy: 0.0187 - loss: 5.1193\n",
            "Epoch 56/100\n",
            "\u001b[1m2000/2000\u001b[0m \u001b[32m━━━━━━━━━━━━━━━━━━━━\u001b[0m\u001b[37m\u001b[0m \u001b[1m6s\u001b[0m 3ms/step - accuracy: 0.0186 - loss: 5.1183\n",
            "Epoch 57/100\n",
            "\u001b[1m2000/2000\u001b[0m \u001b[32m━━━━━━━━━━━━━━━━━━━━\u001b[0m\u001b[37m\u001b[0m \u001b[1m5s\u001b[0m 2ms/step - accuracy: 0.0185 - loss: 5.1173\n",
            "Epoch 58/100\n",
            "\u001b[1m2000/2000\u001b[0m \u001b[32m━━━━━━━━━━━━━━━━━━━━\u001b[0m\u001b[37m\u001b[0m \u001b[1m6s\u001b[0m 3ms/step - accuracy: 0.0186 - loss: 5.1163\n",
            "Epoch 59/100\n",
            "\u001b[1m2000/2000\u001b[0m \u001b[32m━━━━━━━━━━━━━━━━━━━━\u001b[0m\u001b[37m\u001b[0m \u001b[1m5s\u001b[0m 2ms/step - accuracy: 0.0185 - loss: 5.1153\n",
            "Epoch 60/100\n",
            "\u001b[1m2000/2000\u001b[0m \u001b[32m━━━━━━━━━━━━━━━━━━━━\u001b[0m\u001b[37m\u001b[0m \u001b[1m6s\u001b[0m 3ms/step - accuracy: 0.0184 - loss: 5.1144\n",
            "Epoch 61/100\n",
            "\u001b[1m2000/2000\u001b[0m \u001b[32m━━━━━━━━━━━━━━━━━━━━\u001b[0m\u001b[37m\u001b[0m \u001b[1m5s\u001b[0m 2ms/step - accuracy: 0.0185 - loss: 5.1132\n",
            "Epoch 62/100\n",
            "\u001b[1m2000/2000\u001b[0m \u001b[32m━━━━━━━━━━━━━━━━━━━━\u001b[0m\u001b[37m\u001b[0m \u001b[1m5s\u001b[0m 2ms/step - accuracy: 0.0187 - loss: 5.1125\n",
            "Epoch 63/100\n",
            "\u001b[1m2000/2000\u001b[0m \u001b[32m━━━━━━━━━━━━━━━━━━━━\u001b[0m\u001b[37m\u001b[0m \u001b[1m6s\u001b[0m 3ms/step - accuracy: 0.0187 - loss: 5.1116\n",
            "Epoch 64/100\n",
            "\u001b[1m2000/2000\u001b[0m \u001b[32m━━━━━━━━━━━━━━━━━━━━\u001b[0m\u001b[37m\u001b[0m \u001b[1m10s\u001b[0m 3ms/step - accuracy: 0.0189 - loss: 5.1106\n",
            "Epoch 65/100\n",
            "\u001b[1m2000/2000\u001b[0m \u001b[32m━━━━━━━━━━━━━━━━━━━━\u001b[0m\u001b[37m\u001b[0m \u001b[1m5s\u001b[0m 2ms/step - accuracy: 0.0188 - loss: 5.1098\n",
            "Epoch 66/100\n",
            "\u001b[1m2000/2000\u001b[0m \u001b[32m━━━━━━━━━━━━━━━━━━━━\u001b[0m\u001b[37m\u001b[0m \u001b[1m6s\u001b[0m 3ms/step - accuracy: 0.0188 - loss: 5.1088\n",
            "Epoch 67/100\n",
            "\u001b[1m2000/2000\u001b[0m \u001b[32m━━━━━━━━━━━━━━━━━━━━\u001b[0m\u001b[37m\u001b[0m \u001b[1m5s\u001b[0m 2ms/step - accuracy: 0.0188 - loss: 5.1079\n",
            "Epoch 68/100\n",
            "\u001b[1m2000/2000\u001b[0m \u001b[32m━━━━━━━━━━━━━━━━━━━━\u001b[0m\u001b[37m\u001b[0m \u001b[1m5s\u001b[0m 2ms/step - accuracy: 0.0187 - loss: 5.1071\n",
            "Epoch 69/100\n",
            "\u001b[1m2000/2000\u001b[0m \u001b[32m━━━━━━━━━━━━━━━━━━━━\u001b[0m\u001b[37m\u001b[0m \u001b[1m6s\u001b[0m 3ms/step - accuracy: 0.0187 - loss: 5.1063\n",
            "Epoch 70/100\n",
            "\u001b[1m2000/2000\u001b[0m \u001b[32m━━━━━━━━━━━━━━━━━━━━\u001b[0m\u001b[37m\u001b[0m \u001b[1m10s\u001b[0m 5ms/step - accuracy: 0.0188 - loss: 5.1055\n",
            "Epoch 71/100\n",
            "\u001b[1m2000/2000\u001b[0m \u001b[32m━━━━━━━━━━━━━━━━━━━━\u001b[0m\u001b[37m\u001b[0m \u001b[1m7s\u001b[0m 3ms/step - accuracy: 0.0187 - loss: 5.1048\n",
            "Epoch 72/100\n",
            "\u001b[1m2000/2000\u001b[0m \u001b[32m━━━━━━━━━━━━━━━━━━━━\u001b[0m\u001b[37m\u001b[0m \u001b[1m8s\u001b[0m 4ms/step - accuracy: 0.0187 - loss: 5.1043\n",
            "Epoch 73/100\n",
            "\u001b[1m2000/2000\u001b[0m \u001b[32m━━━━━━━━━━━━━━━━━━━━\u001b[0m\u001b[37m\u001b[0m \u001b[1m8s\u001b[0m 3ms/step - accuracy: 0.0187 - loss: 5.1037\n",
            "Epoch 74/100\n",
            "\u001b[1m2000/2000\u001b[0m \u001b[32m━━━━━━━━━━━━━━━━━━━━\u001b[0m\u001b[37m\u001b[0m \u001b[1m10s\u001b[0m 2ms/step - accuracy: 0.0188 - loss: 5.1031\n",
            "Epoch 75/100\n",
            "\u001b[1m2000/2000\u001b[0m \u001b[32m━━━━━━━━━━━━━━━━━━━━\u001b[0m\u001b[37m\u001b[0m \u001b[1m6s\u001b[0m 3ms/step - accuracy: 0.0188 - loss: 5.1022\n",
            "Epoch 76/100\n",
            "\u001b[1m2000/2000\u001b[0m \u001b[32m━━━━━━━━━━━━━━━━━━━━\u001b[0m\u001b[37m\u001b[0m \u001b[1m5s\u001b[0m 2ms/step - accuracy: 0.0187 - loss: 5.1017\n",
            "Epoch 77/100\n",
            "\u001b[1m2000/2000\u001b[0m \u001b[32m━━━━━━━━━━━━━━━━━━━━\u001b[0m\u001b[37m\u001b[0m \u001b[1m6s\u001b[0m 3ms/step - accuracy: 0.0188 - loss: 5.1010\n",
            "Epoch 78/100\n",
            "\u001b[1m2000/2000\u001b[0m \u001b[32m━━━━━━━━━━━━━━━━━━━━\u001b[0m\u001b[37m\u001b[0m \u001b[1m5s\u001b[0m 2ms/step - accuracy: 0.0187 - loss: 5.1004\n",
            "Epoch 79/100\n",
            "\u001b[1m2000/2000\u001b[0m \u001b[32m━━━━━━━━━━━━━━━━━━━━\u001b[0m\u001b[37m\u001b[0m \u001b[1m5s\u001b[0m 2ms/step - accuracy: 0.0189 - loss: 5.0997\n",
            "Epoch 80/100\n",
            "\u001b[1m2000/2000\u001b[0m \u001b[32m━━━━━━━━━━━━━━━━━━━━\u001b[0m\u001b[37m\u001b[0m \u001b[1m5s\u001b[0m 3ms/step - accuracy: 0.0189 - loss: 5.0992\n",
            "Epoch 81/100\n",
            "\u001b[1m2000/2000\u001b[0m \u001b[32m━━━━━━━━━━━━━━━━━━━━\u001b[0m\u001b[37m\u001b[0m \u001b[1m5s\u001b[0m 2ms/step - accuracy: 0.0188 - loss: 5.0985\n",
            "Epoch 82/100\n",
            "\u001b[1m2000/2000\u001b[0m \u001b[32m━━━━━━━━━━━━━━━━━━━━\u001b[0m\u001b[37m\u001b[0m \u001b[1m6s\u001b[0m 3ms/step - accuracy: 0.0188 - loss: 5.0978\n",
            "Epoch 83/100\n",
            "\u001b[1m2000/2000\u001b[0m \u001b[32m━━━━━━━━━━━━━━━━━━━━\u001b[0m\u001b[37m\u001b[0m \u001b[1m5s\u001b[0m 3ms/step - accuracy: 0.0185 - loss: 5.0973\n",
            "Epoch 84/100\n",
            "\u001b[1m2000/2000\u001b[0m \u001b[32m━━━━━━━━━━━━━━━━━━━━\u001b[0m\u001b[37m\u001b[0m \u001b[1m6s\u001b[0m 3ms/step - accuracy: 0.0187 - loss: 5.0968\n",
            "Epoch 85/100\n",
            "\u001b[1m2000/2000\u001b[0m \u001b[32m━━━━━━━━━━━━━━━━━━━━\u001b[0m\u001b[37m\u001b[0m \u001b[1m5s\u001b[0m 3ms/step - accuracy: 0.0187 - loss: 5.0962\n",
            "Epoch 86/100\n",
            "\u001b[1m2000/2000\u001b[0m \u001b[32m━━━━━━━━━━━━━━━━━━━━\u001b[0m\u001b[37m\u001b[0m \u001b[1m6s\u001b[0m 3ms/step - accuracy: 0.0189 - loss: 5.0955\n",
            "Epoch 87/100\n",
            "\u001b[1m2000/2000\u001b[0m \u001b[32m━━━━━━━━━━━━━━━━━━━━\u001b[0m\u001b[37m\u001b[0m \u001b[1m10s\u001b[0m 3ms/step - accuracy: 0.0188 - loss: 5.0950\n",
            "Epoch 88/100\n",
            "\u001b[1m2000/2000\u001b[0m \u001b[32m━━━━━━━━━━━━━━━━━━━━\u001b[0m\u001b[37m\u001b[0m \u001b[1m6s\u001b[0m 3ms/step - accuracy: 0.0189 - loss: 5.0943\n",
            "Epoch 89/100\n",
            "\u001b[1m2000/2000\u001b[0m \u001b[32m━━━━━━━━━━━━━━━━━━━━\u001b[0m\u001b[37m\u001b[0m \u001b[1m5s\u001b[0m 2ms/step - accuracy: 0.0189 - loss: 5.0937\n",
            "Epoch 90/100\n",
            "\u001b[1m2000/2000\u001b[0m \u001b[32m━━━━━━━━━━━━━━━━━━━━\u001b[0m\u001b[37m\u001b[0m \u001b[1m6s\u001b[0m 3ms/step - accuracy: 0.0192 - loss: 5.0933\n",
            "Epoch 91/100\n",
            "\u001b[1m2000/2000\u001b[0m \u001b[32m━━━━━━━━━━━━━━━━━━━━\u001b[0m\u001b[37m\u001b[0m \u001b[1m5s\u001b[0m 2ms/step - accuracy: 0.0192 - loss: 5.0928\n",
            "Epoch 92/100\n",
            "\u001b[1m2000/2000\u001b[0m \u001b[32m━━━━━━━━━━━━━━━━━━━━\u001b[0m\u001b[37m\u001b[0m \u001b[1m6s\u001b[0m 3ms/step - accuracy: 0.0195 - loss: 5.0923\n",
            "Epoch 93/100\n",
            "\u001b[1m2000/2000\u001b[0m \u001b[32m━━━━━━━━━━━━━━━━━━━━\u001b[0m\u001b[37m\u001b[0m \u001b[1m10s\u001b[0m 2ms/step - accuracy: 0.0195 - loss: 5.0919\n",
            "Epoch 94/100\n",
            "\u001b[1m2000/2000\u001b[0m \u001b[32m━━━━━━━━━━━━━━━━━━━━\u001b[0m\u001b[37m\u001b[0m \u001b[1m6s\u001b[0m 3ms/step - accuracy: 0.0196 - loss: 5.0913\n",
            "Epoch 95/100\n",
            "\u001b[1m2000/2000\u001b[0m \u001b[32m━━━━━━━━━━━━━━━━━━━━\u001b[0m\u001b[37m\u001b[0m \u001b[1m5s\u001b[0m 2ms/step - accuracy: 0.0197 - loss: 5.0910\n",
            "Epoch 96/100\n",
            "\u001b[1m2000/2000\u001b[0m \u001b[32m━━━━━━━━━━━━━━━━━━━━\u001b[0m\u001b[37m\u001b[0m \u001b[1m6s\u001b[0m 3ms/step - accuracy: 0.0196 - loss: 5.0905\n",
            "Epoch 97/100\n",
            "\u001b[1m2000/2000\u001b[0m \u001b[32m━━━━━━━━━━━━━━━━━━━━\u001b[0m\u001b[37m\u001b[0m \u001b[1m5s\u001b[0m 2ms/step - accuracy: 0.0196 - loss: 5.0901\n",
            "Epoch 98/100\n",
            "\u001b[1m2000/2000\u001b[0m \u001b[32m━━━━━━━━━━━━━━━━━━━━\u001b[0m\u001b[37m\u001b[0m \u001b[1m5s\u001b[0m 3ms/step - accuracy: 0.0194 - loss: 5.0898\n",
            "Epoch 99/100\n",
            "\u001b[1m2000/2000\u001b[0m \u001b[32m━━━━━━━━━━━━━━━━━━━━\u001b[0m\u001b[37m\u001b[0m \u001b[1m10s\u001b[0m 2ms/step - accuracy: 0.0196 - loss: 5.0893\n",
            "Epoch 100/100\n",
            "\u001b[1m2000/2000\u001b[0m \u001b[32m━━━━━━━━━━━━━━━━━━━━\u001b[0m\u001b[37m\u001b[0m \u001b[1m6s\u001b[0m 3ms/step - accuracy: 0.0197 - loss: 5.0888\n"
          ]
        }
      ],
      "source": [
        "model, batch_size = best_mlp_id_opoi_1400_ascadr(nb_classes, input_size)\n",
        "nb_epochs = 100\n",
        "history = model.fit(x=X_profiling, y=Y_profiling, shuffle=True, batch_size=batch_size, verbose=1, epochs=nb_epochs)"
      ]
    },
    {
      "cell_type": "markdown",
      "metadata": {
        "id": "UCIpA5eS2U3V"
      },
      "source": [
        "A recommended option is to use a validation set to better evaluate and estimate the model's performance.\n",
        "\n",
        "This can be done like this:\n",
        "\n",
        "```\n",
        "validation_split = 0.1\n",
        "history = model.fit(x=X_profiling, y=Y_profiling, validation_split=validation_split, shuffle=True, batch_size=batch_size, verbose=1, epochs=nb_epochs)\n",
        "```"
      ]
    },
    {
      "cell_type": "markdown",
      "metadata": {
        "id": "PojqauNCt105"
      },
      "source": [
        "### Executing the Attack\n",
        "Second phase of (DL)SCA.\n",
        "\n",
        "The model is trained now, and we evaluate the performance of the profiling model by using SCA evaluation metrics, such as guessing entropy or success rate. Here, we provide the implementation of the guessing entropy.\n",
        "\n",
        "Following the definition of success rate from the tutorial paper, the GE implementation can be adapted to calculate the success rate instead."
      ]
    },
    {
      "cell_type": "code",
      "execution_count": null,
      "metadata": {
        "id": "i0GSaATluASP"
      },
      "outputs": [],
      "source": [
        "# Functions to calculate GE for a given number of attack traces\n",
        "def score_keys(predictions, plaintexts):\n",
        "  \"\"\"\n",
        "  Computes the scores for each key hypothesis\n",
        "  \"\"\"\n",
        "  scores_keys = np.zeros(256)\n",
        "  for k in range(256):\n",
        "    #Generate Hypothetical labels for a key candidate k\n",
        "    hypothetical_labels = AES_Sbox[plaintexts ^ k]\n",
        "    if leakage_model == \"HW\":\n",
        "      hypothetical_labels = calculate_HW(hypothetical_labels)\n",
        "\n",
        "    for i in range(predictions.shape[0]):\n",
        "      scores_keys[k] += predictions[i, hypothetical_labels[i]]\n",
        "  return scores_keys\n",
        "\n",
        "def guessing_entropy(predictions, plaintexts, correct_key, nb_traces, nb_attacks=100):\n",
        "  ranks = np.zeros(nb_attacks)\n",
        "  # Take log of probablities to sum later with small addition for numeric stability\n",
        "  predictions_log = np.log(predictions + 1e-36)\n",
        "\n",
        "  for attack in range(nb_attacks):\n",
        "    # Take random subset of traces\n",
        "    r = np.random.choice(\n",
        "            range(predictions_log.shape[0]), nb_traces, replace=False)\n",
        "\n",
        "    key_scores = score_keys(predictions_log[r], plaintexts[r])\n",
        "\n",
        "    order_keys = np.argsort(key_scores)[::-1]\n",
        "\n",
        "    ranks[attack] = np.where(order_keys == correct_key)[0][0]\n",
        "  return np.median(ranks), np.average(ranks)"
      ]
    },
    {
      "cell_type": "code",
      "execution_count": null,
      "metadata": {
        "colab": {
          "base_uri": "https://localhost:8080/"
        },
        "id": "vhsqHBS69g3T",
        "outputId": "c0c6f18e-3405-4fca-8413-f5db4e76cdf5"
      },
      "outputs": [
        {
          "name": "stdout",
          "output_type": "stream",
          "text": [
            "\u001b[1m3125/3125\u001b[0m \u001b[32m━━━━━━━━━━━━━━━━━━━━\u001b[0m\u001b[37m\u001b[0m \u001b[1m5s\u001b[0m 2ms/step\n"
          ]
        }
      ],
      "source": [
        "# First, we make a prediction with the trained model on the traces from the attack set (not used in the training).\n",
        "predictions = model.predict(X_attack)"
      ]
    },
    {
      "cell_type": "code",
      "execution_count": null,
      "metadata": {
        "colab": {
          "base_uri": "https://localhost:8080/"
        },
        "id": "QjD_TgdC9laM",
        "outputId": "d8f6cc9e-41cb-4d46-af1f-6cddc1257ba6"
      },
      "outputs": [
        {
          "name": "stdout",
          "output_type": "stream",
          "text": [
            "GE using median is 0.0, while using average, GE is 0.0.\n"
          ]
        }
      ],
      "source": [
        "target_byte = 2 # we attack the third key byte (which is 2 in 0-index array)\n",
        "correct_key = attack_metadata[\"key\"][0, target_byte] # 0 because it is fixed key so we just get the first in the array\n",
        "median_ge, avg_ge = guessing_entropy(predictions, attack_metadata[\"plaintext\"][:, target_byte], correct_key, nb_traces=1000)\n",
        "print(f\"GE using median is {median_ge}, while using average, GE is {avg_ge}.\")"
      ]
    },
    {
      "cell_type": "code",
      "execution_count": null,
      "metadata": {
        "colab": {
          "base_uri": "https://localhost:8080/"
        },
        "id": "7VSepjeCuE8c",
        "outputId": "9837c0a5-200a-4919-ea56-f1b44f2d2b5c"
      },
      "outputs": [
        {
          "name": "stdout",
          "output_type": "stream",
          "text": [
            "GE of 0.0 with 436 traces.\n"
          ]
        }
      ],
      "source": [
        "# Use the more common calculation of GE where the convergence is included, and GE is calculated for the increasing number of traces.\n",
        "# This function is defined in the Imports and Setup section.\n",
        "correct_key = attack_metadata[\"key\"][0, target_byte] # 0 because it is fixed key so we just get the first in the array\n",
        "medge, avgge = guessing_entropy_convergence(predictions, attack_metadata[\"plaintext\"][:, target_byte], correct_key, nb_traces=1000)\n",
        "print(f\"GE of {np.min(avgge)} with {np.argmin(avgge)} traces.\")"
      ]
    },
    {
      "cell_type": "code",
      "execution_count": null,
      "metadata": {
        "colab": {
          "base_uri": "https://localhost:8080/",
          "height": 463
        },
        "id": "LeiA7cN7HILN",
        "outputId": "d9c65be0-12c7-418d-f767-8f185d980564"
      },
      "outputs": [
        {
          "data": {
            "image/png": "[encoded data removed]",
            "text/plain": [
              "<Figure size 640x480 with 1 Axes>"
            ]
          },
          "metadata": {},
          "output_type": "display_data"
        }
      ],
      "source": [
        "# Common way to show GE convergence in related research papers.\n",
        "figure = plt.gcf()\n",
        "plt.rcParams.update({'font.size': 18})\n",
        "plt.plot(avgge, linewidth=1, label=f\"GE of {np.min(avgge)} with {np.argmin(avgge)} traces.\")\n",
        "plt.grid(True, which=\"both\", ls=\"-\")\n",
        "plt.xlabel(\"Number of Traces\", fontsize=12)\n",
        "plt.ylabel(\"Guessing Entropy\", fontsize=12)\n",
        "plt.ylim(0, 256)\n",
        "plt.legend()\n",
        "plt.tight_layout()"
      ]
    },
    {
      "cell_type": "markdown",
      "metadata": {
        "id": "yqogf0Ira9Ml"
      },
      "source": [
        "## Data Augmentation (DA)\n",
        "Here, we describe methods for implementing data augmentation techniques. We show how to add Gaussian noise and implement random shifts. The code here retrains the model from the previous section, *Fixed Model Training*, with added modifications to the original profiling data, supplemented with a data-augmentation training process.\n",
        "\n",
        "Thus, this section expects the code from sections *Imports and Setup*, *Downloading the Dataset*, and *Fixed Model Training* (only subsection *Models*) to be executed so that all variables and functions are defined and implemented for running the following DA code."
      ]
    },
    {
      "cell_type": "code",
      "execution_count": null,
      "metadata": {
        "colab": {
          "base_uri": "https://localhost:8080/"
        },
        "id": "tcJjPWh_qHGP",
        "outputId": "efca8215-de44-4fa5-95cb-3394457dce5e"
      },
      "outputs": [
        {
          "name": "stdout",
          "output_type": "stream",
          "text": [
            "seed random was 2770010422235544677\n",
            "seed np random was 512451064\n"
          ]
        },
        {
          "name": "stderr",
          "output_type": "stream",
          "text": [
            "/usr/local/lib/python3.10/dist-packages/keras/src/layers/core/dense.py:87: UserWarning: Do not pass an `input_shape`/`input_dim` argument to a layer. When using Sequential models, prefer using an `Input(shape)` object as the first layer in the model instead.\n",
            "  super().__init__(activity_regularizer=activity_regularizer, **kwargs)\n"
          ]
        },
        {
          "name": "stdout",
          "output_type": "stream",
          "text": [
            "\u001b[1m1000/1000\u001b[0m \u001b[32m━━━━━━━━━━━━━━━━━━━━\u001b[0m\u001b[37m\u001b[0m \u001b[1m5s\u001b[0m 3ms/step - accuracy: 0.0037 - loss: 5.5452\n",
            "\u001b[1m1000/1000\u001b[0m \u001b[32m━━━━━━━━━━━━━━━━━━━━\u001b[0m\u001b[37m\u001b[0m \u001b[1m2s\u001b[0m 2ms/step - accuracy: 0.0048 - loss: 5.5414\n",
            "\u001b[1m1000/1000\u001b[0m \u001b[32m━━━━━━━━━━━━━━━━━━━━\u001b[0m\u001b[37m\u001b[0m \u001b[1m3s\u001b[0m 3ms/step - accuracy: 0.0052 - loss: 5.5368\n",
            "\u001b[1m1000/1000\u001b[0m \u001b[32m━━━━━━━━━━━━━━━━━━━━\u001b[0m\u001b[37m\u001b[0m \u001b[1m2s\u001b[0m 2ms/step - accuracy: 0.0060 - loss: 5.5322\n",
            "\u001b[1m1000/1000\u001b[0m \u001b[32m━━━━━━━━━━━━━━━━━━━━\u001b[0m\u001b[37m\u001b[0m \u001b[1m3s\u001b[0m 3ms/step - accuracy: 0.0064 - loss: 5.5283\n",
            "\u001b[1m1000/1000\u001b[0m \u001b[32m━━━━━━━━━━━━━━━━━━━━\u001b[0m\u001b[37m\u001b[0m \u001b[1m2s\u001b[0m 2ms/step - accuracy: 0.0067 - loss: 5.5239\n",
            "\u001b[1m1000/1000\u001b[0m \u001b[32m━━━━━━━━━━━━━━━━━━━━\u001b[0m\u001b[37m\u001b[0m \u001b[1m3s\u001b[0m 3ms/step - accuracy: 0.0074 - loss: 5.5189\n",
            "\u001b[1m1000/1000\u001b[0m \u001b[32m━━━━━━━━━━━━━━━━━━━━\u001b[0m\u001b[37m\u001b[0m \u001b[1m2s\u001b[0m 2ms/step - accuracy: 0.0072 - loss: 5.5132\n",
            "\u001b[1m1000/1000\u001b[0m \u001b[32m━━━━━━━━━━━━━━━━━━━━\u001b[0m\u001b[37m\u001b[0m \u001b[1m3s\u001b[0m 3ms/step - accuracy: 0.0084 - loss: 5.4926\n",
            "\u001b[1m1000/1000\u001b[0m \u001b[32m━━━━━━━━━━━━━━━━━━━━\u001b[0m\u001b[37m\u001b[0m \u001b[1m2s\u001b[0m 2ms/step - accuracy: 0.0096 - loss: 5.4416\n",
            "\u001b[1m1000/1000\u001b[0m \u001b[32m━━━━━━━━━━━━━━━━━━━━\u001b[0m\u001b[37m\u001b[0m \u001b[1m3s\u001b[0m 3ms/step - accuracy: 0.0104 - loss: 5.4138\n",
            "\u001b[1m1000/1000\u001b[0m \u001b[32m━━━━━━━━━━━━━━━━━━━━\u001b[0m\u001b[37m\u001b[0m \u001b[1m2s\u001b[0m 2ms/step - accuracy: 0.0107 - loss: 5.3962\n",
            "\u001b[1m1000/1000\u001b[0m \u001b[32m━━━━━━━━━━━━━━━━━━━━\u001b[0m\u001b[37m\u001b[0m \u001b[1m2s\u001b[0m 2ms/step - accuracy: 0.0119 - loss: 5.3801\n",
            "\u001b[1m1000/1000\u001b[0m \u001b[32m━━━━━━━━━━━━━━━━━━━━\u001b[0m\u001b[37m\u001b[0m \u001b[1m2s\u001b[0m 2ms/step - accuracy: 0.0125 - loss: 5.3638\n",
            "\u001b[1m1000/1000\u001b[0m \u001b[32m━━━━━━━━━━━━━━━━━━━━\u001b[0m\u001b[37m\u001b[0m \u001b[1m3s\u001b[0m 3ms/step - accuracy: 0.0118 - loss: 5.3503\n",
            "\u001b[1m1000/1000\u001b[0m \u001b[32m━━━━━━━━━━━━━━━━━━━━\u001b[0m\u001b[37m\u001b[0m \u001b[1m2s\u001b[0m 2ms/step - accuracy: 0.0132 - loss: 5.3367\n",
            "\u001b[1m1000/1000\u001b[0m \u001b[32m━━━━━━━━━━━━━━━━━━━━\u001b[0m\u001b[37m\u001b[0m \u001b[1m3s\u001b[0m 3ms/step - accuracy: 0.0133 - loss: 5.3254\n",
            "\u001b[1m1000/1000\u001b[0m \u001b[32m━━━━━━━━━━━━━━━━━━━━\u001b[0m\u001b[37m\u001b[0m \u001b[1m2s\u001b[0m 2ms/step - accuracy: 0.0133 - loss: 5.3163\n",
            "\u001b[1m1000/1000\u001b[0m \u001b[32m━━━━━━━━━━━━━━━━━━━━\u001b[0m\u001b[37m\u001b[0m \u001b[1m2s\u001b[0m 2ms/step - accuracy: 0.0137 - loss: 5.3049\n",
            "\u001b[1m1000/1000\u001b[0m \u001b[32m━━━━━━━━━━━━━━━━━━━━\u001b[0m\u001b[37m\u001b[0m \u001b[1m2s\u001b[0m 2ms/step - accuracy: 0.0140 - loss: 5.2962\n",
            "\u001b[1m1000/1000\u001b[0m \u001b[32m━━━━━━━━━━━━━━━━━━━━\u001b[0m\u001b[37m\u001b[0m \u001b[1m2s\u001b[0m 2ms/step - accuracy: 0.0153 - loss: 5.2883\n",
            "\u001b[1m1000/1000\u001b[0m \u001b[32m━━━━━━━━━━━━━━━━━━━━\u001b[0m\u001b[37m\u001b[0m \u001b[1m2s\u001b[0m 2ms/step - accuracy: 0.0154 - loss: 5.2824\n",
            "\u001b[1m1000/1000\u001b[0m \u001b[32m━━━━━━━━━━━━━━━━━━━━\u001b[0m\u001b[37m\u001b[0m \u001b[1m2s\u001b[0m 2ms/step - accuracy: 0.0156 - loss: 5.2734\n",
            "\u001b[1m1000/1000\u001b[0m \u001b[32m━━━━━━━━━━━━━━━━━━━━\u001b[0m\u001b[37m\u001b[0m \u001b[1m3s\u001b[0m 3ms/step - accuracy: 0.0154 - loss: 5.2665\n",
            "\u001b[1m1000/1000\u001b[0m \u001b[32m━━━━━━━━━━━━━━━━━━━━\u001b[0m\u001b[37m\u001b[0m \u001b[1m2s\u001b[0m 2ms/step - accuracy: 0.0155 - loss: 5.2607\n",
            "\u001b[1m1000/1000\u001b[0m \u001b[32m━━━━━━━━━━━━━━━━━━━━\u001b[0m\u001b[37m\u001b[0m \u001b[1m3s\u001b[0m 3ms/step - accuracy: 0.0168 - loss: 5.2553\n",
            "\u001b[1m1000/1000\u001b[0m \u001b[32m━━━━━━━━━━━━━━━━━━━━\u001b[0m\u001b[37m\u001b[0m \u001b[1m2s\u001b[0m 2ms/step - accuracy: 0.0168 - loss: 5.2511\n",
            "\u001b[1m1000/1000\u001b[0m \u001b[32m━━━━━━━━━━━━━━━━━━━━\u001b[0m\u001b[37m\u001b[0m \u001b[1m2s\u001b[0m 2ms/step - accuracy: 0.0163 - loss: 5.2477\n",
            "\u001b[1m1000/1000\u001b[0m \u001b[32m━━━━━━━━━━━━━━━━━━━━\u001b[0m\u001b[37m\u001b[0m \u001b[1m2s\u001b[0m 2ms/step - accuracy: 0.0169 - loss: 5.2434\n",
            "\u001b[1m1000/1000\u001b[0m \u001b[32m━━━━━━━━━━━━━━━━━━━━\u001b[0m\u001b[37m\u001b[0m \u001b[1m2s\u001b[0m 2ms/step - accuracy: 0.0166 - loss: 5.2411\n",
            "\u001b[1m1000/1000\u001b[0m \u001b[32m━━━━━━━━━━━━━━━━━━━━\u001b[0m\u001b[37m\u001b[0m \u001b[1m2s\u001b[0m 2ms/step - accuracy: 0.0176 - loss: 5.2370\n",
            "\u001b[1m1000/1000\u001b[0m \u001b[32m━━━━━━━━━━━━━━━━━━━━\u001b[0m\u001b[37m\u001b[0m \u001b[1m2s\u001b[0m 2ms/step - accuracy: 0.0187 - loss: 5.2345\n",
            "\u001b[1m1000/1000\u001b[0m \u001b[32m━━━━━━━━━━━━━━━━━━━━\u001b[0m\u001b[37m\u001b[0m \u001b[1m3s\u001b[0m 3ms/step - accuracy: 0.0180 - loss: 5.2341\n",
            "\u001b[1m1000/1000\u001b[0m \u001b[32m━━━━━━━━━━━━━━━━━━━━\u001b[0m\u001b[37m\u001b[0m \u001b[1m2s\u001b[0m 2ms/step - accuracy: 0.0185 - loss: 5.2334\n",
            "\u001b[1m1000/1000\u001b[0m \u001b[32m━━━━━━━━━━━━━━━━━━━━\u001b[0m\u001b[37m\u001b[0m \u001b[1m2s\u001b[0m 2ms/step - accuracy: 0.0181 - loss: 5.2290\n",
            "\u001b[1m1000/1000\u001b[0m \u001b[32m━━━━━━━━━━━━━━━━━━━━\u001b[0m\u001b[37m\u001b[0m \u001b[1m2s\u001b[0m 2ms/step - accuracy: 0.0190 - loss: 5.2273\n",
            "\u001b[1m1000/1000\u001b[0m \u001b[32m━━━━━━━━━━━━━━━━━━━━\u001b[0m\u001b[37m\u001b[0m \u001b[1m3s\u001b[0m 3ms/step - accuracy: 0.0191 - loss: 5.2244\n",
            "\u001b[1m1000/1000\u001b[0m \u001b[32m━━━━━━━━━━━━━━━━━━━━\u001b[0m\u001b[37m\u001b[0m \u001b[1m2s\u001b[0m 2ms/step - accuracy: 0.0191 - loss: 5.2226\n",
            "\u001b[1m1000/1000\u001b[0m \u001b[32m━━━━━━━━━━━━━━━━━━━━\u001b[0m\u001b[37m\u001b[0m \u001b[1m3s\u001b[0m 3ms/step - accuracy: 0.0183 - loss: 5.2241\n",
            "\u001b[1m1000/1000\u001b[0m \u001b[32m━━━━━━━━━━━━━━━━━━━━\u001b[0m\u001b[37m\u001b[0m \u001b[1m2s\u001b[0m 2ms/step - accuracy: 0.0191 - loss: 5.2200\n",
            "\u001b[1m1000/1000\u001b[0m \u001b[32m━━━━━━━━━━━━━━━━━━━━\u001b[0m\u001b[37m\u001b[0m \u001b[1m3s\u001b[0m 3ms/step - accuracy: 0.0193 - loss: 5.2195\n",
            "\u001b[1m1000/1000\u001b[0m \u001b[32m━━━━━━━━━━━━━━━━━━━━\u001b[0m\u001b[37m\u001b[0m \u001b[1m2s\u001b[0m 2ms/step - accuracy: 0.0193 - loss: 5.2162\n",
            "\u001b[1m1000/1000\u001b[0m \u001b[32m━━━━━━━━━━━━━━━━━━━━\u001b[0m\u001b[37m\u001b[0m \u001b[1m3s\u001b[0m 3ms/step - accuracy: 0.0199 - loss: 5.2177\n",
            "\u001b[1m1000/1000\u001b[0m \u001b[32m━━━━━━━━━━━━━━━━━━━━\u001b[0m\u001b[37m\u001b[0m \u001b[1m2s\u001b[0m 2ms/step - accuracy: 0.0195 - loss: 5.2157\n",
            "\u001b[1m1000/1000\u001b[0m \u001b[32m━━━━━━━━━━━━━━━━━━━━\u001b[0m\u001b[37m\u001b[0m \u001b[1m3s\u001b[0m 3ms/step - accuracy: 0.0199 - loss: 5.2153\n",
            "\u001b[1m1000/1000\u001b[0m \u001b[32m━━━━━━━━━━━━━━━━━━━━\u001b[0m\u001b[37m\u001b[0m \u001b[1m2s\u001b[0m 2ms/step - accuracy: 0.0197 - loss: 5.2117\n",
            "\u001b[1m1000/1000\u001b[0m \u001b[32m━━━━━━━━━━━━━━━━━━━━\u001b[0m\u001b[37m\u001b[0m \u001b[1m3s\u001b[0m 3ms/step - accuracy: 0.0203 - loss: 5.2106\n",
            "\u001b[1m1000/1000\u001b[0m \u001b[32m━━━━━━━━━━━━━━━━━━━━\u001b[0m\u001b[37m\u001b[0m \u001b[1m2s\u001b[0m 2ms/step - accuracy: 0.0198 - loss: 5.2098\n",
            "\u001b[1m1000/1000\u001b[0m \u001b[32m━━━━━━━━━━━━━━━━━━━━\u001b[0m\u001b[37m\u001b[0m \u001b[1m3s\u001b[0m 2ms/step - accuracy: 0.0204 - loss: 5.2087\n",
            "\u001b[1m1000/1000\u001b[0m \u001b[32m━━━━━━━━━━━━━━━━━━━━\u001b[0m\u001b[37m\u001b[0m \u001b[1m2s\u001b[0m 2ms/step - accuracy: 0.0207 - loss: 5.2083\n",
            "\u001b[1m1000/1000\u001b[0m \u001b[32m━━━━━━━━━━━━━━━━━━━━\u001b[0m\u001b[37m\u001b[0m \u001b[1m2s\u001b[0m 2ms/step - accuracy: 0.0201 - loss: 5.2075\n",
            "\u001b[1m1000/1000\u001b[0m \u001b[32m━━━━━━━━━━━━━━━━━━━━\u001b[0m\u001b[37m\u001b[0m \u001b[1m2s\u001b[0m 2ms/step - accuracy: 0.0203 - loss: 5.2054\n",
            "\u001b[1m1000/1000\u001b[0m \u001b[32m━━━━━━━━━━━━━━━━━━━━\u001b[0m\u001b[37m\u001b[0m \u001b[1m2s\u001b[0m 2ms/step - accuracy: 0.0200 - loss: 5.2054\n",
            "\u001b[1m1000/1000\u001b[0m \u001b[32m━━━━━━━━━━━━━━━━━━━━\u001b[0m\u001b[37m\u001b[0m \u001b[1m2s\u001b[0m 2ms/step - accuracy: 0.0204 - loss: 5.2049\n",
            "\u001b[1m1000/1000\u001b[0m \u001b[32m━━━━━━━━━━━━━━━━━━━━\u001b[0m\u001b[37m\u001b[0m \u001b[1m2s\u001b[0m 2ms/step - accuracy: 0.0204 - loss: 5.2010\n",
            "\u001b[1m1000/1000\u001b[0m \u001b[32m━━━━━━━━━━━━━━━━━━━━\u001b[0m\u001b[37m\u001b[0m \u001b[1m3s\u001b[0m 3ms/step - accuracy: 0.0210 - loss: 5.2037\n",
            "\u001b[1m1000/1000\u001b[0m \u001b[32m━━━━━━━━━━━━━━━━━━━━\u001b[0m\u001b[37m\u001b[0m \u001b[1m2s\u001b[0m 2ms/step - accuracy: 0.0215 - loss: 5.2009\n",
            "\u001b[1m1000/1000\u001b[0m \u001b[32m━━━━━━━━━━━━━━━━━━━━\u001b[0m\u001b[37m\u001b[0m \u001b[1m3s\u001b[0m 3ms/step - accuracy: 0.0206 - loss: 5.2030\n",
            "\u001b[1m1000/1000\u001b[0m \u001b[32m━━━━━━━━━━━━━━━━━━━━\u001b[0m\u001b[37m\u001b[0m \u001b[1m2s\u001b[0m 2ms/step - accuracy: 0.0216 - loss: 5.1996\n",
            "\u001b[1m1000/1000\u001b[0m \u001b[32m━━━━━━━━━━━━━━━━━━━━\u001b[0m\u001b[37m\u001b[0m \u001b[1m3s\u001b[0m 3ms/step - accuracy: 0.0211 - loss: 5.2008\n",
            "\u001b[1m1000/1000\u001b[0m \u001b[32m━━━━━━━━━━━━━━━━━━━━\u001b[0m\u001b[37m\u001b[0m \u001b[1m2s\u001b[0m 2ms/step - accuracy: 0.0208 - loss: 5.1977\n",
            "\u001b[1m1000/1000\u001b[0m \u001b[32m━━━━━━━━━━━━━━━━━━━━\u001b[0m\u001b[37m\u001b[0m \u001b[1m3s\u001b[0m 3ms/step - accuracy: 0.0207 - loss: 5.1963\n",
            "\u001b[1m1000/1000\u001b[0m \u001b[32m━━━━━━━━━━━━━━━━━━━━\u001b[0m\u001b[37m\u001b[0m \u001b[1m2s\u001b[0m 2ms/step - accuracy: 0.0204 - loss: 5.1957\n",
            "\u001b[1m1000/1000\u001b[0m \u001b[32m━━━━━━━━━━━━━━━━━━━━\u001b[0m\u001b[37m\u001b[0m \u001b[1m3s\u001b[0m 3ms/step - accuracy: 0.0210 - loss: 5.1940\n",
            "\u001b[1m1000/1000\u001b[0m \u001b[32m━━━━━━━━━━━━━━━━━━━━\u001b[0m\u001b[37m\u001b[0m \u001b[1m2s\u001b[0m 2ms/step - accuracy: 0.0213 - loss: 5.1963\n",
            "\u001b[1m1000/1000\u001b[0m \u001b[32m━━━━━━━━━━━━━━━━━━━━\u001b[0m\u001b[37m\u001b[0m \u001b[1m3s\u001b[0m 3ms/step - accuracy: 0.0214 - loss: 5.1952\n",
            "\u001b[1m1000/1000\u001b[0m \u001b[32m━━━━━━━━━━━━━━━━━━━━\u001b[0m\u001b[37m\u001b[0m \u001b[1m2s\u001b[0m 2ms/step - accuracy: 0.0213 - loss: 5.1946\n",
            "\u001b[1m1000/1000\u001b[0m \u001b[32m━━━━━━━━━━━━━━━━━━━━\u001b[0m\u001b[37m\u001b[0m \u001b[1m3s\u001b[0m 3ms/step - accuracy: 0.0219 - loss: 5.1898\n",
            "\u001b[1m1000/1000\u001b[0m \u001b[32m━━━━━━━━━━━━━━━━━━━━\u001b[0m\u001b[37m\u001b[0m \u001b[1m2s\u001b[0m 2ms/step - accuracy: 0.0216 - loss: 5.1949\n",
            "\u001b[1m1000/1000\u001b[0m \u001b[32m━━━━━━━━━━━━━━━━━━━━\u001b[0m\u001b[37m\u001b[0m \u001b[1m3s\u001b[0m 3ms/step - accuracy: 0.0211 - loss: 5.1927\n",
            "\u001b[1m1000/1000\u001b[0m \u001b[32m━━━━━━━━━━━━━━━━━━━━\u001b[0m\u001b[37m\u001b[0m \u001b[1m2s\u001b[0m 2ms/step - accuracy: 0.0227 - loss: 5.1916\n",
            "\u001b[1m1000/1000\u001b[0m \u001b[32m━━━━━━━━━━━━━━━━━━━━\u001b[0m\u001b[37m\u001b[0m \u001b[1m3s\u001b[0m 3ms/step - accuracy: 0.0219 - loss: 5.1882\n",
            "\u001b[1m1000/1000\u001b[0m \u001b[32m━━━━━━━━━━━━━━━━━━━━\u001b[0m\u001b[37m\u001b[0m \u001b[1m2s\u001b[0m 2ms/step - accuracy: 0.0213 - loss: 5.1882\n",
            "\u001b[1m1000/1000\u001b[0m \u001b[32m━━━━━━━━━━━━━━━━━━━━\u001b[0m\u001b[37m\u001b[0m \u001b[1m3s\u001b[0m 3ms/step - accuracy: 0.0227 - loss: 5.1883\n",
            "\u001b[1m1000/1000\u001b[0m \u001b[32m━━━━━━━━━━━━━━━━━━━━\u001b[0m\u001b[37m\u001b[0m \u001b[1m2s\u001b[0m 2ms/step - accuracy: 0.0218 - loss: 5.1875\n",
            "\u001b[1m1000/1000\u001b[0m \u001b[32m━━━━━━━━━━━━━━━━━━━━\u001b[0m\u001b[37m\u001b[0m \u001b[1m3s\u001b[0m 3ms/step - accuracy: 0.0226 - loss: 5.1861\n",
            "\u001b[1m1000/1000\u001b[0m \u001b[32m━━━━━━━━━━━━━━━━━━━━\u001b[0m\u001b[37m\u001b[0m \u001b[1m2s\u001b[0m 2ms/step - accuracy: 0.0222 - loss: 5.1857\n",
            "\u001b[1m1000/1000\u001b[0m \u001b[32m━━━━━━━━━━━━━━━━━━━━\u001b[0m\u001b[37m\u001b[0m \u001b[1m2s\u001b[0m 2ms/step - accuracy: 0.0220 - loss: 5.1847\n",
            "\u001b[1m1000/1000\u001b[0m \u001b[32m━━━━━━━━━━━━━━━━━━━━\u001b[0m\u001b[37m\u001b[0m \u001b[1m2s\u001b[0m 2ms/step - accuracy: 0.0221 - loss: 5.1844\n",
            "\u001b[1m1000/1000\u001b[0m \u001b[32m━━━━━━━━━━━━━━━━━━━━\u001b[0m\u001b[37m\u001b[0m \u001b[1m2s\u001b[0m 2ms/step - accuracy: 0.0224 - loss: 5.1812\n",
            "\u001b[1m1000/1000\u001b[0m \u001b[32m━━━━━━━━━━━━━━━━━━━━\u001b[0m\u001b[37m\u001b[0m \u001b[1m2s\u001b[0m 2ms/step - accuracy: 0.0222 - loss: 5.1831\n",
            "\u001b[1m1000/1000\u001b[0m \u001b[32m━━━━━━━━━━━━━━━━━━━━\u001b[0m\u001b[37m\u001b[0m \u001b[1m2s\u001b[0m 2ms/step - accuracy: 0.0233 - loss: 5.1836\n",
            "\u001b[1m1000/1000\u001b[0m \u001b[32m━━━━━━━━━━━━━━━━━━━━\u001b[0m\u001b[37m\u001b[0m \u001b[1m3s\u001b[0m 3ms/step - accuracy: 0.0226 - loss: 5.1836\n",
            "\u001b[1m1000/1000\u001b[0m \u001b[32m━━━━━━━━━━━━━━━━━━━━\u001b[0m\u001b[37m\u001b[0m \u001b[1m2s\u001b[0m 2ms/step - accuracy: 0.0224 - loss: 5.1822\n",
            "\u001b[1m1000/1000\u001b[0m \u001b[32m━━━━━━━━━━━━━━━━━━━━\u001b[0m\u001b[37m\u001b[0m \u001b[1m3s\u001b[0m 3ms/step - accuracy: 0.0223 - loss: 5.1824\n",
            "\u001b[1m1000/1000\u001b[0m \u001b[32m━━━━━━━━━━━━━━━━━━━━\u001b[0m\u001b[37m\u001b[0m \u001b[1m2s\u001b[0m 2ms/step - accuracy: 0.0217 - loss: 5.1809\n",
            "\u001b[1m1000/1000\u001b[0m \u001b[32m━━━━━━━━━━━━━━━━━━━━\u001b[0m\u001b[37m\u001b[0m \u001b[1m3s\u001b[0m 3ms/step - accuracy: 0.0225 - loss: 5.1800\n",
            "\u001b[1m1000/1000\u001b[0m \u001b[32m━━━━━━━━━━━━━━━━━━━━\u001b[0m\u001b[37m\u001b[0m \u001b[1m2s\u001b[0m 2ms/step - accuracy: 0.0230 - loss: 5.1822\n",
            "\u001b[1m1000/1000\u001b[0m \u001b[32m━━━━━━━━━━━━━━━━━━━━\u001b[0m\u001b[37m\u001b[0m \u001b[1m3s\u001b[0m 3ms/step - accuracy: 0.0234 - loss: 5.1785\n",
            "\u001b[1m1000/1000\u001b[0m \u001b[32m━━━━━━━━━━━━━━━━━━━━\u001b[0m\u001b[37m\u001b[0m \u001b[1m2s\u001b[0m 2ms/step - accuracy: 0.0232 - loss: 5.1767\n",
            "\u001b[1m1000/1000\u001b[0m \u001b[32m━━━━━━━━━━━━━━━━━━━━\u001b[0m\u001b[37m\u001b[0m \u001b[1m2s\u001b[0m 2ms/step - accuracy: 0.0230 - loss: 5.1775\n",
            "\u001b[1m1000/1000\u001b[0m \u001b[32m━━━━━━━━━━━━━━━━━━━━\u001b[0m\u001b[37m\u001b[0m \u001b[1m2s\u001b[0m 2ms/step - accuracy: 0.0231 - loss: 5.1762\n",
            "\u001b[1m1000/1000\u001b[0m \u001b[32m━━━━━━━━━━━━━━━━━━━━\u001b[0m\u001b[37m\u001b[0m \u001b[1m3s\u001b[0m 3ms/step - accuracy: 0.0231 - loss: 5.1777\n",
            "\u001b[1m1000/1000\u001b[0m \u001b[32m━━━━━━━━━━━━━━━━━━━━\u001b[0m\u001b[37m\u001b[0m \u001b[1m2s\u001b[0m 2ms/step - accuracy: 0.0237 - loss: 5.1768\n",
            "\u001b[1m1000/1000\u001b[0m \u001b[32m━━━━━━━━━━━━━━━━━━━━\u001b[0m\u001b[37m\u001b[0m \u001b[1m3s\u001b[0m 3ms/step - accuracy: 0.0232 - loss: 5.1752\n",
            "\u001b[1m1000/1000\u001b[0m \u001b[32m━━━━━━━━━━━━━━━━━━━━\u001b[0m\u001b[37m\u001b[0m \u001b[1m2s\u001b[0m 2ms/step - accuracy: 0.0233 - loss: 5.1753\n",
            "\u001b[1m1000/1000\u001b[0m \u001b[32m━━━━━━━━━━━━━━━━━━━━\u001b[0m\u001b[37m\u001b[0m \u001b[1m3s\u001b[0m 3ms/step - accuracy: 0.0230 - loss: 5.1752\n",
            "\u001b[1m1000/1000\u001b[0m \u001b[32m━━━━━━━━━━━━━━━━━━━━\u001b[0m\u001b[37m\u001b[0m \u001b[1m2s\u001b[0m 2ms/step - accuracy: 0.0234 - loss: 5.1728\n",
            "\u001b[1m1000/1000\u001b[0m \u001b[32m━━━━━━━━━━━━━━━━━━━━\u001b[0m\u001b[37m\u001b[0m \u001b[1m3s\u001b[0m 3ms/step - accuracy: 0.0234 - loss: 5.1742\n",
            "\u001b[1m1000/1000\u001b[0m \u001b[32m━━━━━━━━━━━━━━━━━━━━\u001b[0m\u001b[37m\u001b[0m \u001b[1m2s\u001b[0m 2ms/step - accuracy: 0.0235 - loss: 5.1733\n"
          ]
        }
      ],
      "source": [
        "# set a random seed for reproducibility (running with the given numbers should lead to the same results)\n",
        "seed = 2770010422235544677 #random.randrange(sys.maxsize)\n",
        "random.seed(seed)\n",
        "# print('seed random was', seed)\n",
        "seed = 512451064 #random.randrange(2**32 - 1)\n",
        "np.random.seed(seed)\n",
        "# print('seed np random was', seed)\n",
        "\n",
        "# Adding Gaussian noise\n",
        "def data_augmentation_noise(orig_x_prof, num_repeats=2, std=0.01):\n",
        "  # create copy of original\n",
        "  new_x_prof = orig_x_prof.copy()\n",
        "  nb_orig_traces = len(orig_x_prof)\n",
        "\n",
        "  # repeat it n times\n",
        "  new_x_prof = np.tile(new_x_prof, (num_repeats, 1))\n",
        "\n",
        "  # add gaussian noise to added traces (original traces remain without additional noise)\n",
        "  new_x_prof[nb_orig_traces:] += np.random.normal(0, std, new_x_prof[nb_orig_traces:].shape)\n",
        "  return new_x_prof\n",
        "\n",
        "# Adding random shifts\n",
        "def data_augmentation_shift(orig_x_prof, num_repeats=2, max_shift=10):\n",
        "  # create copy of original\n",
        "  new_x_prof = orig_x_prof.copy()\n",
        "  nb_orig_traces = len(orig_x_prof)\n",
        "\n",
        "  # repeat it n times\n",
        "  new_x_prof = np.tile(new_x_prof, (num_repeats, 1))\n",
        "\n",
        "  # shift each trace randomly using np roll function\n",
        "  for i in range(len(new_x_prof[nb_orig_traces:])):\n",
        "    shift = random.randint(-max_shift, max_shift)\n",
        "    new_x_prof[nb_orig_traces+i] = np.roll(new_x_prof[nb_orig_traces+i], shift)\n",
        "  return new_x_prof\n",
        "\n",
        "nb_epochs = 100\n",
        "n_repeats = 2\n",
        "\n",
        "# Define model\n",
        "model, batch_size = best_mlp_id_opoi_1400_ascadr(nb_classes, input_size)\n",
        "nb_prof_traces = 50000\n",
        "X_prof = X_profiling[:nb_prof_traces]\n",
        "Y_prof = Y_profiling[:nb_prof_traces]\n",
        "\n",
        "# Repeat the data n times using tile\n",
        "Y_prof = np.tile(Y_prof, (n_repeats, 1))\n",
        "\n",
        "for i in range(nb_epochs):\n",
        "  new_x = data_augmentation_shift(X_prof, num_repeats=n_repeats)\n",
        "  model.fit(x=new_x, y=Y_prof, shuffle=True, batch_size=batch_size, verbose=1, epochs=1)\n",
        "  gc.collect()"
      ]
    },
    {
      "cell_type": "code",
      "execution_count": null,
      "metadata": {
        "colab": {
          "base_uri": "https://localhost:8080/",
          "height": 522
        },
        "id": "9kMq38TS98GA",
        "outputId": "12f3e554-a91f-478b-dcb8-175b31f79a3d"
      },
      "outputs": [
        {
          "name": "stdout",
          "output_type": "stream",
          "text": [
            "\u001b[1m3125/3125\u001b[0m \u001b[32m━━━━━━━━━━━━━━━━━━━━\u001b[0m\u001b[37m\u001b[0m \u001b[1m5s\u001b[0m 1ms/step\n",
            "GE of 0.17 with 987 traces.\n"
          ]
        },
        {
          "data": {
            "image/png": "[encoded data removed]",
            "text/plain": [
              "<Figure size 640x480 with 1 Axes>"
            ]
          },
          "metadata": {},
          "output_type": "display_data"
        }
      ],
      "source": [
        "# Code cell that evaluates the DA training and plots the GE convergence.\n",
        "predictions = model.predict(X_attack)\n",
        "target_byte = 2\n",
        "correct_key = attack_metadata[\"key\"][0, target_byte]\n",
        "medge, avgge = guessing_entropy_convergence(predictions, attack_metadata[\"plaintext\"][:, target_byte], correct_key, 1000)\n",
        "print(f\"GE of {np.min(avgge)} with {np.argmin(avgge)} traces.\")\n",
        "figure = plt.gcf()\n",
        "plt.plot(avgge, linewidth=1, label=\"GE\")\n",
        "plt.grid(True, which=\"both\", ls=\"-\")\n",
        "plt.xlabel(\"Traces\", fontsize=12)\n",
        "plt.ylabel(\"Guessing Entropy\", fontsize=12)\n",
        "plt.ylim(0, 256)\n",
        "plt.legend()\n",
        "plt.tight_layout()"
      ]
    },
    {
      "cell_type": "markdown",
      "metadata": {
        "id": "PsrsT7DFC2j1"
      },
      "source": [
        "## Explainability\n",
        "In this section, we show basic visualization techniques that can indicate what points in the trace contribute to the network predictions. We further compute the Signal-to-Noise ratio for various secret shares related to the target intermediate value and match the leakage of these shares to the visualizations for the network.\n",
        "\n",
        "Note that this code relies on the model from the above steps being trained (expects the previous sections to be executed before running cells in this section). The gradient visualization is from:\n",
        "\n",
        "Masure, L., Dumas, C., & Prouff, E. (2019). Gradient visualization for general characterization in profiling attacks. In Constructive Side-Channel Analysis and Secure Design: 10th International Workshop, COSADE 2019, Darmstadt, Germany, April 3–5, 2019, Proceedings 10 (pp. 145-167). Springer International Publishing."
      ]
    },
    {
      "cell_type": "code",
      "execution_count": null,
      "metadata": {
        "id": "Va_FnjPyAZ3B"
      },
      "outputs": [],
      "source": [
        "# Function that calculates the Signal-to-Noise ratio (SNR).\n",
        "def snr_fast(x, y):\n",
        "    ns = x.shape[1]\n",
        "    unique = np.unique(y)\n",
        "    means = np.zeros((len(unique), ns))\n",
        "    variances = np.zeros((len(unique), ns))\n",
        "\n",
        "    # For each class compute the mean and the variance at each index of trace\n",
        "    for i, u in enumerate(unique):\n",
        "        new_x = x[np.argwhere(y == int(u))]\n",
        "        means[i] = np.mean(new_x, axis=0)\n",
        "        variances[i] = np.var(new_x, axis=0)\n",
        "    return np.var(means, axis=0) / np.mean(variances, axis=0)"
      ]
    },
    {
      "cell_type": "code",
      "execution_count": null,
      "metadata": {
        "colab": {
          "base_uri": "https://localhost:8080/",
          "height": 588
        },
        "id": "AbDCycpIuFCq",
        "outputId": "2d98fde0-6f52-4871-a1e4-2b8a8f061934"
      },
      "outputs": [
        {
          "data": {
            "image/png": "[encoded data removed]",
            "text/plain": [
              "<Figure size 800x600 with 2 Axes>"
            ]
          },
          "metadata": {},
          "output_type": "display_data"
        }
      ],
      "source": [
        "# Finding leakage and input visualization\n",
        "def gradient_vis(x, y):\n",
        "  x_tf = tf.Variable(x)\n",
        "  with tf.GradientTape() as tape:\n",
        "    tape.watch(x_tf)\n",
        "    pred = model(x_tf, training=False)\n",
        "    loss = tf.keras.losses.CategoricalCrossentropy()(y, pred)\n",
        "\n",
        "  grads = tape.gradient(loss, x_tf)\n",
        "  dgrad_abs = tf.math.abs(grads)\n",
        "\n",
        "  return np.median(dgrad_abs.numpy(), axis=0)\n",
        "\n",
        "nb_traces_snr_comp = 20000\n",
        "\n",
        "# Remove final dimension for CNN reshapes\n",
        "if len(X_attack.shape) > 2:\n",
        "  X_attack = X_attack[:, :, 0]\n",
        "\n",
        "#Define intermediate variable shares using masking randomness\n",
        "masks = attack_metadata[\"masks\"][:, target_byte].astype(np.uint8)\n",
        "masked_sbox = AES_Sbox[attack_metadata[\"plaintext\"][:, target_byte].astype(np.uint8) ^ attack_metadata[\"key\"][:, target_byte].astype(np.uint8)]^ masks\n",
        "\n",
        "\n",
        "masks_out = attack_metadata[\"masks\"][:, 17].astype(np.uint8)\n",
        "masked_sbox_out = AES_Sbox[attack_metadata[\"plaintext\"][:, target_byte].astype(np.uint8) ^ attack_metadata[\"key\"][:, target_byte].astype(np.uint8)]^ masks_out\n",
        "\n",
        "\n",
        "masks_in = attack_metadata[\"masks\"][:, 16].astype(np.uint8)\n",
        "masked_sbox_in =attack_metadata[\"plaintext\"][:, target_byte].astype(np.uint8) ^ attack_metadata[\"key\"][:, target_byte].astype(np.uint8)^ masks_in\n",
        "\n",
        "#Compute Signal-to-Noise ratios for each intermediate value share\n",
        "mask_snr_out = snr_fast(X_attack[:nb_traces_snr_comp], masks_out[:nb_traces_snr_comp])\n",
        "masked_sbox_out_snr = snr_fast(X_attack[:nb_traces_snr_comp], masked_sbox_out[:nb_traces_snr_comp])\n",
        "mask_snr = snr_fast(X_attack[:nb_traces_snr_comp], masks[:nb_traces_snr_comp])\n",
        "masked_sbox_snr = snr_fast(X_attack[:nb_traces_snr_comp], masked_sbox[:nb_traces_snr_comp])\n",
        "mask_snr_in = snr_fast(X_attack[:nb_traces_snr_comp], masks_in[:nb_traces_snr_comp])\n",
        "masked_sbox_in_snr = snr_fast(X_attack[:nb_traces_snr_comp], masked_sbox_in[:nb_traces_snr_comp])\n",
        "\n",
        "#Compute gradients visualizations for intermediag\n",
        "if len(Y_attack.shape) == 1:\n",
        "  grads = gradient_vis(X_attack[:nb_traces_snr_comp], to_categorical(Y_attack[:nb_traces_snr_comp], nb_classes))\n",
        "else:\n",
        "  grads = gradient_vis(X_attack[:nb_traces_snr_comp], Y_attack[:nb_traces_snr_comp])\n",
        "\n",
        "#Plot gradients with SNRs\n",
        "plt.rcParams.update({'font.size': 16})\n",
        "plt.figure(figsize=(8, 6))\n",
        "plt.subplot(2, 1, 1)\n",
        "plt.plot(mask_snr_in, label=\"$r_{in}$\")\n",
        "plt.plot(masked_sbox_in_snr/5, label=\"$p_2 \\oplus k_2 \\oplus r_{in}$\")\n",
        "plt.plot(mask_snr_out, label=\"$r_{out}$\")\n",
        "plt.plot(mask_snr, label=\"$r_{2}$\")\n",
        "plt.plot(masked_sbox_out_snr, label=\"$SBox[p_2 \\oplus k_2] \\oplus r_{out}$\")\n",
        "plt.plot(masked_sbox_snr, label=\"$SBox[p_2 \\oplus k_2] \\oplus r_2$\")\n",
        "plt.legend(ncol=3, loc=0)\n",
        "plt.grid()\n",
        "plt.ylabel(\"SNR\")\n",
        "plt.xlim([0,1400])\n",
        "plt.xlabel(\"Samples\")\n",
        "plt.subplot(2, 1, 2)\n",
        "plt.plot(grads/np.max(grads), label=\"Gradient\")\n",
        "plt.legend(loc=0)\n",
        "plt.ylabel(\"Gradient Values\")\n",
        "plt.grid()\n",
        "plt.xlim([0,1400])\n",
        "plt.xlabel(\"Samples\")\n",
        "plt.tight_layout()\n",
        "\n",
        "plt.show()"
      ]
    },
    {
      "cell_type": "markdown",
      "metadata": {
        "id": "-s7qQitNDdG2"
      },
      "source": [
        "## Hyperparameter search\n",
        "Here, we include an example of how to perform a hyperparameter search. We utilize a random search here with ranges from Perin, G., Wu, L., & Picek, S. (2022). Exploring feature selection scenarios for deep learning-based side-channel analysis. IACR Transactions on Cryptographic Hardware and Embedded Systems, 2022(4), 828-861.\n",
        "\n",
        "Note that we download the fixed key variant of ASCAD as it is smaller, which allows for faster individual model training. Also, since we use a different data set, only the *Imports and Setup* section has to be successfully executed before running code cells in this section."
      ]
    },
    {
      "cell_type": "code",
      "execution_count": null,
      "metadata": {
        "colab": {
          "base_uri": "https://localhost:8080/"
        },
        "id": "UWmx7m7nno1Z",
        "outputId": "8d5b33e9-8640-4b87-f557-89efa8acf1b4"
      },
      "outputs": [
        {
          "name": "stdout",
          "output_type": "stream",
          "text": [
            "--2025-01-06 09:28:05--  https://www.data.gouv.fr/s/resources/ascad/20180530-163000/ASCAD_data.zip\n",
            "Resolving www.data.gouv.fr (www.data.gouv.fr)... 37.59.183.91, 37.59.183.73\n",
            "Connecting to www.data.gouv.fr (www.data.gouv.fr)|37.59.183.91|:443... connected.\n",
            "HTTP request sent, awaiting response... 200 OK\n",
            "Length: 4435199469 (4.1G) [application/zip]\n",
            "Saving to: ‘ASCAD_data.zip’\n",
            "\n",
            "ASCAD_data.zip      100%[===================>]   4.13G  20.3MB/s    in 3m 41s  \n",
            "\n",
            "2025-01-06 09:31:48 (19.1 MB/s) - ‘ASCAD_data.zip’ saved [4435199469/4435199469]\n",
            "\n",
            "Archive:  ASCAD_data.zip\n",
            "   creating: ASCAD_data/\n",
            "   creating: ASCAD_data/ASCAD_databases/\n",
            "  inflating: ASCAD_data/ASCAD_databases/ASCAD.h5  \n",
            "  inflating: ASCAD_data/ASCAD_databases/ASCAD_desync100.h5  \n",
            "  inflating: ASCAD_data/ASCAD_databases/ASCAD_desync50.h5  \n",
            "  inflating: ASCAD_data/ASCAD_databases/ATMega8515_raw_traces.h5  \n",
            "   creating: ASCAD_data/ASCAD_trained_models/\n",
            "  inflating: ASCAD_data/ASCAD_trained_models/cnn_best_ascad_desync0_epochs75_classes256_batchsize200.h5  \n",
            "  inflating: ASCAD_data/ASCAD_trained_models/cnn_best_ascad_desync100_epochs75_classes256_batchsize200.h5  \n",
            "  inflating: ASCAD_data/ASCAD_trained_models/cnn_best_ascad_desync50_epochs75_classes256_batchsize200.h5  \n",
            "  inflating: ASCAD_data/ASCAD_trained_models/mlp_best_ascad_desync0_node200_layernb6_epochs200_classes256_batchsize100.h5  \n",
            "  inflating: ASCAD_data/ASCAD_trained_models/mlp_best_ascad_desync100_node200_layernb6_epochs200_classes256_batchsize100.h5  \n",
            "  inflating: ASCAD_data/ASCAD_trained_models/mlp_best_ascad_desync50_node200_layernb6_epochs200_classes256_batchsize100.h5  \n"
          ]
        }
      ],
      "source": [
        "!wget https://www.data.gouv.fr/s/resources/ascad/20180530-163000/ASCAD_data.zip\n",
        "!unzip ASCAD_data.zip"
      ]
    },
    {
      "cell_type": "code",
      "execution_count": null,
      "metadata": {
        "id": "w-tZ4NHUl8K1"
      },
      "outputs": [],
      "source": [
        "# Load fixed dataset\n",
        "ascad_dataset = '/content/ASCAD_data/ASCAD_databases/ASCAD.h5'\n",
        "(X_profiling, Y_profiling), (X_attack, Y_attack), (profiling_metadata, attack_metadata) = load_ascad(ascad_dataset, load_metadata=True)\n",
        "scaler = StandardScaler()\n",
        "X_profiling = scaler.fit_transform(X_profiling)\n",
        "X_attack = scaler.transform(X_attack)\n",
        "leakage_model = 'ID'\n",
        "if leakage_model == 'HW':\n",
        "  nb_classes = 9\n",
        "elif leakage_model == 'ID':\n",
        "  nb_classes = 256\n",
        "if leakage_model == 'HW':\n",
        "  Y_profiling = calculate_HW(Y_profiling)\n",
        "  Y_attack = calculate_HW(Y_attack)\n",
        "Y_profiling= to_categorical(Y_profiling, num_classes=nb_classes)\n",
        "Y_attack= to_categorical(Y_attack, num_classes=nb_classes)\n",
        "target_byte=2"
      ]
    },
    {
      "cell_type": "code",
      "execution_count": null,
      "metadata": {
        "id": "u-c0SnjBuFGJ"
      },
      "outputs": [],
      "source": [
        "# The ranges are taken from Perin, Guilherme, Lichao Wu, and Stjepan Picek.\n",
        "# \"Exploring feature selection scenarios for deep learning-based side-channel analysis.\"\n",
        "# IACR Transactions on Cryptographic Hardware and Embedded Systems 2022.4 (2022): 828-861.\n",
        "# Their implementation is available on GitHub https://github.com/AISyLab/feature_selection_dlsca/tree/master\n",
        "# with more extensive ranges that additionally include regularization methods.\n",
        "def get_hyperparameters_mlp(max_dense_layers=8):\n",
        "  return {\n",
        "      \"batch_size\": random.randrange(100, 1100, 100),\n",
        "      \"layers\": random.randrange(1, max_dense_layers + 1, 1),\n",
        "      \"neurons\": random.choice([10, 20, 50, 100, 200, 300, 400, 500]),\n",
        "      \"activation\": random.choice([\"relu\", \"selu\"]),\n",
        "      \"learning_rate\": random.choice([0.005, 0.001, 0.0005, 0.0001]),\n",
        "      \"optimizer\": random.choice([\"Adam\", \"RMSprop\"]),\n",
        "      \"kernel_initializer\": random.choice([\"random_uniform\", \"glorot_uniform\", \"he_uniform\"]),\n",
        "      \"regularization\": random.choice([\"none\"])\n",
        "  }\n",
        "\n",
        "def get_hyperparemeters_cnn(max_conv_layers=4, max_dense_layers=4):\n",
        "    hyperparameters = {}\n",
        "    hyperparameters_mlp = get_hyperparameters_mlp(max_dense_layers)\n",
        "    for key, value in hyperparameters_mlp.items():\n",
        "        hyperparameters[key] = value\n",
        "\n",
        "    conv_layers = random.choice(range(1, max_conv_layers))\n",
        "    kernels = []\n",
        "    strides = []\n",
        "    filters = []\n",
        "    pooling_types = []\n",
        "    pooling_sizes = []\n",
        "    pooling_strides = []\n",
        "    pooling_type = random.choice([\"Average\", \"Max\"])\n",
        "\n",
        "    for conv_layer in range(1, conv_layers + 1):\n",
        "        kernel = random.randrange(26, 52, 2)\n",
        "        kernels.append(kernel)\n",
        "        strides.append(int(kernel / 2))\n",
        "        if conv_layer == 1:\n",
        "            filters.append(random.choice([4, 8, 12, 16]))\n",
        "        else:\n",
        "            filters.append(filters[conv_layer - 2] * 2)\n",
        "        pool_size = random.choice([2, 4, 6, 8, 10])\n",
        "        pooling_sizes.append(pool_size)\n",
        "        pooling_strides.append(pool_size)\n",
        "        pooling_types.append(pooling_type)\n",
        "\n",
        "    hyperparameters[\"conv_layers\"] = conv_layers\n",
        "    hyperparameters[\"kernels\"] = kernels\n",
        "    hyperparameters[\"strides\"] = strides\n",
        "    hyperparameters[\"filters\"] = filters\n",
        "    hyperparameters[\"pooling_sizes\"] = pooling_sizes\n",
        "    hyperparameters[\"pooling_strides\"] = pooling_strides\n",
        "    hyperparameters[\"pooling_types\"] = pooling_types\n",
        "    return hyperparameters\n",
        "\n",
        "\n",
        "def get_optimizer(optimizer, learning_rate):\n",
        "    module_name = importlib.import_module(\"tensorflow.keras.optimizers\")\n",
        "    optimizer_class = getattr(module_name, optimizer)\n",
        "    return optimizer_class(learning_rate=learning_rate)\n",
        "\n",
        "\n",
        "# Function that uses the random hyperparameters or those given as an argument to create an MLP model.\n",
        "def mlp_random(classes, input_size, hp=None):\n",
        "    hp = get_hyperparameters_mlp() if hp is None else hp\n",
        "\n",
        "    inputs = Input(shape=(input_size, ))\n",
        "\n",
        "    x = None\n",
        "    for layer_index in range(hp[\"layers\"]):\n",
        "        x = Dense(hp[\"neurons\"], activation=hp[\"activation\"], kernel_initializer=hp[\"kernel_initializer\"],\n",
        "                      name='dense_{}'.format(layer_index))(inputs if layer_index == 0 else x)\n",
        "\n",
        "    outputs = Dense(classes, activation='softmax', name='predictions')(x)\n",
        "\n",
        "    model = Model(inputs, outputs, name='random_mlp')\n",
        "    optimizer = get_optimizer(hp[\"optimizer\"], hp[\"learning_rate\"])\n",
        "    model.compile(loss='categorical_crossentropy', optimizer=optimizer, metrics=['accuracy'])\n",
        "    return model, hp\n",
        "\n",
        "# Function that uses the random hyperparameters or those given as an argument to create a CNN model.\n",
        "def cnn_random(classes, input_size, hp=None):\n",
        "  hp = get_hyperparemeters_cnn() if hp is None else hp\n",
        "\n",
        "  inputs = Input(shape=(input_size, 1))\n",
        "\n",
        "  x = None\n",
        "  for layer_index in range(hp[\"conv_layers\"]):\n",
        "      x = Conv1D(kernel_size=hp[\"kernels\"][layer_index], strides=hp[\"strides\"][layer_index], filters=hp[\"filters\"][layer_index],\n",
        "                  activation=hp[\"activation\"], padding=\"same\")(inputs if layer_index == 0 else x)\n",
        "      if hp[\"pooling_types\"][layer_index] == \"average\":\n",
        "          x = AveragePooling1D(pool_size=hp[\"pooling_sizes\"][layer_index], strides=hp[\"pooling_strides\"][layer_index], padding=\"same\")(x)\n",
        "      else:\n",
        "          x = MaxPooling1D(pool_size=hp[\"pooling_sizes\"][layer_index], strides=hp[\"pooling_strides\"][layer_index], padding=\"same\")(x)\n",
        "      x = BatchNormalization()(x)\n",
        "  x = Flatten()(x)\n",
        "\n",
        "  for layer_index in range(hp[\"layers\"]):\n",
        "      x = Dense(hp[\"neurons\"], activation=hp[\"activation\"], kernel_initializer=hp[\"kernel_initializer\"],\n",
        "                    name='dense_{}'.format(layer_index))(x)\n",
        "\n",
        "  outputs = Dense(classes, activation='softmax', name='predictions')(x)\n",
        "\n",
        "  model = Model(inputs, outputs, name='random_cnn')\n",
        "  optimizer = get_optimizer(hp[\"optimizer\"], hp[\"learning_rate\"])\n",
        "  model.compile(loss='categorical_crossentropy', optimizer=optimizer, metrics=['accuracy'])\n",
        "  return model, hp"
      ]
    },
    {
      "cell_type": "code",
      "execution_count": null,
      "metadata": {
        "colab": {
          "base_uri": "https://localhost:8080/"
        },
        "id": "M_mi0_o2FKzZ",
        "outputId": "0d35f277-a121-49bd-f8d9-cdac4595d96e"
      },
      "outputs": [
        {
          "name": "stdout",
          "output_type": "stream",
          "text": [
            "seed random was 2324411508998340269\n",
            "seed np random was 1434111232\n",
            "\u001b[1m313/313\u001b[0m \u001b[32m━━━━━━━━━━━━━━━━━━━━\u001b[0m\u001b[37m\u001b[0m \u001b[1m1s\u001b[0m 2ms/step\n",
            "Model 0 has GE 124.75\n",
            "\u001b[1m313/313\u001b[0m \u001b[32m━━━━━━━━━━━━━━━━━━━━\u001b[0m\u001b[37m\u001b[0m \u001b[1m1s\u001b[0m 2ms/step\n",
            "Model 1 has GE 7.78\n",
            "\u001b[1m313/313\u001b[0m \u001b[32m━━━━━━━━━━━━━━━━━━━━\u001b[0m\u001b[37m\u001b[0m \u001b[1m1s\u001b[0m 2ms/step\n",
            "Model 2 has GE 3.87\n",
            "\u001b[1m313/313\u001b[0m \u001b[32m━━━━━━━━━━━━━━━━━━━━\u001b[0m\u001b[37m\u001b[0m \u001b[1m1s\u001b[0m 3ms/step\n",
            "Model 3 has GE 0.89\n",
            "\u001b[1m313/313\u001b[0m \u001b[32m━━━━━━━━━━━━━━━━━━━━\u001b[0m\u001b[37m\u001b[0m \u001b[1m1s\u001b[0m 2ms/step\n",
            "Model 4 has GE 9.3\n",
            "\u001b[1m313/313\u001b[0m \u001b[32m━━━━━━━━━━━━━━━━━━━━\u001b[0m\u001b[37m\u001b[0m \u001b[1m1s\u001b[0m 2ms/step\n",
            "Model 5 has GE 12.16\n",
            "\u001b[1m313/313\u001b[0m \u001b[32m━━━━━━━━━━━━━━━━━━━━\u001b[0m\u001b[37m\u001b[0m \u001b[1m1s\u001b[0m 2ms/step\n",
            "Model 6 has GE 4.73\n",
            "\u001b[1m313/313\u001b[0m \u001b[32m━━━━━━━━━━━━━━━━━━━━\u001b[0m\u001b[37m\u001b[0m \u001b[1m1s\u001b[0m 2ms/step\n",
            "Model 7 has GE 133.4\n",
            "\u001b[1m313/313\u001b[0m \u001b[32m━━━━━━━━━━━━━━━━━━━━\u001b[0m\u001b[37m\u001b[0m \u001b[1m1s\u001b[0m 2ms/step\n",
            "Model 8 has GE 100.13\n",
            "\u001b[1m313/313\u001b[0m \u001b[32m━━━━━━━━━━━━━━━━━━━━\u001b[0m\u001b[37m\u001b[0m \u001b[1m1s\u001b[0m 2ms/step\n",
            "Model 9 has GE 5.33\n"
          ]
        }
      ],
      "source": [
        "# setting random seed\n",
        "seed = 2324411508998340269 #random.randrange(sys.maxsize)\n",
        "random.seed(seed)\n",
        "# print('seed random was', seed)\n",
        "seed = 1434111232 #random.randrange(2**32 - 1)\n",
        "np.random.seed(seed)\n",
        "# print('seed np random was', seed)\n",
        "\n",
        "# The number of epochs per model and number of models can be modified to allow for more models and more extended training for better results.\n",
        "# Here, we limit these numbers for faster training time and search.\n",
        "nb_epochs_per_model = 20\n",
        "nb_prof_traces = 40000\n",
        "nb_val_traces = 10000\n",
        "nb_models = 10\n",
        "avg_ge_list = []\n",
        "hp_list = []\n",
        "model_list = []\n",
        "input_size = len(X_profiling[0])\n",
        "\n",
        "# Evaluation is done on the attack set, but for hyperparameter tuning,\n",
        "# we use a subset of profiling set (validation set) for selecting the best model from the random search\n",
        "X_val = X_profiling[nb_prof_traces:nb_prof_traces+nb_val_traces]\n",
        "validation_pt = profiling_metadata[\"plaintext\"][nb_prof_traces:nb_prof_traces+nb_val_traces, target_byte]\n",
        "correct_key_val = profiling_metadata[\"key\"][nb_tr, target_byte]\n",
        "for i in range(nb_models):\n",
        "    model, hp = mlp_random(classes=nb_classes, input_size=input_size)\n",
        "    model.fit(x=X_profiling[:nb_prof_traces], y=Y_profiling[:nb_prof_traces], batch_size=hp[\"batch_size\"], verbose=0, epochs=nb_epochs_per_model, shuffle=True)\n",
        "    predictions = model.predict(X_val)\n",
        "    ge_median, ge_avg = guessing_entropy(predictions, validation_pt, correct_key_val, 200)\n",
        "    avg_ge_list.append(ge_avg)\n",
        "    model_list.append(model.get_weights())\n",
        "    print(f\"Model {i} has GE {ge_avg}\")\n",
        "    hp_list.append(hp)"
      ]
    },
    {
      "cell_type": "code",
      "execution_count": null,
      "metadata": {
        "colab": {
          "base_uri": "https://localhost:8080/"
        },
        "id": "iQyKqVHD4CO-",
        "outputId": "54dbb3bb-5199-47a2-dacc-359cc51e168e"
      },
      "outputs": [
        {
          "name": "stdout",
          "output_type": "stream",
          "text": [
            "Best GE is 0.89 with the hyperparameters {'batch_size': 900, 'layers': 5, 'neurons': 200, 'activation': 'relu', 'learning_rate': 0.0005, 'optimizer': 'Adam', 'kernel_initializer': 'random_uniform', 'regularization': 'none'}.\n",
            "Epoch 1/50\n",
            "\u001b[1m84/84\u001b[0m \u001b[32m━━━━━━━━━━━━━━━━━━━━\u001b[0m\u001b[37m\u001b[0m \u001b[1m4s\u001b[0m 12ms/step - accuracy: 0.0043 - loss: 5.5452\n",
            "Epoch 2/50\n",
            "\u001b[1m84/84\u001b[0m \u001b[32m━━━━━━━━━━━━━━━━━━━━\u001b[0m\u001b[37m\u001b[0m \u001b[1m0s\u001b[0m 3ms/step - accuracy: 0.0045 - loss: 5.5441\n",
            "Epoch 3/50\n",
            "\u001b[1m84/84\u001b[0m \u001b[32m━━━━━━━━━━━━━━━━━━━━\u001b[0m\u001b[37m\u001b[0m \u001b[1m1s\u001b[0m 3ms/step - accuracy: 0.0043 - loss: 5.5426\n",
            "Epoch 4/50\n",
            "\u001b[1m84/84\u001b[0m \u001b[32m━━━━━━━━━━━━━━━━━━━━\u001b[0m\u001b[37m\u001b[0m \u001b[1m0s\u001b[0m 3ms/step - accuracy: 0.0049 - loss: 5.5412\n",
            "Epoch 5/50\n",
            "\u001b[1m84/84\u001b[0m \u001b[32m━━━━━━━━━━━━━━━━━━━━\u001b[0m\u001b[37m\u001b[0m \u001b[1m0s\u001b[0m 3ms/step - accuracy: 0.0051 - loss: 5.5396\n",
            "Epoch 6/50\n",
            "\u001b[1m84/84\u001b[0m \u001b[32m━━━━━━━━━━━━━━━━━━━━\u001b[0m\u001b[37m\u001b[0m \u001b[1m0s\u001b[0m 3ms/step - accuracy: 0.0051 - loss: 5.5328\n",
            "Epoch 7/50\n",
            "\u001b[1m84/84\u001b[0m \u001b[32m━━━━━━━━━━━━━━━━━━━━\u001b[0m\u001b[37m\u001b[0m \u001b[1m0s\u001b[0m 3ms/step - accuracy: 0.0059 - loss: 5.5115\n",
            "Epoch 8/50\n",
            "\u001b[1m84/84\u001b[0m \u001b[32m━━━━━━━━━━━━━━━━━━━━\u001b[0m\u001b[37m\u001b[0m \u001b[1m1s\u001b[0m 3ms/step - accuracy: 0.0068 - loss: 5.4903\n",
            "Epoch 9/50\n",
            "\u001b[1m84/84\u001b[0m \u001b[32m━━━━━━━━━━━━━━━━━━━━\u001b[0m\u001b[37m\u001b[0m \u001b[1m1s\u001b[0m 3ms/step - accuracy: 0.0081 - loss: 5.4771\n",
            "Epoch 10/50\n",
            "\u001b[1m84/84\u001b[0m \u001b[32m━━━━━━━━━━━━━━━━━━━━\u001b[0m\u001b[37m\u001b[0m \u001b[1m1s\u001b[0m 3ms/step - accuracy: 0.0084 - loss: 5.4580\n",
            "Epoch 11/50\n",
            "\u001b[1m84/84\u001b[0m \u001b[32m━━━━━━━━━━━━━━━━━━━━\u001b[0m\u001b[37m\u001b[0m \u001b[1m1s\u001b[0m 3ms/step - accuracy: 0.0089 - loss: 5.4408\n",
            "Epoch 12/50\n",
            "\u001b[1m84/84\u001b[0m \u001b[32m━━━━━━━━━━━━━━━━━━━━\u001b[0m\u001b[37m\u001b[0m \u001b[1m0s\u001b[0m 3ms/step - accuracy: 0.0093 - loss: 5.4203\n",
            "Epoch 13/50\n",
            "\u001b[1m84/84\u001b[0m \u001b[32m━━━━━━━━━━━━━━━━━━━━\u001b[0m\u001b[37m\u001b[0m \u001b[1m0s\u001b[0m 3ms/step - accuracy: 0.0113 - loss: 5.4024\n",
            "Epoch 14/50\n",
            "\u001b[1m84/84\u001b[0m \u001b[32m━━━━━━━━━━━━━━━━━━━━\u001b[0m\u001b[37m\u001b[0m \u001b[1m0s\u001b[0m 3ms/step - accuracy: 0.0115 - loss: 5.3655\n",
            "Epoch 15/50\n",
            "\u001b[1m84/84\u001b[0m \u001b[32m━━━━━━━━━━━━━━━━━━━━\u001b[0m\u001b[37m\u001b[0m \u001b[1m0s\u001b[0m 3ms/step - accuracy: 0.0123 - loss: 5.3246\n",
            "Epoch 16/50\n",
            "\u001b[1m84/84\u001b[0m \u001b[32m━━━━━━━━━━━━━━━━━━━━\u001b[0m\u001b[37m\u001b[0m \u001b[1m1s\u001b[0m 3ms/step - accuracy: 0.0138 - loss: 5.2933\n",
            "Epoch 17/50\n",
            "\u001b[1m84/84\u001b[0m \u001b[32m━━━━━━━━━━━━━━━━━━━━\u001b[0m\u001b[37m\u001b[0m \u001b[1m0s\u001b[0m 3ms/step - accuracy: 0.0144 - loss: 5.2663\n",
            "Epoch 18/50\n",
            "\u001b[1m84/84\u001b[0m \u001b[32m━━━━━━━━━━━━━━━━━━━━\u001b[0m\u001b[37m\u001b[0m \u001b[1m0s\u001b[0m 3ms/step - accuracy: 0.0156 - loss: 5.2395\n",
            "Epoch 19/50\n",
            "\u001b[1m84/84\u001b[0m \u001b[32m━━━━━━━━━━━━━━━━━━━━\u001b[0m\u001b[37m\u001b[0m \u001b[1m1s\u001b[0m 3ms/step - accuracy: 0.0182 - loss: 5.2104\n",
            "Epoch 20/50\n",
            "\u001b[1m84/84\u001b[0m \u001b[32m━━━━━━━━━━━━━━━━━━━━\u001b[0m\u001b[37m\u001b[0m \u001b[1m1s\u001b[0m 3ms/step - accuracy: 0.0186 - loss: 5.1897\n",
            "Epoch 21/50\n",
            "\u001b[1m84/84\u001b[0m \u001b[32m━━━━━━━━━━━━━━━━━━━━\u001b[0m\u001b[37m\u001b[0m \u001b[1m0s\u001b[0m 4ms/step - accuracy: 0.0206 - loss: 5.1618\n",
            "Epoch 22/50\n",
            "\u001b[1m84/84\u001b[0m \u001b[32m━━━━━━━━━━━━━━━━━━━━\u001b[0m\u001b[37m\u001b[0m \u001b[1m1s\u001b[0m 5ms/step - accuracy: 0.0228 - loss: 5.1276\n",
            "Epoch 23/50\n",
            "\u001b[1m84/84\u001b[0m \u001b[32m━━━━━━━━━━━━━━━━━━━━\u001b[0m\u001b[37m\u001b[0m \u001b[1m0s\u001b[0m 4ms/step - accuracy: 0.0235 - loss: 5.1082\n",
            "Epoch 24/50\n",
            "\u001b[1m84/84\u001b[0m \u001b[32m━━━━━━━━━━━━━━━━━━━━\u001b[0m\u001b[37m\u001b[0m \u001b[1m1s\u001b[0m 5ms/step - accuracy: 0.0246 - loss: 5.0868\n",
            "Epoch 25/50\n",
            "\u001b[1m84/84\u001b[0m \u001b[32m━━━━━━━━━━━━━━━━━━━━\u001b[0m\u001b[37m\u001b[0m \u001b[1m0s\u001b[0m 5ms/step - accuracy: 0.0249 - loss: 5.0570\n",
            "Epoch 26/50\n",
            "\u001b[1m84/84\u001b[0m \u001b[32m━━━━━━━━━━━━━━━━━━━━\u001b[0m\u001b[37m\u001b[0m \u001b[1m0s\u001b[0m 5ms/step - accuracy: 0.0264 - loss: 5.0214\n",
            "Epoch 27/50\n",
            "\u001b[1m84/84\u001b[0m \u001b[32m━━━━━━━━━━━━━━━━━━━━\u001b[0m\u001b[37m\u001b[0m \u001b[1m0s\u001b[0m 4ms/step - accuracy: 0.0314 - loss: 5.0033\n",
            "Epoch 28/50\n",
            "\u001b[1m84/84\u001b[0m \u001b[32m━━━━━━━━━━━━━━━━━━━━\u001b[0m\u001b[37m\u001b[0m \u001b[1m0s\u001b[0m 3ms/step - accuracy: 0.0300 - loss: 4.9803\n",
            "Epoch 29/50\n",
            "\u001b[1m84/84\u001b[0m \u001b[32m━━━━━━━━━━━━━━━━━━━━\u001b[0m\u001b[37m\u001b[0m \u001b[1m1s\u001b[0m 3ms/step - accuracy: 0.0345 - loss: 4.9455\n",
            "Epoch 30/50\n",
            "\u001b[1m84/84\u001b[0m \u001b[32m━━━━━━━━━━━━━━━━━━━━\u001b[0m\u001b[37m\u001b[0m \u001b[1m0s\u001b[0m 3ms/step - accuracy: 0.0362 - loss: 4.9239\n",
            "Epoch 31/50\n",
            "\u001b[1m84/84\u001b[0m \u001b[32m━━━━━━━━━━━━━━━━━━━━\u001b[0m\u001b[37m\u001b[0m \u001b[1m0s\u001b[0m 4ms/step - accuracy: 0.0383 - loss: 4.8867\n",
            "Epoch 32/50\n",
            "\u001b[1m84/84\u001b[0m \u001b[32m━━━━━━━━━━━━━━━━━━━━\u001b[0m\u001b[37m\u001b[0m \u001b[1m0s\u001b[0m 3ms/step - accuracy: 0.0395 - loss: 4.8620\n",
            "Epoch 33/50\n",
            "\u001b[1m84/84\u001b[0m \u001b[32m━━━━━━━━━━━━━━━━━━━━\u001b[0m\u001b[37m\u001b[0m \u001b[1m1s\u001b[0m 4ms/step - accuracy: 0.0446 - loss: 4.8297\n",
            "Epoch 34/50\n",
            "\u001b[1m84/84\u001b[0m \u001b[32m━━━━━━━━━━━━━━━━━━━━\u001b[0m\u001b[37m\u001b[0m \u001b[1m1s\u001b[0m 3ms/step - accuracy: 0.0465 - loss: 4.7998\n",
            "Epoch 35/50\n",
            "\u001b[1m84/84\u001b[0m \u001b[32m━━━━━━━━━━━━━━━━━━━━\u001b[0m\u001b[37m\u001b[0m \u001b[1m0s\u001b[0m 3ms/step - accuracy: 0.0481 - loss: 4.7724\n",
            "Epoch 36/50\n",
            "\u001b[1m84/84\u001b[0m \u001b[32m━━━━━━━━━━━━━━━━━━━━\u001b[0m\u001b[37m\u001b[0m \u001b[1m0s\u001b[0m 3ms/step - accuracy: 0.0489 - loss: 4.7452\n",
            "Epoch 37/50\n",
            "\u001b[1m84/84\u001b[0m \u001b[32m━━━━━━━━━━━━━━━━━━━━\u001b[0m\u001b[37m\u001b[0m \u001b[1m1s\u001b[0m 3ms/step - accuracy: 0.0535 - loss: 4.7129\n",
            "Epoch 38/50\n",
            "\u001b[1m84/84\u001b[0m \u001b[32m━━━━━━━━━━━━━━━━━━━━\u001b[0m\u001b[37m\u001b[0m \u001b[1m0s\u001b[0m 3ms/step - accuracy: 0.0561 - loss: 4.6809\n",
            "Epoch 39/50\n",
            "\u001b[1m84/84\u001b[0m \u001b[32m━━━━━━━━━━━━━━━━━━━━\u001b[0m\u001b[37m\u001b[0m \u001b[1m0s\u001b[0m 3ms/step - accuracy: 0.0596 - loss: 4.6625\n",
            "Epoch 40/50\n",
            "\u001b[1m84/84\u001b[0m \u001b[32m━━━━━━━━━━━━━━━━━━━━\u001b[0m\u001b[37m\u001b[0m \u001b[1m0s\u001b[0m 3ms/step - accuracy: 0.0613 - loss: 4.6259\n",
            "Epoch 41/50\n",
            "\u001b[1m84/84\u001b[0m \u001b[32m━━━━━━━━━━━━━━━━━━━━\u001b[0m\u001b[37m\u001b[0m \u001b[1m0s\u001b[0m 4ms/step - accuracy: 0.0650 - loss: 4.5993\n",
            "Epoch 42/50\n",
            "\u001b[1m84/84\u001b[0m \u001b[32m━━━━━━━━━━━━━━━━━━━━\u001b[0m\u001b[37m\u001b[0m \u001b[1m1s\u001b[0m 3ms/step - accuracy: 0.0644 - loss: 4.5703\n",
            "Epoch 43/50\n",
            "\u001b[1m84/84\u001b[0m \u001b[32m━━━━━━━━━━━━━━━━━━━━\u001b[0m\u001b[37m\u001b[0m \u001b[1m1s\u001b[0m 3ms/step - accuracy: 0.0712 - loss: 4.5371\n",
            "Epoch 44/50\n",
            "\u001b[1m84/84\u001b[0m \u001b[32m━━━━━━━━━━━━━━━━━━━━\u001b[0m\u001b[37m\u001b[0m \u001b[1m1s\u001b[0m 4ms/step - accuracy: 0.0735 - loss: 4.5268\n",
            "Epoch 45/50\n",
            "\u001b[1m84/84\u001b[0m \u001b[32m━━━━━━━━━━━━━━━━━━━━\u001b[0m\u001b[37m\u001b[0m \u001b[1m1s\u001b[0m 3ms/step - accuracy: 0.0768 - loss: 4.4694\n",
            "Epoch 46/50\n",
            "\u001b[1m84/84\u001b[0m \u001b[32m━━━━━━━━━━━━━━━━━━━━\u001b[0m\u001b[37m\u001b[0m \u001b[1m0s\u001b[0m 3ms/step - accuracy: 0.0804 - loss: 4.4347\n",
            "Epoch 47/50\n",
            "\u001b[1m84/84\u001b[0m \u001b[32m━━━━━━━━━━━━━━━━━━━━\u001b[0m\u001b[37m\u001b[0m \u001b[1m0s\u001b[0m 3ms/step - accuracy: 0.0794 - loss: 4.4323\n",
            "Epoch 48/50\n",
            "\u001b[1m84/84\u001b[0m \u001b[32m━━━━━━━━━━━━━━━━━━━━\u001b[0m\u001b[37m\u001b[0m \u001b[1m1s\u001b[0m 3ms/step - accuracy: 0.0858 - loss: 4.3843\n",
            "Epoch 49/50\n",
            "\u001b[1m84/84\u001b[0m \u001b[32m━━━━━━━━━━━━━━━━━━━━\u001b[0m\u001b[37m\u001b[0m \u001b[1m1s\u001b[0m 4ms/step - accuracy: 0.0892 - loss: 4.3518\n",
            "Epoch 50/50\n",
            "\u001b[1m84/84\u001b[0m \u001b[32m━━━━━━━━━━━━━━━━━━━━\u001b[0m\u001b[37m\u001b[0m \u001b[1m1s\u001b[0m 4ms/step - accuracy: 0.0936 - loss: 4.3238\n"
          ]
        }
      ],
      "source": [
        "index_best_hp = np.argmin(avg_ge_list)\n",
        "best_hp = hp_list[index_best_hp]\n",
        "print(f\"Best GE is {avg_ge_list[index_best_hp]} with the hyperparameters {best_hp}.\")\n",
        "# We train the best hp again with more epochs.\n",
        "nb_epochs = 50\n",
        "batch_size = hp[\"batch_size\"]\n",
        "model, hp = mlp_random(classes=nb_classes, input_size=input_size, hp=best_hp)\n",
        "history = model.fit(x=X_profiling, y=Y_profiling, shuffle=True, batch_size=batch_size, verbose=1, epochs=nb_epochs)"
      ]
    },
    {
      "cell_type": "code",
      "execution_count": null,
      "metadata": {
        "colab": {
          "base_uri": "https://localhost:8080/",
          "height": 523
        },
        "id": "YDIX0_kC9Ao1",
        "outputId": "f8f9a7c2-5fb3-494d-8d2f-8add8713d9c6"
      },
      "outputs": [
        {
          "name": "stdout",
          "output_type": "stream",
          "text": [
            "\u001b[1m313/313\u001b[0m \u001b[32m━━━━━━━━━━━━━━━━━━━━\u001b[0m\u001b[37m\u001b[0m \u001b[1m1s\u001b[0m 3ms/step\n",
            "GE of 0.0 with 478 traces.\n"
          ]
        },
        {
          "data": {
            "image/png": "[encoded data removed]",
            "text/plain": [
              "<Figure size 640x480 with 1 Axes>"
            ]
          },
          "metadata": {},
          "output_type": "display_data"
        }
      ],
      "source": [
        "# Evaluation of the best model found with random search hyperparameter tuning.\n",
        "predictions = model.predict(X_attack)\n",
        "correct_key = attack_metadata[\"key\"][0, target_byte]\n",
        "medge, avgge = guessing_entropy_convergence(predictions, attack_metadata[\"plaintext\"][:, target_byte], correct_key, 1000)\n",
        "print(f\"GE of {np.min(avgge)} with {np.argmin(avgge)} traces.\")\n",
        "figure = plt.gcf()\n",
        "plt.plot(avgge, linewidth=1, label=\"GE\")\n",
        "plt.grid(True, which=\"both\", ls=\"-\")\n",
        "plt.xlabel(\"Traces\", fontsize=12)\n",
        "plt.ylabel(\"Guessing Entropy\", fontsize=12)\n",
        "plt.ylim(0, 256)\n",
        "plt.legend()\n",
        "plt.tight_layout()"
      ]
    },
    {
      "cell_type": "markdown",
      "metadata": {
        "id": "CwPu6Ssupqaw"
      },
      "source": [
        "## Ensemble\n",
        "Here, we implement the basic ensembling technique from:\n",
        "Perin, G., Chmielewski, Ł., & Picek, S. (2020). Strength in numbers: Improving generalization with ensembles in machine learning-based profiled side-channel analysis. IACR Transactions on Cryptographic Hardware and Embedded Systems, 337-364.\n",
        "\n",
        "This part of the code relies on the previous section on hyperparameter tuning. Thus, the tuning has to be executed before running ensembles, as it will use the models trained during the tuning process."
      ]
    },
    {
      "cell_type": "code",
      "execution_count": null,
      "metadata": {
        "colab": {
          "base_uri": "https://localhost:8080/",
          "height": 688
        },
        "id": "PMVdjgMzqeFj",
        "outputId": "0912011e-5cac-4e6e-87e2-e893e5198e7d"
      },
      "outputs": [
        {
          "name": "stdout",
          "output_type": "stream",
          "text": [
            "0.89\n",
            "\u001b[1m313/313\u001b[0m \u001b[32m━━━━━━━━━━━━━━━━━━━━\u001b[0m\u001b[37m\u001b[0m \u001b[1m1s\u001b[0m 2ms/step\n",
            "3.87\n",
            "\u001b[1m313/313\u001b[0m \u001b[32m━━━━━━━━━━━━━━━━━━━━\u001b[0m\u001b[37m\u001b[0m \u001b[1m1s\u001b[0m 2ms/step\n",
            "4.73\n",
            "\u001b[1m313/313\u001b[0m \u001b[32m━━━━━━━━━━━━━━━━━━━━\u001b[0m\u001b[37m\u001b[0m \u001b[1m1s\u001b[0m 2ms/step\n",
            "5.33\n",
            "\u001b[1m313/313\u001b[0m \u001b[32m━━━━━━━━━━━━━━━━━━━━\u001b[0m\u001b[37m\u001b[0m \u001b[1m1s\u001b[0m 2ms/step\n",
            "7.78\n",
            "\u001b[1m313/313\u001b[0m \u001b[32m━━━━━━━━━━━━━━━━━━━━\u001b[0m\u001b[37m\u001b[0m \u001b[1m1s\u001b[0m 2ms/step\n",
            "GE of 0.0 with 604 traces.\n"
          ]
        },
        {
          "data": {
            "image/png": "[encoded data removed]",
            "text/plain": [
              "<Figure size 640x480 with 1 Axes>"
            ]
          },
          "metadata": {},
          "output_type": "display_data"
        }
      ],
      "source": [
        "# The number of models to use for the ensemble\n",
        "nb_models_ensemble = 5\n",
        "\n",
        "# Sort model indices based on GE\n",
        "sorted_model_indices = np.argsort(avg_ge_list)\n",
        "\n",
        "# Take predictions from top N models\n",
        "predictions_tot = np.zeros((X_attack.shape[0], nb_classes))\n",
        "\n",
        "for i in range(nb_models_ensemble):\n",
        "  model_num = sorted_model_indices[i]\n",
        "  print(avg_ge_list[model_num])\n",
        "  # Recreate model based on hyperparameters\n",
        "  hp = hp_list[model_num]\n",
        "  model, _ = mlp_random(classes=nb_classes, input_size=input_size, hp=hp)\n",
        "\n",
        "  # Restore trained weights\n",
        "  model.set_weights(model_list[model_num])\n",
        "\n",
        "  # Add to total predictions\n",
        "  predictions_tot += model.predict(X_attack)\n",
        "\n",
        "\n",
        "predictions_tot /= nb_models_ensemble\n",
        "corect_key = attack_metadata[\"key\"][0, target_byte]\n",
        "medge, avgge = guessing_entropy_convergence(predictions_tot, attack_metadata[\"plaintext\"][:, target_byte], correct_key, 1000)\n",
        "print(f\"GE of {np.min(avgge)} with {np.argmin(avgge)} traces.\")\n",
        "figure = plt.gcf()\n",
        "plt.plot(avgge, linewidth=1, label=\"GE\")\n",
        "plt.grid(True, which=\"both\", ls=\"-\")\n",
        "plt.xlabel(\"Traces\", fontsize=12)\n",
        "plt.ylabel(\"Guessing Entropy\", fontsize=12)\n",
        "plt.ylim(0, 256)\n",
        "plt.legend()\n",
        "plt.tight_layout()"
      ]
    },
    {
      "cell_type": "code",
      "execution_count": null,
      "metadata": {
        "id": "uBu-b09GEYaM"
      },
      "outputs": [],
      "source": []
    },
    {
      "cell_type": "markdown",
      "metadata": {
        "id": "9BT8AGi3cLEl"
      },
      "source": [
        "## Feature Selection and Resampling\n",
        "In this section, we show how to implement the NOPOI and RPOI scenarios from:\n",
        "Perin, Guilherme, Lichao Wu, and Stjepan Picek. \"Exploring feature selection scenarios for deep learning-based side-channel analysis.\" IACR Transactions on Cryptographic Hardware and Embedded Systems 2022.4 (2022): 828-861.\n",
        "\n",
        "Please note that the setup here takes a relatively large amount of memory; we recommend restarting the kernel and only running the cells below to minimize memory overhead. Run only the *Imports and Setup* section before this section."
      ]
    },
    {
      "cell_type": "code",
      "execution_count": null,
      "metadata": {
        "colab": {
          "base_uri": "https://localhost:8080/"
        },
        "id": "cpRPMP3diXbt",
        "outputId": "8f785d61-75b6-4aaa-fe24-9ec44e33cd67"
      },
      "outputs": [
        {
          "name": "stdout",
          "output_type": "stream",
          "text": [
            "--2025-03-03 13:29:08--  https://www.data.gouv.fr/s/resources/ascad/20180530-163000/ASCAD_data.zip\n",
            "Resolving www.data.gouv.fr (www.data.gouv.fr)... 37.59.183.91, 37.59.183.73\n",
            "Connecting to www.data.gouv.fr (www.data.gouv.fr)|37.59.183.91|:443... connected.\n",
            "HTTP request sent, awaiting response... 200 OK\n",
            "Length: 4435199469 (4.1G) [application/zip]\n",
            "Saving to: ‘ASCAD_data.zip’\n",
            "\n",
            "ASCAD_data.zip      100%[===================>]   4.13G  13.5MB/s    in 17m 6s  \n",
            "\n",
            "2025-03-03 13:46:16 (4.12 MB/s) - ‘ASCAD_data.zip’ saved [4435199469/4435199469]\n",
            "\n",
            "Archive:  ASCAD_data.zip\n",
            "   creating: ASCAD_data/\n",
            "   creating: ASCAD_data/ASCAD_databases/\n",
            "  inflating: ASCAD_data/ASCAD_databases/ASCAD.h5  \n",
            "  inflating: ASCAD_data/ASCAD_databases/ASCAD_desync100.h5  \n",
            "  inflating: ASCAD_data/ASCAD_databases/ASCAD_desync50.h5  \n",
            "  inflating: ASCAD_data/ASCAD_databases/ATMega8515_raw_traces.h5  \n",
            "   creating: ASCAD_data/ASCAD_trained_models/\n",
            "  inflating: ASCAD_data/ASCAD_trained_models/cnn_best_ascad_desync0_epochs75_classes256_batchsize200.h5  \n",
            "  inflating: ASCAD_data/ASCAD_trained_models/cnn_best_ascad_desync100_epochs75_classes256_batchsize200.h5  \n",
            "  inflating: ASCAD_data/ASCAD_trained_models/cnn_best_ascad_desync50_epochs75_classes256_batchsize200.h5  \n",
            "  inflating: ASCAD_data/ASCAD_trained_models/mlp_best_ascad_desync0_node200_layernb6_epochs200_classes256_batchsize100.h5  \n",
            "  inflating: ASCAD_data/ASCAD_trained_models/mlp_best_ascad_desync100_node200_layernb6_epochs200_classes256_batchsize100.h5  \n",
            "  inflating: ASCAD_data/ASCAD_trained_models/mlp_best_ascad_desync50_node200_layernb6_epochs200_classes256_batchsize100.h5  \n"
          ]
        }
      ],
      "source": [
        "# Download/unzip fixed key variant if it is not downloaded/unzipped already\n",
        "if os.path.exists(\"/content/ASCAD_data.zip\") == False:\n",
        "  !wget https://www.data.gouv.fr/s/resources/ascad/20180530-163000/ASCAD_data.zip\n",
        "  !unzip ASCAD_data.zip\n",
        "elif os.path.exists(\"/content/ASCAD_data/ASCAD_databases/ASCAD.h5\") == False:\n",
        "  !unzip ASCAD_data.zip"
      ]
    },
    {
      "cell_type": "markdown",
      "metadata": {
        "id": "z-v5HEiLqm-2"
      },
      "source": [
        "###Raw trace  resampling (NOPOI)\n",
        "Here, we implement the resampling for the NOPOI scenario. The resampling here uses a moving average filter over each trace and takes a step to take only every n'th value."
      ]
    },
    {
      "cell_type": "code",
      "execution_count": null,
      "metadata": {
        "id": "bPYw2NovBKs1"
      },
      "outputs": [],
      "source": [
        "import numpy as np\n",
        "from tqdm import tqdm\n",
        "\n",
        "# Original resampling function\n",
        "def winres(trace, window=20, overlap=0.5):\n",
        "    trace_winres = []\n",
        "    step = int(window * overlap)\n",
        "    max = len(trace)\n",
        "    for i in range(0, max, step):\n",
        "        # Take average over n=window sample points\n",
        "        trace_winres.append(np.mean(trace[i:i + window]))\n",
        "    return np.array(trace_winres)\n",
        "\n",
        "# Optimized version to resample using a moving window\n",
        "def winres_convolve(trace, window=20, overlap=0.5):\n",
        "    step = int(window * overlap)\n",
        "    kernel = np.ones(window) / window  # Create a moving average kernel\n",
        "    convolved = np.convolve(trace, kernel, mode='same')  # Apply the kernel\n",
        "    # Downsample the convolved result to match the step size\n",
        "    trace_winres = convolved[::step]\n",
        "    return trace_winres\n",
        "\n",
        "# Loading from raw trace file is slightly different from earlier as data is not yet split into profiling and attack\n",
        "def load_ascad_raw(ascad_database_file, load_metadata=False, target_byte=2):\n",
        "  check_file_exists(ascad_database_file)\n",
        "  # Open the ASCAD database HDF5 for reading\n",
        "  try:\n",
        "    in_file\t = h5py.File(ascad_database_file, \"r\")\n",
        "  except:\n",
        "    print(\"Error: can't open HDF5 file '%s' for reading (it might be malformed) ...\" % ascad_database_file)\n",
        "    sys.exit(-1)\n",
        "\n",
        "  # We resample here in batches to ensure the execution does not use too much memory\n",
        "  # If more memory is available (i.e. not a free colab account)\n",
        "  # raw traces can be loaded here and resampling can be done outside\n",
        "  window = 20\n",
        "  overlap = 0.5\n",
        "  new_trace_len = int(100000 /(window*overlap))\n",
        "  resampled_traces = np.zeros((50000, new_trace_len))\n",
        "  resampled_attack = np.zeros((10000, new_trace_len))\n",
        "  for i in range(10):\n",
        "    raw_traces = np.array(in_file['traces'][i*5000:(i+1)*5000], dtype=np.int8)\n",
        "    for j in tqdm(range(raw_traces.shape[0])):\n",
        "      resampled_traces[(i*5000) + j] = winres_convolve(raw_traces[j], window=window, overlap=overlap)\n",
        "  for i in range(10, 12):\n",
        "    raw_traces = np.array(in_file['traces'][i*5000:(i+1)*5000], dtype=np.int8)\n",
        "    for j in tqdm(range(raw_traces.shape[0])):\n",
        "      resampled_attack[(i-10) * 5000 + j] = winres_convolve(raw_traces[j], window=window, overlap=overlap)\n",
        "\n",
        "  gc.collect()\n",
        "  raw_data = in_file['metadata']\n",
        "  raw_plaintexts = raw_data['plaintext']\n",
        "  raw_keys = raw_data['key']\n",
        "  raw_masks = raw_data['masks']\n",
        "  raw_labels = AES_Sbox[raw_plaintexts[:, target_byte].astype(np.uint8) ^ raw_keys[:, target_byte].astype(np.uint8)]\n",
        "\n",
        "  # Load profiling labels\n",
        "  Y_profiling = np.array(raw_labels[:50000])\n",
        "  # Load attacking labels\n",
        "  Y_attack = np.array(raw_labels[50000:])\n",
        "  if load_metadata == False:\n",
        "    return (resampled_traces, Y_profiling), (resampled_attack, Y_attack)\n",
        "  else:\n",
        "    return (resampled_traces, Y_profiling), (resampled_attack, Y_attack), (in_file['metadata'][:50000], in_file['metadata'][50000:])"
      ]
    },
    {
      "cell_type": "code",
      "execution_count": null,
      "metadata": {
        "colab": {
          "base_uri": "https://localhost:8080/"
        },
        "id": "thsPb-EETGId",
        "outputId": "2adba239-bf56-45c4-e300-9558186f9e68"
      },
      "outputs": [
        {
          "name": "stderr",
          "output_type": "stream",
          "text": [
            "100%|██████████| 5000/5000 [00:08<00:00, 618.83it/s]\n",
            "100%|██████████| 5000/5000 [00:07<00:00, 628.55it/s]\n",
            "100%|██████████| 5000/5000 [00:08<00:00, 572.68it/s]\n",
            "100%|██████████| 5000/5000 [00:09<00:00, 522.01it/s]\n",
            "100%|██████████| 5000/5000 [00:09<00:00, 510.63it/s]\n",
            "100%|██████████| 5000/5000 [00:09<00:00, 516.72it/s]\n",
            "100%|██████████| 5000/5000 [00:09<00:00, 523.96it/s]\n",
            "100%|██████████| 5000/5000 [00:09<00:00, 527.20it/s]\n",
            "100%|██████████| 5000/5000 [00:09<00:00, 521.22it/s]\n",
            "100%|██████████| 5000/5000 [00:09<00:00, 527.02it/s]\n",
            "100%|██████████| 5000/5000 [00:09<00:00, 520.39it/s]\n",
            "100%|██████████| 5000/5000 [00:08<00:00, 592.32it/s]\n"
          ]
        }
      ],
      "source": [
        "# Load raw traces dataset and do initialize neccesary variables\n",
        "ascad_raw = '/content/ASCAD_data/ASCAD_databases/ATMega8515_raw_traces.h5'\n",
        "target_byte=2\n",
        "leakage_model =\"ID\"\n",
        "(X_profiling, Y_profiling), (X_attack, Y_attack), (profiling_metadata, attack_metadata) = load_ascad_raw(ascad_raw, load_metadata=True)\n",
        "\n",
        "scaler = StandardScaler()\n",
        "scaler.fit(X_profiling[:40000])\n",
        "X_profiling = scaler.transform(X_profiling)\n",
        "X_attack = scaler.transform(X_attack)\n"
      ]
    },
    {
      "cell_type": "code",
      "execution_count": null,
      "metadata": {
        "id": "6cybTHJKrFVb"
      },
      "outputs": [],
      "source": [
        "from tensorflow.keras.regularizers import *\n",
        "# Model taked from Perin, Guilherme, Lichao Wu, and Stjepan Picek.\n",
        "# \"Exploring feature selection scenarios for deep learning-based side-channel analysis.\"\n",
        "# IACR Transactions on Cryptographic Hardware and Embedded Systems 2022.4 (2022): 828-861.\n",
        "def best_mlp_id_nopoi_10000_ascadf(classes, number_of_samples):\n",
        "    # Best multilayer perceptron for ASCAD fixed key dataset\n",
        "    # Number of points-of-interest: 10000\n",
        "    # Leakage model: ID\n",
        "    # POI interval: [0, 100000]\n",
        "    # Number of parameters: 5379256\n",
        "\n",
        "    batch_size = 100\n",
        "    tf.random.set_seed(24638)\n",
        "    model = Sequential(name='best_mlp_id_nopoi_ascadv_10000')\n",
        "    model.add(Dense(500, activation='selu', kernel_regularizer=l2(0.0005), kernel_initializer=\"random_uniform\", input_shape=(number_of_samples,)))\n",
        "    model.add(Dense(500, activation='selu', kernel_regularizer=l2(0.0005), kernel_initializer=\"random_uniform\"))\n",
        "    model.add(Dense(classes, activation='softmax'))\n",
        "    optimizer = RMSprop(learning_rate=0.0005)\n",
        "    model.compile(loss='categorical_crossentropy', optimizer=optimizer, metrics=['accuracy'])\n",
        "    return model, batch_size"
      ]
    },
    {
      "cell_type": "code",
      "execution_count": null,
      "metadata": {
        "colab": {
          "base_uri": "https://localhost:8080/"
        },
        "id": "AptLE47rq73f",
        "outputId": "e9c5387b-9ef0-46ba-ed87-85a11c68bd91"
      },
      "outputs": [
        {
          "name": "stderr",
          "output_type": "stream",
          "text": [
            "/usr/local/lib/python3.10/dist-packages/keras/src/layers/core/dense.py:87: UserWarning: Do not pass an `input_shape`/`input_dim` argument to a layer. When using Sequential models, prefer using an `Input(shape)` object as the first layer in the model instead.\n",
            "  super().__init__(activity_regularizer=activity_regularizer, **kwargs)\n"
          ]
        },
        {
          "name": "stdout",
          "output_type": "stream",
          "text": [
            "Epoch 1/100\n",
            "\u001b[1m500/500\u001b[0m \u001b[32m━━━━━━━━━━━━━━━━━━━━\u001b[0m\u001b[37m\u001b[0m \u001b[1m6s\u001b[0m 4ms/step - accuracy: 0.0039 - loss: 9.2611\n",
            "Epoch 2/100\n",
            "\u001b[1m500/500\u001b[0m \u001b[32m━━━━━━━━━━━━━━━━━━━━\u001b[0m\u001b[37m\u001b[0m \u001b[1m2s\u001b[0m 5ms/step - accuracy: 0.0078 - loss: 6.6933\n",
            "Epoch 3/100\n",
            "\u001b[1m500/500\u001b[0m \u001b[32m━━━━━━━━━━━━━━━━━━━━\u001b[0m\u001b[37m\u001b[0m \u001b[1m2s\u001b[0m 5ms/step - accuracy: 0.0279 - loss: 6.1794\n",
            "Epoch 4/100\n",
            "\u001b[1m500/500\u001b[0m \u001b[32m━━━━━━━━━━━━━━━━━━━━\u001b[0m\u001b[37m\u001b[0m \u001b[1m2s\u001b[0m 4ms/step - accuracy: 0.0569 - loss: 5.9217\n",
            "Epoch 5/100\n",
            "\u001b[1m500/500\u001b[0m \u001b[32m━━━━━━━━━━━━━━━━━━━━\u001b[0m\u001b[37m\u001b[0m \u001b[1m2s\u001b[0m 5ms/step - accuracy: 0.0870 - loss: 5.7559\n",
            "Epoch 6/100\n",
            "\u001b[1m500/500\u001b[0m \u001b[32m━━━━━━━━━━━━━━━━━━━━\u001b[0m\u001b[37m\u001b[0m \u001b[1m2s\u001b[0m 5ms/step - accuracy: 0.1166 - loss: 5.6231\n",
            "Epoch 7/100\n",
            "\u001b[1m500/500\u001b[0m \u001b[32m━━━━━━━━━━━━━━━━━━━━\u001b[0m\u001b[37m\u001b[0m \u001b[1m2s\u001b[0m 4ms/step - accuracy: 0.1456 - loss: 5.4974\n",
            "Epoch 8/100\n",
            "\u001b[1m500/500\u001b[0m \u001b[32m━━━━━━━━━━━━━━━━━━━━\u001b[0m\u001b[37m\u001b[0m \u001b[1m2s\u001b[0m 4ms/step - accuracy: 0.1709 - loss: 5.3924\n",
            "Epoch 9/100\n",
            "\u001b[1m500/500\u001b[0m \u001b[32m━━━━━━━━━━━━━━━━━━━━\u001b[0m\u001b[37m\u001b[0m \u001b[1m3s\u001b[0m 4ms/step - accuracy: 0.1950 - loss: 5.2828\n",
            "Epoch 10/100\n",
            "\u001b[1m500/500\u001b[0m \u001b[32m━━━━━━━━━━━━━━━━━━━━\u001b[0m\u001b[37m\u001b[0m \u001b[1m3s\u001b[0m 4ms/step - accuracy: 0.2190 - loss: 5.1813\n",
            "Epoch 11/100\n",
            "\u001b[1m500/500\u001b[0m \u001b[32m━━━━━━━━━━━━━━━━━━━━\u001b[0m\u001b[37m\u001b[0m \u001b[1m3s\u001b[0m 5ms/step - accuracy: 0.2424 - loss: 5.0825\n",
            "Epoch 12/100\n",
            "\u001b[1m500/500\u001b[0m \u001b[32m━━━━━━━━━━━━━━━━━━━━\u001b[0m\u001b[37m\u001b[0m \u001b[1m2s\u001b[0m 4ms/step - accuracy: 0.2628 - loss: 4.9895\n",
            "Epoch 13/100\n",
            "\u001b[1m500/500\u001b[0m \u001b[32m━━━━━━━━━━━━━━━━━━━━\u001b[0m\u001b[37m\u001b[0m \u001b[1m2s\u001b[0m 4ms/step - accuracy: 0.2853 - loss: 4.8947\n",
            "Epoch 14/100\n",
            "\u001b[1m500/500\u001b[0m \u001b[32m━━━━━━━━━━━━━━━━━━━━\u001b[0m\u001b[37m\u001b[0m \u001b[1m2s\u001b[0m 4ms/step - accuracy: 0.3058 - loss: 4.7997\n",
            "Epoch 15/100\n",
            "\u001b[1m500/500\u001b[0m \u001b[32m━━━━━━━━━━━━━━━━━━━━\u001b[0m\u001b[37m\u001b[0m \u001b[1m2s\u001b[0m 4ms/step - accuracy: 0.3223 - loss: 4.7231\n",
            "Epoch 16/100\n",
            "\u001b[1m500/500\u001b[0m \u001b[32m━━━━━━━━━━━━━━━━━━━━\u001b[0m\u001b[37m\u001b[0m \u001b[1m2s\u001b[0m 5ms/step - accuracy: 0.3412 - loss: 4.6442\n",
            "Epoch 17/100\n",
            "\u001b[1m500/500\u001b[0m \u001b[32m━━━━━━━━━━━━━━━━━━━━\u001b[0m\u001b[37m\u001b[0m \u001b[1m2s\u001b[0m 5ms/step - accuracy: 0.3583 - loss: 4.5488\n",
            "Epoch 18/100\n",
            "\u001b[1m500/500\u001b[0m \u001b[32m━━━━━━━━━━━━━━━━━━━━\u001b[0m\u001b[37m\u001b[0m \u001b[1m2s\u001b[0m 4ms/step - accuracy: 0.3753 - loss: 4.4913\n",
            "Epoch 19/100\n",
            "\u001b[1m500/500\u001b[0m \u001b[32m━━━━━━━━━━━━━━━━━━━━\u001b[0m\u001b[37m\u001b[0m \u001b[1m3s\u001b[0m 4ms/step - accuracy: 0.3918 - loss: 4.4060\n",
            "Epoch 20/100\n",
            "\u001b[1m500/500\u001b[0m \u001b[32m━━━━━━━━━━━━━━━━━━━━\u001b[0m\u001b[37m\u001b[0m \u001b[1m3s\u001b[0m 4ms/step - accuracy: 0.4101 - loss: 4.3379\n",
            "Epoch 21/100\n",
            "\u001b[1m500/500\u001b[0m \u001b[32m━━━━━━━━━━━━━━━━━━━━\u001b[0m\u001b[37m\u001b[0m \u001b[1m3s\u001b[0m 5ms/step - accuracy: 0.4240 - loss: 4.2647\n",
            "Epoch 22/100\n",
            "\u001b[1m500/500\u001b[0m \u001b[32m━━━━━━━━━━━━━━━━━━━━\u001b[0m\u001b[37m\u001b[0m \u001b[1m3s\u001b[0m 5ms/step - accuracy: 0.4406 - loss: 4.2007\n",
            "Epoch 23/100\n",
            "\u001b[1m500/500\u001b[0m \u001b[32m━━━━━━━━━━━━━━━━━━━━\u001b[0m\u001b[37m\u001b[0m \u001b[1m2s\u001b[0m 4ms/step - accuracy: 0.4541 - loss: 4.1396\n",
            "Epoch 24/100\n",
            "\u001b[1m500/500\u001b[0m \u001b[32m━━━━━━━━━━━━━━━━━━━━\u001b[0m\u001b[37m\u001b[0m \u001b[1m3s\u001b[0m 4ms/step - accuracy: 0.4697 - loss: 4.0703\n",
            "Epoch 25/100\n",
            "\u001b[1m500/500\u001b[0m \u001b[32m━━━━━━━━━━━━━━━━━━━━\u001b[0m\u001b[37m\u001b[0m \u001b[1m3s\u001b[0m 4ms/step - accuracy: 0.4819 - loss: 4.0190\n",
            "Epoch 26/100\n",
            "\u001b[1m500/500\u001b[0m \u001b[32m━━━━━━━━━━━━━━━━━━━━\u001b[0m\u001b[37m\u001b[0m \u001b[1m2s\u001b[0m 4ms/step - accuracy: 0.4906 - loss: 3.9594\n",
            "Epoch 27/100\n",
            "\u001b[1m500/500\u001b[0m \u001b[32m━━━━━━━━━━━━━━━━━━━━\u001b[0m\u001b[37m\u001b[0m \u001b[1m3s\u001b[0m 5ms/step - accuracy: 0.5074 - loss: 3.8965\n",
            "Epoch 28/100\n",
            "\u001b[1m500/500\u001b[0m \u001b[32m━━━━━━━━━━━━━━━━━━━━\u001b[0m\u001b[37m\u001b[0m \u001b[1m5s\u001b[0m 4ms/step - accuracy: 0.5242 - loss: 3.8018\n",
            "Epoch 29/100\n",
            "\u001b[1m500/500\u001b[0m \u001b[32m━━━━━━━━━━━━━━━━━━━━\u001b[0m\u001b[37m\u001b[0m \u001b[1m3s\u001b[0m 4ms/step - accuracy: 0.5402 - loss: 3.7406\n",
            "Epoch 30/100\n",
            "\u001b[1m500/500\u001b[0m \u001b[32m━━━━━━━━━━━━━━━━━━━━\u001b[0m\u001b[37m\u001b[0m \u001b[1m2s\u001b[0m 4ms/step - accuracy: 0.5460 - loss: 3.6999\n",
            "Epoch 31/100\n",
            "\u001b[1m500/500\u001b[0m \u001b[32m━━━━━━━━━━━━━━━━━━━━\u001b[0m\u001b[37m\u001b[0m \u001b[1m3s\u001b[0m 5ms/step - accuracy: 0.5612 - loss: 3.6267\n",
            "Epoch 32/100\n",
            "\u001b[1m500/500\u001b[0m \u001b[32m━━━━━━━━━━━━━━━━━━━━\u001b[0m\u001b[37m\u001b[0m \u001b[1m2s\u001b[0m 4ms/step - accuracy: 0.5771 - loss: 3.5534\n",
            "Epoch 33/100\n",
            "\u001b[1m500/500\u001b[0m \u001b[32m━━━━━━━━━━━━━━━━━━━━\u001b[0m\u001b[37m\u001b[0m \u001b[1m2s\u001b[0m 4ms/step - accuracy: 0.5899 - loss: 3.4989\n",
            "Epoch 34/100\n",
            "\u001b[1m500/500\u001b[0m \u001b[32m━━━━━━━━━━━━━━━━━━━━\u001b[0m\u001b[37m\u001b[0m \u001b[1m2s\u001b[0m 4ms/step - accuracy: 0.6063 - loss: 3.4147\n",
            "Epoch 35/100\n",
            "\u001b[1m500/500\u001b[0m \u001b[32m━━━━━━━━━━━━━━━━━━━━\u001b[0m\u001b[37m\u001b[0m \u001b[1m2s\u001b[0m 4ms/step - accuracy: 0.6144 - loss: 3.3714\n",
            "Epoch 36/100\n",
            "\u001b[1m500/500\u001b[0m \u001b[32m━━━━━━━━━━━━━━━━━━━━\u001b[0m\u001b[37m\u001b[0m \u001b[1m3s\u001b[0m 4ms/step - accuracy: 0.6295 - loss: 3.3068\n",
            "Epoch 37/100\n",
            "\u001b[1m500/500\u001b[0m \u001b[32m━━━━━━━━━━━━━━━━━━━━\u001b[0m\u001b[37m\u001b[0m \u001b[1m3s\u001b[0m 5ms/step - accuracy: 0.6324 - loss: 3.2745\n",
            "Epoch 38/100\n",
            "\u001b[1m500/500\u001b[0m \u001b[32m━━━━━━━━━━━━━━━━━━━━\u001b[0m\u001b[37m\u001b[0m \u001b[1m2s\u001b[0m 4ms/step - accuracy: 0.6557 - loss: 3.1844\n",
            "Epoch 39/100\n",
            "\u001b[1m500/500\u001b[0m \u001b[32m━━━━━━━━━━━━━━━━━━━━\u001b[0m\u001b[37m\u001b[0m \u001b[1m3s\u001b[0m 4ms/step - accuracy: 0.6542 - loss: 3.1662\n",
            "Epoch 40/100\n",
            "\u001b[1m500/500\u001b[0m \u001b[32m━━━━━━━━━━━━━━━━━━━━\u001b[0m\u001b[37m\u001b[0m \u001b[1m2s\u001b[0m 4ms/step - accuracy: 0.6674 - loss: 3.1223\n",
            "Epoch 41/100\n",
            "\u001b[1m500/500\u001b[0m \u001b[32m━━━━━━━━━━━━━━━━━━━━\u001b[0m\u001b[37m\u001b[0m \u001b[1m3s\u001b[0m 4ms/step - accuracy: 0.6778 - loss: 3.0834\n",
            "Epoch 42/100\n",
            "\u001b[1m500/500\u001b[0m \u001b[32m━━━━━━━━━━━━━━━━━━━━\u001b[0m\u001b[37m\u001b[0m \u001b[1m3s\u001b[0m 5ms/step - accuracy: 0.6807 - loss: 3.0518\n",
            "Epoch 43/100\n",
            "\u001b[1m500/500\u001b[0m \u001b[32m━━━━━━━━━━━━━━━━━━━━\u001b[0m\u001b[37m\u001b[0m \u001b[1m2s\u001b[0m 4ms/step - accuracy: 0.6917 - loss: 3.0111\n",
            "Epoch 44/100\n",
            "\u001b[1m500/500\u001b[0m \u001b[32m━━━━━━━━━━━━━━━━━━━━\u001b[0m\u001b[37m\u001b[0m \u001b[1m3s\u001b[0m 4ms/step - accuracy: 0.6981 - loss: 2.9828\n",
            "Epoch 45/100\n",
            "\u001b[1m500/500\u001b[0m \u001b[32m━━━━━━━━━━━━━━━━━━━━\u001b[0m\u001b[37m\u001b[0m \u001b[1m3s\u001b[0m 4ms/step - accuracy: 0.7029 - loss: 2.9531\n",
            "Epoch 46/100\n",
            "\u001b[1m500/500\u001b[0m \u001b[32m━━━━━━━━━━━━━━━━━━━━\u001b[0m\u001b[37m\u001b[0m \u001b[1m3s\u001b[0m 4ms/step - accuracy: 0.7128 - loss: 2.9271\n",
            "Epoch 47/100\n",
            "\u001b[1m500/500\u001b[0m \u001b[32m━━━━━━━━━━━━━━━━━━━━\u001b[0m\u001b[37m\u001b[0m \u001b[1m3s\u001b[0m 5ms/step - accuracy: 0.7111 - loss: 2.9478\n",
            "Epoch 48/100\n",
            "\u001b[1m500/500\u001b[0m \u001b[32m━━━━━━━━━━━━━━━━━━━━\u001b[0m\u001b[37m\u001b[0m \u001b[1m2s\u001b[0m 4ms/step - accuracy: 0.7265 - loss: 2.8602\n",
            "Epoch 49/100\n",
            "\u001b[1m500/500\u001b[0m \u001b[32m━━━━━━━━━━━━━━━━━━━━\u001b[0m\u001b[37m\u001b[0m \u001b[1m2s\u001b[0m 4ms/step - accuracy: 0.7312 - loss: 2.8425\n",
            "Epoch 50/100\n",
            "\u001b[1m500/500\u001b[0m \u001b[32m━━━━━━━━━━━━━━━━━━━━\u001b[0m\u001b[37m\u001b[0m \u001b[1m3s\u001b[0m 4ms/step - accuracy: 0.7321 - loss: 2.8416\n",
            "Epoch 51/100\n",
            "\u001b[1m500/500\u001b[0m \u001b[32m━━━━━━━━━━━━━━━━━━━━\u001b[0m\u001b[37m\u001b[0m \u001b[1m2s\u001b[0m 4ms/step - accuracy: 0.7302 - loss: 2.8685\n",
            "Epoch 52/100\n",
            "\u001b[1m500/500\u001b[0m \u001b[32m━━━━━━━━━━━━━━━━━━━━\u001b[0m\u001b[37m\u001b[0m \u001b[1m3s\u001b[0m 5ms/step - accuracy: 0.7364 - loss: 2.8333\n",
            "Epoch 53/100\n",
            "\u001b[1m500/500\u001b[0m \u001b[32m━━━━━━━━━━━━━━━━━━━━\u001b[0m\u001b[37m\u001b[0m \u001b[1m5s\u001b[0m 4ms/step - accuracy: 0.7493 - loss: 2.7702\n",
            "Epoch 54/100\n",
            "\u001b[1m500/500\u001b[0m \u001b[32m━━━━━━━━━━━━━━━━━━━━\u001b[0m\u001b[37m\u001b[0m \u001b[1m2s\u001b[0m 4ms/step - accuracy: 0.7436 - loss: 2.7956\n",
            "Epoch 55/100\n",
            "\u001b[1m500/500\u001b[0m \u001b[32m━━━━━━━━━━━━━━━━━━━━\u001b[0m\u001b[37m\u001b[0m \u001b[1m3s\u001b[0m 4ms/step - accuracy: 0.7517 - loss: 2.7691\n",
            "Epoch 56/100\n",
            "\u001b[1m500/500\u001b[0m \u001b[32m━━━━━━━━━━━━━━━━━━━━\u001b[0m\u001b[37m\u001b[0m \u001b[1m2s\u001b[0m 5ms/step - accuracy: 0.7522 - loss: 2.7562\n",
            "Epoch 57/100\n",
            "\u001b[1m500/500\u001b[0m \u001b[32m━━━━━━━━━━━━━━━━━━━━\u001b[0m\u001b[37m\u001b[0m \u001b[1m3s\u001b[0m 5ms/step - accuracy: 0.7479 - loss: 2.7897\n",
            "Epoch 58/100\n",
            "\u001b[1m500/500\u001b[0m \u001b[32m━━━━━━━━━━━━━━━━━━━━\u001b[0m\u001b[37m\u001b[0m \u001b[1m2s\u001b[0m 4ms/step - accuracy: 0.7550 - loss: 2.7417\n",
            "Epoch 59/100\n",
            "\u001b[1m500/500\u001b[0m \u001b[32m━━━━━━━━━━━━━━━━━━━━\u001b[0m\u001b[37m\u001b[0m \u001b[1m3s\u001b[0m 4ms/step - accuracy: 0.7546 - loss: 2.7528\n",
            "Epoch 60/100\n",
            "\u001b[1m500/500\u001b[0m \u001b[32m━━━━━━━━━━━━━━━━━━━━\u001b[0m\u001b[37m\u001b[0m \u001b[1m2s\u001b[0m 4ms/step - accuracy: 0.7596 - loss: 2.7209\n",
            "Epoch 61/100\n",
            "\u001b[1m500/500\u001b[0m \u001b[32m━━━━━━━━━━━━━━━━━━━━\u001b[0m\u001b[37m\u001b[0m \u001b[1m3s\u001b[0m 4ms/step - accuracy: 0.7669 - loss: 2.6916\n",
            "Epoch 62/100\n",
            "\u001b[1m500/500\u001b[0m \u001b[32m━━━━━━━━━━━━━━━━━━━━\u001b[0m\u001b[37m\u001b[0m \u001b[1m3s\u001b[0m 5ms/step - accuracy: 0.7706 - loss: 2.6560\n",
            "Epoch 63/100\n",
            "\u001b[1m500/500\u001b[0m \u001b[32m━━━━━━━━━━━━━━━━━━━━\u001b[0m\u001b[37m\u001b[0m \u001b[1m5s\u001b[0m 4ms/step - accuracy: 0.7620 - loss: 2.6847\n",
            "Epoch 64/100\n",
            "\u001b[1m500/500\u001b[0m \u001b[32m━━━━━━━━━━━━━━━━━━━━\u001b[0m\u001b[37m\u001b[0m \u001b[1m2s\u001b[0m 4ms/step - accuracy: 0.7722 - loss: 2.6709\n",
            "Epoch 65/100\n",
            "\u001b[1m500/500\u001b[0m \u001b[32m━━━━━━━━━━━━━━━━━━━━\u001b[0m\u001b[37m\u001b[0m \u001b[1m2s\u001b[0m 4ms/step - accuracy: 0.7702 - loss: 2.6471\n",
            "Epoch 66/100\n",
            "\u001b[1m500/500\u001b[0m \u001b[32m━━━━━━━━━━━━━━━━━━━━\u001b[0m\u001b[37m\u001b[0m \u001b[1m3s\u001b[0m 5ms/step - accuracy: 0.7732 - loss: 2.6226\n",
            "Epoch 67/100\n",
            "\u001b[1m500/500\u001b[0m \u001b[32m━━━━━━━━━━━━━━━━━━━━\u001b[0m\u001b[37m\u001b[0m \u001b[1m5s\u001b[0m 4ms/step - accuracy: 0.7765 - loss: 2.6124\n",
            "Epoch 68/100\n",
            "\u001b[1m500/500\u001b[0m \u001b[32m━━━━━━━━━━━━━━━━━━━━\u001b[0m\u001b[37m\u001b[0m \u001b[1m2s\u001b[0m 4ms/step - accuracy: 0.7781 - loss: 2.5979\n",
            "Epoch 69/100\n",
            "\u001b[1m500/500\u001b[0m \u001b[32m━━━━━━━━━━━━━━━━━━━━\u001b[0m\u001b[37m\u001b[0m \u001b[1m3s\u001b[0m 4ms/step - accuracy: 0.7733 - loss: 2.6176\n",
            "Epoch 70/100\n",
            "\u001b[1m500/500\u001b[0m \u001b[32m━━━━━━━━━━━━━━━━━━━━\u001b[0m\u001b[37m\u001b[0m \u001b[1m3s\u001b[0m 5ms/step - accuracy: 0.7791 - loss: 2.5898\n",
            "Epoch 71/100\n",
            "\u001b[1m500/500\u001b[0m \u001b[32m━━━━━━━━━━━━━━━━━━━━\u001b[0m\u001b[37m\u001b[0m \u001b[1m2s\u001b[0m 5ms/step - accuracy: 0.7848 - loss: 2.5645\n",
            "Epoch 72/100\n",
            "\u001b[1m500/500\u001b[0m \u001b[32m━━━━━━━━━━━━━━━━━━━━\u001b[0m\u001b[37m\u001b[0m \u001b[1m2s\u001b[0m 4ms/step - accuracy: 0.7874 - loss: 2.5272\n",
            "Epoch 73/100\n",
            "\u001b[1m500/500\u001b[0m \u001b[32m━━━━━━━━━━━━━━━━━━━━\u001b[0m\u001b[37m\u001b[0m \u001b[1m2s\u001b[0m 4ms/step - accuracy: 0.7827 - loss: 2.5591\n",
            "Epoch 74/100\n",
            "\u001b[1m500/500\u001b[0m \u001b[32m━━━━━━━━━━━━━━━━━━━━\u001b[0m\u001b[37m\u001b[0m \u001b[1m2s\u001b[0m 4ms/step - accuracy: 0.7852 - loss: 2.5451\n",
            "Epoch 75/100\n",
            "\u001b[1m500/500\u001b[0m \u001b[32m━━━━━━━━━━━━━━━━━━━━\u001b[0m\u001b[37m\u001b[0m \u001b[1m2s\u001b[0m 4ms/step - accuracy: 0.7871 - loss: 2.5487\n",
            "Epoch 76/100\n",
            "\u001b[1m500/500\u001b[0m \u001b[32m━━━━━━━━━━━━━━━━━━━━\u001b[0m\u001b[37m\u001b[0m \u001b[1m3s\u001b[0m 5ms/step - accuracy: 0.7937 - loss: 2.5131\n",
            "Epoch 77/100\n",
            "\u001b[1m500/500\u001b[0m \u001b[32m━━━━━━━━━━━━━━━━━━━━\u001b[0m\u001b[37m\u001b[0m \u001b[1m2s\u001b[0m 4ms/step - accuracy: 0.7866 - loss: 2.5159\n",
            "Epoch 78/100\n",
            "\u001b[1m500/500\u001b[0m \u001b[32m━━━━━━━━━━━━━━━━━━━━\u001b[0m\u001b[37m\u001b[0m \u001b[1m2s\u001b[0m 4ms/step - accuracy: 0.7897 - loss: 2.5088\n",
            "Epoch 79/100\n",
            "\u001b[1m500/500\u001b[0m \u001b[32m━━━━━━━━━━━━━━━━━━━━\u001b[0m\u001b[37m\u001b[0m \u001b[1m2s\u001b[0m 4ms/step - accuracy: 0.7958 - loss: 2.4538\n",
            "Epoch 80/100\n",
            "\u001b[1m500/500\u001b[0m \u001b[32m━━━━━━━━━━━━━━━━━━━━\u001b[0m\u001b[37m\u001b[0m \u001b[1m2s\u001b[0m 4ms/step - accuracy: 0.8019 - loss: 2.4333\n",
            "Epoch 81/100\n",
            "\u001b[1m500/500\u001b[0m \u001b[32m━━━━━━━━━━━━━━━━━━━━\u001b[0m\u001b[37m\u001b[0m \u001b[1m3s\u001b[0m 5ms/step - accuracy: 0.7919 - loss: 2.5002\n",
            "Epoch 82/100\n",
            "\u001b[1m500/500\u001b[0m \u001b[32m━━━━━━━━━━━━━━━━━━━━\u001b[0m\u001b[37m\u001b[0m \u001b[1m3s\u001b[0m 5ms/step - accuracy: 0.7860 - loss: 2.5087\n",
            "Epoch 83/100\n",
            "\u001b[1m500/500\u001b[0m \u001b[32m━━━━━━━━━━━━━━━━━━━━\u001b[0m\u001b[37m\u001b[0m \u001b[1m2s\u001b[0m 4ms/step - accuracy: 0.7973 - loss: 2.4616\n",
            "Epoch 84/100\n",
            "\u001b[1m500/500\u001b[0m \u001b[32m━━━━━━━━━━━━━━━━━━━━\u001b[0m\u001b[37m\u001b[0m \u001b[1m2s\u001b[0m 4ms/step - accuracy: 0.7942 - loss: 2.4702\n",
            "Epoch 85/100\n",
            "\u001b[1m500/500\u001b[0m \u001b[32m━━━━━━━━━━━━━━━━━━━━\u001b[0m\u001b[37m\u001b[0m \u001b[1m3s\u001b[0m 4ms/step - accuracy: 0.8029 - loss: 2.4269\n",
            "Epoch 86/100\n",
            "\u001b[1m500/500\u001b[0m \u001b[32m━━━━━━━━━━━━━━━━━━━━\u001b[0m\u001b[37m\u001b[0m \u001b[1m3s\u001b[0m 4ms/step - accuracy: 0.7974 - loss: 2.4320\n",
            "Epoch 87/100\n",
            "\u001b[1m500/500\u001b[0m \u001b[32m━━━━━━━━━━━━━━━━━━━━\u001b[0m\u001b[37m\u001b[0m \u001b[1m3s\u001b[0m 5ms/step - accuracy: 0.7944 - loss: 2.4345\n",
            "Epoch 88/100\n",
            "\u001b[1m500/500\u001b[0m \u001b[32m━━━━━━━━━━━━━━━━━━━━\u001b[0m\u001b[37m\u001b[0m \u001b[1m2s\u001b[0m 4ms/step - accuracy: 0.8022 - loss: 2.4124\n",
            "Epoch 89/100\n",
            "\u001b[1m500/500\u001b[0m \u001b[32m━━━━━━━━━━━━━━━━━━━━\u001b[0m\u001b[37m\u001b[0m \u001b[1m3s\u001b[0m 4ms/step - accuracy: 0.8045 - loss: 2.3841\n",
            "Epoch 90/100\n",
            "\u001b[1m500/500\u001b[0m \u001b[32m━━━━━━━━━━━━━━━━━━━━\u001b[0m\u001b[37m\u001b[0m \u001b[1m2s\u001b[0m 4ms/step - accuracy: 0.7982 - loss: 2.3964\n",
            "Epoch 91/100\n",
            "\u001b[1m500/500\u001b[0m \u001b[32m━━━━━━━━━━━━━━━━━━━━\u001b[0m\u001b[37m\u001b[0m \u001b[1m2s\u001b[0m 4ms/step - accuracy: 0.8031 - loss: 2.3720\n",
            "Epoch 92/100\n",
            "\u001b[1m500/500\u001b[0m \u001b[32m━━━━━━━━━━━━━━━━━━━━\u001b[0m\u001b[37m\u001b[0m \u001b[1m2s\u001b[0m 4ms/step - accuracy: 0.8108 - loss: 2.3519\n",
            "Epoch 93/100\n",
            "\u001b[1m500/500\u001b[0m \u001b[32m━━━━━━━━━━━━━━━━━━━━\u001b[0m\u001b[37m\u001b[0m \u001b[1m3s\u001b[0m 5ms/step - accuracy: 0.8019 - loss: 2.3582\n",
            "Epoch 94/100\n",
            "\u001b[1m500/500\u001b[0m \u001b[32m━━━━━━━━━━━━━━━━━━━━\u001b[0m\u001b[37m\u001b[0m \u001b[1m2s\u001b[0m 4ms/step - accuracy: 0.8039 - loss: 2.3627\n",
            "Epoch 95/100\n",
            "\u001b[1m500/500\u001b[0m \u001b[32m━━━━━━━━━━━━━━━━━━━━\u001b[0m\u001b[37m\u001b[0m \u001b[1m2s\u001b[0m 4ms/step - accuracy: 0.8082 - loss: 2.3237\n",
            "Epoch 96/100\n",
            "\u001b[1m500/500\u001b[0m \u001b[32m━━━━━━━━━━━━━━━━━━━━\u001b[0m\u001b[37m\u001b[0m \u001b[1m2s\u001b[0m 4ms/step - accuracy: 0.8112 - loss: 2.2962\n",
            "Epoch 97/100\n",
            "\u001b[1m500/500\u001b[0m \u001b[32m━━━━━━━━━━━━━━━━━━━━\u001b[0m\u001b[37m\u001b[0m \u001b[1m2s\u001b[0m 4ms/step - accuracy: 0.8063 - loss: 2.3155\n",
            "Epoch 98/100\n",
            "\u001b[1m500/500\u001b[0m \u001b[32m━━━━━━━━━━━━━━━━━━━━\u001b[0m\u001b[37m\u001b[0m \u001b[1m2s\u001b[0m 5ms/step - accuracy: 0.8071 - loss: 2.3173\n",
            "Epoch 99/100\n",
            "\u001b[1m500/500\u001b[0m \u001b[32m━━━━━━━━━━━━━━━━━━━━\u001b[0m\u001b[37m\u001b[0m \u001b[1m3s\u001b[0m 5ms/step - accuracy: 0.8149 - loss: 2.2803\n",
            "Epoch 100/100\n",
            "\u001b[1m500/500\u001b[0m \u001b[32m━━━━━━━━━━━━━━━━━━━━\u001b[0m\u001b[37m\u001b[0m \u001b[1m2s\u001b[0m 4ms/step - accuracy: 0.8048 - loss: 2.3124\n"
          ]
        }
      ],
      "source": [
        "# Manual call to garbace collector to minimize unnecessary memory to prevent crash\n",
        "gc.collect()\n",
        "leakage_model = \"ID\"\n",
        "if leakage_model == 'HW':\n",
        "  nb_classes = 9\n",
        "elif leakage_model == 'ID':\n",
        "  nb_classes = 256\n",
        "\n",
        "if leakage_model == 'HW':\n",
        "  Y_profiling = calculate_HW(Y_profiling)\n",
        "  Y_attack = calculate_HW(Y_attack)\n",
        "\n",
        "# Since we use classification, we turn the the label values into categorical\n",
        "Y_profiling = to_categorical(Y_profiling, num_classes=nb_classes)\n",
        "Y_attack = to_categorical(Y_attack, num_classes=nb_classes)\n",
        "# Training\n",
        "input_size= len(X_profiling[0])\n",
        "model, batch_size = best_mlp_id_nopoi_10000_ascadf(nb_classes, input_size)\n",
        "nb_epochs = 100\n",
        "history = model.fit(x=X_profiling, y=Y_profiling, shuffle=True, batch_size=batch_size, verbose=1, epochs=nb_epochs)"
      ]
    },
    {
      "cell_type": "code",
      "execution_count": null,
      "metadata": {
        "colab": {
          "base_uri": "https://localhost:8080/",
          "height": 522
        },
        "id": "nxOfcRUU9wGm",
        "outputId": "1ce1e654-4aed-43ce-dfd4-14de5ac7a287"
      },
      "outputs": [
        {
          "name": "stdout",
          "output_type": "stream",
          "text": [
            "\u001b[1m313/313\u001b[0m \u001b[32m━━━━━━━━━━━━━━━━━━━━\u001b[0m\u001b[37m\u001b[0m \u001b[1m1s\u001b[0m 3ms/step\n",
            "GE of 0.0 with 11 traces.\n"
          ]
        },
        {
          "data": {
            "image/png": "[encoded data removed]",
            "text/plain": [
              "<Figure size 640x480 with 1 Axes>"
            ]
          },
          "metadata": {},
          "output_type": "display_data"
        }
      ],
      "source": [
        "# Evaluation of the model in NOPOI scenario.\n",
        "predictions = model.predict(X_attack)\n",
        "correct_key = attack_metadata[\"key\"][0, target_byte]\n",
        "medge, avgge = guessing_entropy_convergence(predictions, attack_metadata[\"plaintext\"][:, target_byte], correct_key, 1000)\n",
        "print(f\"GE of {np.min(avgge)} with {np.argmin(avgge)} traces.\")\n",
        "figure = plt.gcf()\n",
        "plt.plot(avgge, linewidth=1, label=\"GE\")\n",
        "plt.grid(True, which=\"both\", ls=\"-\")\n",
        "plt.xlabel(\"Traces\", fontsize=12)\n",
        "plt.ylabel(\"Guessing Entropy\", fontsize=12)\n",
        "plt.ylim(0, 256)\n",
        "plt.legend()\n",
        "plt.tight_layout()"
      ]
    },
    {
      "cell_type": "markdown",
      "metadata": {
        "id": "bQ32dN26Lfva"
      },
      "source": [
        "### Window Selection (OPOI)\n",
        "\n",
        "Here we do feature selection based on some window presumed to contain the sensitive operations. Note that we include this here for completeness, but the attacks in previous sections are already in the OPOI setting so we do not repeat the attacks.\n",
        "\n"
      ]
    },
    {
      "cell_type": "code",
      "execution_count": null,
      "metadata": {
        "colab": {
          "base_uri": "https://localhost:8080/"
        },
        "id": "Cd9bRnPqLvjz",
        "outputId": "d29f6751-ec7c-4a02-ffe1-75d8151f5cc0"
      },
      "outputs": [
        {
          "data": {
            "text/plain": [
              "((array([[ 54,  49,  42, ..., -20,  -2,  16],\n",
              "         [ 53,  46,  41, ..., -12,   7,  22],\n",
              "         [ 55,  50,  44, ..., -21,  -2,  17],\n",
              "         ...,\n",
              "         [ 52,  45,  40, ..., -13,   5,  20],\n",
              "         [ 54,  48,  41, ..., -17,   1,  19],\n",
              "         [ 57,  53,  46, ..., -25,  -6,  13]], dtype=int8),\n",
              "  array([ 38,  47,  38, ..., 131,  64,  52])),\n",
              " (array([], shape=(0, 100000), dtype=int8),\n",
              "  array([214,  34,  47, ..., 101, 171, 236])),\n",
              " (array([([  6,  65, 195,  66,  25, 182, 248,  19, 159, 132,  97,   6,  46, 137,  42,  16], [ 95,  75, 255, 146, 229,  35,  24,  50,  16, 107, 238,  33,  93,  56, 106, 178], [ 77, 251, 224, 242, 114,  33, 254,  16, 167, 141,  74, 220, 142,  73,   4, 105], [  7,  84,  71, 171, 129, 171,  90, 193, 236, 131,  21, 112, 185,  95, 212,  55]),\n",
              "         ([ 64,  84, 174, 122,  92, 107, 179,   4, 192,  55,  90, 128, 132,  74, 139,  27], [ 23, 248, 254,  14,  91, 201,   8, 132,  57, 212, 123,  91,  91, 233, 227,  72], [ 77, 251, 224, 242, 114,  33, 254,  16, 167, 141,  74, 220, 142,  73,   4, 105], [192, 166,  45,  89, 164,  22, 209, 144,   3, 192, 239, 152, 122,   7, 185,  67]),\n",
              "         ([202, 207, 195,  33, 224, 159, 105,  75, 199,  25,   4,  96, 135, 145, 190, 130], [161, 211, 134, 179, 116, 181,  12, 169,  17, 225, 155,  57,  72,  40,   3, 164], [ 77, 251, 224, 242, 114,  33, 254,  16, 167, 141,  74, 220, 142,  73,   4, 105], [215, 205, 171,  53,  41, 211,  58, 129,  17, 194, 183, 240, 190,  48, 126, 224]),\n",
              "         ...,\n",
              "         ([143, 180, 161,  13, 251,  95,  30,  48,  23, 118, 140, 201, 224, 122,  39, 168], [156, 239, 160, 163, 255, 214,  25, 221,  28,  95, 122, 253, 200, 192,  78, 189], [ 77, 251, 224, 242, 114,  33, 254,  16, 167, 141,  74, 220, 142,  73,   4, 105], [236, 227, 128, 152, 186, 154, 234, 138, 153, 138, 230, 198, 115, 178,  79, 196]),\n",
              "         ([172,  50, 146,  48,  49,  67, 179, 229, 194,  59, 180,  33, 121, 108, 187,  73], [184,  28,  52, 171, 126, 152,  63, 219,  62, 220,  27, 168, 105, 140,  95,  85], [ 77, 251, 224, 242, 114,  33, 254,  16, 167, 141,  74, 220, 142,  73,   4, 105], [203, 107, 166,  74,  45, 181, 133, 209, 233,  34, 249,  97, 145, 228, 187, 156]),\n",
              "         ([211, 212, 200, 112, 107, 232, 115, 240, 166,  95,  92, 122, 198, 203, 102,  33], [152,  10, 232, 198, 119, 205, 141, 206, 176, 176,  29, 248,  38, 249, 214,  95], [ 77, 251, 224, 242, 114,  33, 254,  16, 167, 141,  74, 220, 142,  73,   4, 105], [146,  95,  65, 147,  70, 124,   2, 241, 162,  68,  93,  75, 130,  32,  34,  25])],\n",
              "        dtype=[('plaintext', 'u1', (16,)), ('ciphertext', 'u1', (16,)), ('key', 'u1', (16,)), ('masks', 'u1', (16,))]),\n",
              "  array([([ 31, 172, 170, 167, 237,  34, 191,  94, 192, 195,  85, 125, 149,  46, 115, 121], [162,  37, 213,  18, 216,  58,  16,  67, 197, 193, 162, 176,  28,  84, 140,  38], [ 77, 251, 224, 242, 114,  33, 254,  16, 167, 141,  74, 220, 142,  73,   4, 105], [161, 165, 119, 180, 191, 232,  52,  24, 197,   7,  58,  87, 180,  44,  10, 121]),\n",
              "         ([145, 254, 116, 244, 139,  35,  15, 167, 204,  61, 154, 225,  58,  66, 234, 241], [ 49,  97, 182, 105, 120,  52,  71, 180, 175,  43,  58,  91,  27, 237, 110,  98], [ 77, 251, 224, 242, 114,  33, 254,  16, 167, 141,  74, 220, 142,  73,   4, 105], [206,  58, 131,  40,  29, 103,  17, 227,  65, 204, 190, 227, 158, 100, 125, 187]),\n",
              "         ([255,  73, 174, 223, 213,  31,  55, 115,  86,  66,  64, 168,  15, 141, 186,  70], [196, 159, 166, 229, 125,  52,  22,  95,  99, 199, 124, 114, 147,  89,  61, 244], [ 77, 251, 224, 242, 114,  33, 254,  16, 167, 141,  74, 220, 142,  73,   4, 105], [153, 214, 245, 211, 141, 241, 196,  77,   1, 208, 119, 208,  36, 205, 118, 171]),\n",
              "         ...,\n",
              "         ([ 91, 194,  92,  83, 123,  74, 163, 184, 109, 160, 218,  79, 181, 218,  52, 178], [ 49, 255, 116, 142, 137, 238,   9, 161,  20,  31, 187,  63,  60,  63, 203, 194], [ 77, 251, 224, 242, 114,  33, 254,  16, 167, 141,  74, 220, 142,  73,   4, 105], [250, 169, 123,  40,  90, 109, 145,   2, 241, 110, 236, 230, 221, 155,  86,   8]),\n",
              "         ([ 52, 181, 238, 187,   1, 233, 241, 166, 159, 172, 144,   6,  46,  87,  75, 241], [ 88,  98, 200, 249, 211, 238, 145, 234,  83,   1,  17, 181, 218, 120, 121, 173], [ 77, 251, 224, 242, 114,  33, 254,  16, 167, 141,  74, 220, 142,  73,   4, 105], [242, 200,  68, 120, 121, 105, 169,  83, 149, 109, 197, 255,  96,  19, 189, 246]),\n",
              "         ([198,  35,  99,  39,  93, 210,  27, 112, 207, 229, 156, 184, 170,   8, 103,  86], [208, 175,   0,  65,  50, 109, 203, 141, 237, 200,  30, 143, 100, 136,  79, 203], [ 77, 251, 224, 242, 114,  33, 254,  16, 167, 141,  74, 220, 142,  73,   4, 105], [ 92,  26,  84,  65, 143, 174,  89,  74, 170,   0, 138, 201,  42,   7,  55, 125])],\n",
              "        dtype=[('plaintext', 'u1', (16,)), ('ciphertext', 'u1', (16,)), ('key', 'u1', (16,)), ('masks', 'u1', (16,))])))"
            ]
          },
          "execution_count": 6,
          "metadata": {},
          "output_type": "execute_result"
        }
      ],
      "source": [
        "def load_ascad_window(ascad_database_file, load_metadata=False, target_byte=2, start_index=45400, end_index=46100):\n",
        "  check_file_exists(ascad_database_file)\n",
        "  # Open the ASCAD database HDF5 for reading\n",
        "  try:\n",
        "    in_file\t = h5py.File(ascad_database_file, \"r\")\n",
        "  except:\n",
        "    print(\"Error: can't open HDF5 file '%s' for reading (it might be malformed) ...\" % ascad_database_file)\n",
        "    sys.exit(-1)\n",
        "  window_traces = in_file['traces'][:50000][start_index:end_index]\n",
        "  window_attack = in_file['traces'][50000:][start_index:end_index]\n",
        "  raw_data = in_file['metadata']\n",
        "  raw_plaintexts = raw_data['plaintext']\n",
        "  raw_keys = raw_data['key']\n",
        "  raw_masks = raw_data['masks']\n",
        "  raw_labels = AES_Sbox[raw_plaintexts[:, target_byte].astype(np.uint8) ^ raw_keys[:, target_byte].astype(np.uint8)]\n",
        "\n",
        "  # Load profiling labels\n",
        "  Y_profiling = np.array(raw_labels[:50000])\n",
        "  # Load attacking labels\n",
        "  Y_attack = np.array(raw_labels[50000:])\n",
        "  if load_metadata == False:\n",
        "    return (window_traces, Y_profiling), (window_attack, Y_attack)\n",
        "  else:\n",
        "    return (window_traces, Y_profiling), (window_attack, Y_attack), (in_file['metadata'][:50000], in_file['metadata'][50000:])\n",
        "ascad_raw = '/content/ASCAD_data/ASCAD_databases/ATMega8515_raw_traces.h5'\n",
        "load_ascad_window(ascad_raw, load_metadata=True, target_byte=2, start_index=45400, end_index=46100)"
      ]
    },
    {
      "cell_type": "markdown",
      "metadata": {
        "id": "vBO5K_lLqzDj"
      },
      "source": [
        "### Feature Selection (RPOI)\n",
        "Here we do feature selection based on known masks. Note that we select features from resampled traces, this is to limit RAM usage, for optimal results we would select features from the raw traces without resampling."
      ]
    },
    {
      "cell_type": "code",
      "execution_count": 3,
      "metadata": {
        "id": "06Usdx8aDF2V"
      },
      "outputs": [
        {
          "ename": "NameError",
          "evalue": "name 'profiling_metadata' is not defined",
          "output_type": "error",
          "traceback": [
            "\u001b[31m---------------------------------------------------------------------------\u001b[39m",
            "\u001b[31mNameError\u001b[39m                                 Traceback (most recent call last)",
            "\u001b[36mCell\u001b[39m\u001b[36m \u001b[39m\u001b[32mIn[3]\u001b[39m\u001b[32m, line 28\u001b[39m\n\u001b[32m     24\u001b[39m   \u001b[38;5;28;01mreturn\u001b[39;00m np.argsort(snrs)[::-\u001b[32m1\u001b[39m][:n_poi]\n\u001b[32m     26\u001b[39m \u001b[38;5;66;03m# We do -2 here as first two bytes have no masks included for fixed key dataset,\u001b[39;00m\n\u001b[32m     27\u001b[39m \u001b[38;5;66;03m# For variable key this should be excluded\u001b[39;00m\n\u001b[32m---> \u001b[39m\u001b[32m28\u001b[39m masks = \u001b[43mprofiling_metadata\u001b[49m[\u001b[33m\"\u001b[39m\u001b[33mmasks\u001b[39m\u001b[33m\"\u001b[39m][:, target_byte-\u001b[32m2\u001b[39m].astype(np.uint8)\n\u001b[32m     29\u001b[39m masked_sbox_out = AES_Sbox[profiling_metadata[\u001b[33m\"\u001b[39m\u001b[33mplaintext\u001b[39m\u001b[33m\"\u001b[39m][:, target_byte].astype(np.uint8) ^ profiling_metadata[\u001b[33m\"\u001b[39m\u001b[33mkey\u001b[39m\u001b[33m\"\u001b[39m][:, target_byte].astype(np.uint8)]^ masks\n\u001b[32m     31\u001b[39m \u001b[38;5;28mprint\u001b[39m(X_profiling.shape)\n",
            "\u001b[31mNameError\u001b[39m: name 'profiling_metadata' is not defined"
          ]
        }
      ],
      "source": [
        "def snr_fast(x, y):\n",
        "    ns = x.shape[1]\n",
        "    unique = np.unique(y)\n",
        "    means = np.zeros((len(unique), ns))\n",
        "    variances = np.zeros((len(unique), ns))\n",
        "\n",
        "    for i, u in enumerate(unique):\n",
        "        new_x = x[np.argwhere(y == int(u))]\n",
        "        means[i] = np.mean(new_x, axis=0)\n",
        "        variances[i] = np.var(new_x, axis=0)\n",
        "    return np.var(means, axis=0) / np.mean(variances, axis=0)\n",
        "\n",
        "def get_poi_share(x, y, n_poi=50):\n",
        "  snrs = snr_fast(x[:20000], y[:20000])\n",
        "\n",
        "  # plt.figure(figsize=(14,5))\n",
        "  # plt.plot(snrs)\n",
        "  # plt.title(\"SNR trace for HW leakage model\")\n",
        "  # plt.xlabel('Time sample')\n",
        "  # plt.ylabel('SNR value')\n",
        "  # plt.show()\n",
        "  \n",
        "  print(f\"SNR: {len(snrs)}\")\n",
        "  return np.argsort(snrs)[::-1][:n_poi]\n",
        "\n",
        "# We do -2 here as first two bytes have no masks included for fixed key dataset,\n",
        "# For variable key this should be excluded\n",
        "masks = profiling_metadata[\"masks\"][:, target_byte-2].astype(np.uint8)\n",
        "masked_sbox_out = AES_Sbox[profiling_metadata[\"plaintext\"][:, target_byte].astype(np.uint8) ^ profiling_metadata[\"key\"][:, target_byte].astype(np.uint8)]^ masks\n",
        "\n",
        "print(X_profiling.shape)\n",
        "print(masked_sbox_out.shape)\n",
        "\n",
        "\n",
        "poi_sbox_out_masked = get_poi_share(X_profiling, masked_sbox_out)\n",
        "poi_masks = get_poi_share(X_profiling, masks)\n",
        "poi_full = np.append(poi_sbox_out_masked, poi_masks)\n",
        "\n",
        "selected_features = X_profiling[:, poi_full]\n",
        "selected_features_attack = X_attack[:, poi_full]\n",
        "print(f\"Shape of selected features:{selected_features.shape}\") # there are 100 pints selected per all 200000000 traces\n",
        "\n"
      ]
    },
    {
      "cell_type": "code",
      "execution_count": 2,
      "metadata": {
        "id": "glD0yP-qsb12"
      },
      "outputs": [],
      "source": [
        "# Model taked from Perin, Guilherme, Lichao Wu, and Stjepan Picek.\n",
        "# \"Exploring feature selection scenarios for deep learning-based side-channel analysis.\"\n",
        "# IACR Transactions on Cryptographic Hardware and Embedded Systems 2022.4 (2022): 828-861.\n",
        "def best_mlp_id_rpoi_100_ascadf(classes, number_of_samples):\n",
        "    # Best multilayer perceptron for ASCADf dataset\n",
        "    # Number of points-of-interest: 100\n",
        "    # Leakage model: ID\n",
        "    # Number of parameters: 429256\n",
        "\n",
        "    batch_size = 100\n",
        "    tf.random.set_seed(917539)\n",
        "    model = Sequential(name=\"best_mlp_id_rpoi_100_ascadf\")\n",
        "    model.add(Dense(500, activation=\"relu\", kernel_initializer=\"he_uniform\", input_shape=(number_of_samples,)))\n",
        "    model.add(Dense(500, activation=\"relu\", kernel_initializer=\"he_uniform\"))\n",
        "    model.add(Dense(classes, activation=\"softmax\"))\n",
        "    model.summary()\n",
        "    optimizer = Adam(learning_rate=0.0001)\n",
        "    model.compile(loss=\"categorical_crossentropy\", optimizer=optimizer, metrics=[\"accuracy\"])\n",
        "    return model, batch_size"
      ]
    },
    {
      "cell_type": "code",
      "execution_count": 1,
      "metadata": {},
      "outputs": [
        {
          "ename": "NameError",
          "evalue": "name 'selected_features' is not defined",
          "output_type": "error",
          "traceback": [
            "\u001b[31m---------------------------------------------------------------------------\u001b[39m",
            "\u001b[31mNameError\u001b[39m                                 Traceback (most recent call last)",
            "\u001b[36mCell\u001b[39m\u001b[36m \u001b[39m\u001b[32mIn[1]\u001b[39m\u001b[32m, line 1\u001b[39m\n\u001b[32m----> \u001b[39m\u001b[32m1\u001b[39m \u001b[38;5;28mprint\u001b[39m(\u001b[43mselected_features\u001b[49m)\n",
            "\u001b[31mNameError\u001b[39m: name 'selected_features' is not defined"
          ]
        }
      ],
      "source": [
        "print(selected_features)"
      ]
    },
    {
      "cell_type": "code",
      "execution_count": null,
      "metadata": {
        "colab": {
          "base_uri": "https://localhost:8080/",
          "height": 1000
        },
        "id": "zXvx3mr_rTvk",
        "outputId": "d4193afe-f4c5-48a3-da15-7fd3a760eee4"
      },
      "outputs": [
        {
          "data": {
            "text/html": [
              "<pre style=\"white-space:pre;overflow-x:auto;line-height:normal;font-family:Menlo,'DejaVu Sans Mono',consolas,'Courier New',monospace\"><span style=\"font-weight: bold\">Model: \"best_mlp_id_rpoi_100_ascadf\"</span>\n",
              "</pre>\n"
            ],
            "text/plain": [
              "\u001b[1mModel: \"best_mlp_id_rpoi_100_ascadf\"\u001b[0m\n"
            ]
          },
          "metadata": {},
          "output_type": "display_data"
        },
        {
          "data": {
            "text/html": [
              "<pre style=\"white-space:pre;overflow-x:auto;line-height:normal;font-family:Menlo,'DejaVu Sans Mono',consolas,'Courier New',monospace\">┏━━━━━━━━━━━━━━━━━━━━━━━━━━━━━━━━━━━━━━┳━━━━━━━━━━━━━━━━━━━━━━━━━━━━━┳━━━━━━━━━━━━━━━━━┓\n",
              "┃<span style=\"font-weight: bold\"> Layer (type)                         </span>┃<span style=\"font-weight: bold\"> Output Shape                </span>┃<span style=\"font-weight: bold\">         Param # </span>┃\n",
              "┡━━━━━━━━━━━━━━━━━━━━━━━━━━━━━━━━━━━━━━╇━━━━━━━━━━━━━━━━━━━━━━━━━━━━━╇━━━━━━━━━━━━━━━━━┩\n",
              "│ dense_3 (<span style=\"color: #0087ff; text-decoration-color: #0087ff\">Dense</span>)                      │ (<span style=\"color: #00d7ff; text-decoration-color: #00d7ff\">None</span>, <span style=\"color: #00af00; text-decoration-color: #00af00\">500</span>)                 │          <span style=\"color: #00af00; text-decoration-color: #00af00\">50,500</span> │\n",
              "├──────────────────────────────────────┼─────────────────────────────┼─────────────────┤\n",
              "│ dense_4 (<span style=\"color: #0087ff; text-decoration-color: #0087ff\">Dense</span>)                      │ (<span style=\"color: #00d7ff; text-decoration-color: #00d7ff\">None</span>, <span style=\"color: #00af00; text-decoration-color: #00af00\">500</span>)                 │         <span style=\"color: #00af00; text-decoration-color: #00af00\">250,500</span> │\n",
              "├──────────────────────────────────────┼─────────────────────────────┼─────────────────┤\n",
              "│ dense_5 (<span style=\"color: #0087ff; text-decoration-color: #0087ff\">Dense</span>)                      │ (<span style=\"color: #00d7ff; text-decoration-color: #00d7ff\">None</span>, <span style=\"color: #00af00; text-decoration-color: #00af00\">256</span>)                 │         <span style=\"color: #00af00; text-decoration-color: #00af00\">128,256</span> │\n",
              "└──────────────────────────────────────┴─────────────────────────────┴─────────────────┘\n",
              "</pre>\n"
            ],
            "text/plain": [
              "┏━━━━━━━━━━━━━━━━━━━━━━━━━━━━━━━━━━━━━━┳━━━━━━━━━━━━━━━━━━━━━━━━━━━━━┳━━━━━━━━━━━━━━━━━┓\n",
              "┃\u001b[1m \u001b[0m\u001b[1mLayer (type)                        \u001b[0m\u001b[1m \u001b[0m┃\u001b[1m \u001b[0m\u001b[1mOutput Shape               \u001b[0m\u001b[1m \u001b[0m┃\u001b[1m \u001b[0m\u001b[1m        Param #\u001b[0m\u001b[1m \u001b[0m┃\n",
              "┡━━━━━━━━━━━━━━━━━━━━━━━━━━━━━━━━━━━━━━╇━━━━━━━━━━━━━━━━━━━━━━━━━━━━━╇━━━━━━━━━━━━━━━━━┩\n",
              "│ dense_3 (\u001b[38;5;33mDense\u001b[0m)                      │ (\u001b[38;5;45mNone\u001b[0m, \u001b[38;5;34m500\u001b[0m)                 │          \u001b[38;5;34m50,500\u001b[0m │\n",
              "├──────────────────────────────────────┼─────────────────────────────┼─────────────────┤\n",
              "│ dense_4 (\u001b[38;5;33mDense\u001b[0m)                      │ (\u001b[38;5;45mNone\u001b[0m, \u001b[38;5;34m500\u001b[0m)                 │         \u001b[38;5;34m250,500\u001b[0m │\n",
              "├──────────────────────────────────────┼─────────────────────────────┼─────────────────┤\n",
              "│ dense_5 (\u001b[38;5;33mDense\u001b[0m)                      │ (\u001b[38;5;45mNone\u001b[0m, \u001b[38;5;34m256\u001b[0m)                 │         \u001b[38;5;34m128,256\u001b[0m │\n",
              "└──────────────────────────────────────┴─────────────────────────────┴─────────────────┘\n"
            ]
          },
          "metadata": {},
          "output_type": "display_data"
        },
        {
          "data": {
            "text/html": [
              "<pre style=\"white-space:pre;overflow-x:auto;line-height:normal;font-family:Menlo,'DejaVu Sans Mono',consolas,'Courier New',monospace\"><span style=\"font-weight: bold\"> Total params: </span><span style=\"color: #00af00; text-decoration-color: #00af00\">429,256</span> (1.64 MB)\n",
              "</pre>\n"
            ],
            "text/plain": [
              "\u001b[1m Total params: \u001b[0m\u001b[38;5;34m429,256\u001b[0m (1.64 MB)\n"
            ]
          },
          "metadata": {},
          "output_type": "display_data"
        },
        {
          "data": {
            "text/html": [
              "<pre style=\"white-space:pre;overflow-x:auto;line-height:normal;font-family:Menlo,'DejaVu Sans Mono',consolas,'Courier New',monospace\"><span style=\"font-weight: bold\"> Trainable params: </span><span style=\"color: #00af00; text-decoration-color: #00af00\">429,256</span> (1.64 MB)\n",
              "</pre>\n"
            ],
            "text/plain": [
              "\u001b[1m Trainable params: \u001b[0m\u001b[38;5;34m429,256\u001b[0m (1.64 MB)\n"
            ]
          },
          "metadata": {},
          "output_type": "display_data"
        },
        {
          "data": {
            "text/html": [
              "<pre style=\"white-space:pre;overflow-x:auto;line-height:normal;font-family:Menlo,'DejaVu Sans Mono',consolas,'Courier New',monospace\"><span style=\"font-weight: bold\"> Non-trainable params: </span><span style=\"color: #00af00; text-decoration-color: #00af00\">0</span> (0.00 B)\n",
              "</pre>\n"
            ],
            "text/plain": [
              "\u001b[1m Non-trainable params: \u001b[0m\u001b[38;5;34m0\u001b[0m (0.00 B)\n"
            ]
          },
          "metadata": {},
          "output_type": "display_data"
        },
        {
          "name": "stdout",
          "output_type": "stream",
          "text": [
            "Epoch 1/100\n",
            "\u001b[1m500/500\u001b[0m \u001b[32m━━━━━━━━━━━━━━━━━━━━\u001b[0m\u001b[37m\u001b[0m \u001b[1m3s\u001b[0m 2ms/step - accuracy: 0.0042 - loss: 5.7918\n",
            "Epoch 2/100\n",
            "\u001b[1m500/500\u001b[0m \u001b[32m━━━━━━━━━━━━━━━━━━━━\u001b[0m\u001b[37m\u001b[0m \u001b[1m1s\u001b[0m 2ms/step - accuracy: 0.0111 - loss: 5.4843\n",
            "Epoch 3/100\n",
            "\u001b[1m500/500\u001b[0m \u001b[32m━━━━━━━━━━━━━━━━━━━━\u001b[0m\u001b[37m\u001b[0m \u001b[1m1s\u001b[0m 2ms/step - accuracy: 0.0161 - loss: 5.3094\n",
            "Epoch 4/100\n",
            "\u001b[1m500/500\u001b[0m \u001b[32m━━━━━━━━━━━━━━━━━━━━\u001b[0m\u001b[37m\u001b[0m \u001b[1m1s\u001b[0m 2ms/step - accuracy: 0.0232 - loss: 5.0700\n",
            "Epoch 5/100\n",
            "\u001b[1m500/500\u001b[0m \u001b[32m━━━━━━━━━━━━━━━━━━━━\u001b[0m\u001b[37m\u001b[0m \u001b[1m1s\u001b[0m 3ms/step - accuracy: 0.0343 - loss: 4.8500\n",
            "Epoch 6/100\n",
            "\u001b[1m500/500\u001b[0m \u001b[32m━━━━━━━━━━━━━━━━━━━━\u001b[0m\u001b[37m\u001b[0m \u001b[1m1s\u001b[0m 2ms/step - accuracy: 0.0460 - loss: 4.6646\n",
            "Epoch 7/100\n",
            "\u001b[1m500/500\u001b[0m \u001b[32m━━━━━━━━━━━━━━━━━━━━\u001b[0m\u001b[37m\u001b[0m \u001b[1m1s\u001b[0m 2ms/step - accuracy: 0.0566 - loss: 4.4967\n",
            "Epoch 8/100\n",
            "\u001b[1m500/500\u001b[0m \u001b[32m━━━━━━━━━━━━━━━━━━━━\u001b[0m\u001b[37m\u001b[0m \u001b[1m1s\u001b[0m 2ms/step - accuracy: 0.0705 - loss: 4.3376\n",
            "Epoch 9/100\n",
            "\u001b[1m500/500\u001b[0m \u001b[32m━━━━━━━━━━━━━━━━━━━━\u001b[0m\u001b[37m\u001b[0m \u001b[1m1s\u001b[0m 2ms/step - accuracy: 0.0854 - loss: 4.1843\n",
            "Epoch 10/100\n",
            "\u001b[1m500/500\u001b[0m \u001b[32m━━━━━━━━━━━━━━━━━━━━\u001b[0m\u001b[37m\u001b[0m \u001b[1m1s\u001b[0m 2ms/step - accuracy: 0.1028 - loss: 4.0360\n",
            "Epoch 11/100\n",
            "\u001b[1m500/500\u001b[0m \u001b[32m━━━━━━━━━━━━━━━━━━━━\u001b[0m\u001b[37m\u001b[0m \u001b[1m1s\u001b[0m 2ms/step - accuracy: 0.1201 - loss: 3.8912\n",
            "Epoch 12/100\n",
            "\u001b[1m500/500\u001b[0m \u001b[32m━━━━━━━━━━━━━━━━━━━━\u001b[0m\u001b[37m\u001b[0m \u001b[1m1s\u001b[0m 2ms/step - accuracy: 0.1373 - loss: 3.7502\n",
            "Epoch 13/100\n",
            "\u001b[1m500/500\u001b[0m \u001b[32m━━━━━━━━━━━━━━━━━━━━\u001b[0m\u001b[37m\u001b[0m \u001b[1m1s\u001b[0m 2ms/step - accuracy: 0.1555 - loss: 3.6127\n",
            "Epoch 14/100\n",
            "\u001b[1m500/500\u001b[0m \u001b[32m━━━━━━━━━━━━━━━━━━━━\u001b[0m\u001b[37m\u001b[0m \u001b[1m1s\u001b[0m 2ms/step - accuracy: 0.1743 - loss: 3.4794\n",
            "Epoch 15/100\n",
            "\u001b[1m500/500\u001b[0m \u001b[32m━━━━━━━━━━━━━━━━━━━━\u001b[0m\u001b[37m\u001b[0m \u001b[1m1s\u001b[0m 2ms/step - accuracy: 0.1941 - loss: 3.3506\n",
            "Epoch 16/100\n",
            "\u001b[1m500/500\u001b[0m \u001b[32m━━━━━━━━━━━━━━━━━━━━\u001b[0m\u001b[37m\u001b[0m \u001b[1m1s\u001b[0m 3ms/step - accuracy: 0.2141 - loss: 3.2261\n",
            "Epoch 17/100\n",
            "\u001b[1m500/500\u001b[0m \u001b[32m━━━━━━━━━━━━━━━━━━━━\u001b[0m\u001b[37m\u001b[0m \u001b[1m1s\u001b[0m 3ms/step - accuracy: 0.2336 - loss: 3.1061\n",
            "Epoch 18/100\n",
            "\u001b[1m500/500\u001b[0m \u001b[32m━━━━━━━━━━━━━━━━━━━━\u001b[0m\u001b[37m\u001b[0m \u001b[1m1s\u001b[0m 2ms/step - accuracy: 0.2518 - loss: 2.9912\n",
            "Epoch 19/100\n",
            "\u001b[1m500/500\u001b[0m \u001b[32m━━━━━━━━━━━━━━━━━━━━\u001b[0m\u001b[37m\u001b[0m \u001b[1m1s\u001b[0m 2ms/step - accuracy: 0.2708 - loss: 2.8818\n",
            "Epoch 20/100\n",
            "\u001b[1m500/500\u001b[0m \u001b[32m━━━━━━━━━━━━━━━━━━━━\u001b[0m\u001b[37m\u001b[0m \u001b[1m1s\u001b[0m 2ms/step - accuracy: 0.2908 - loss: 2.7779\n",
            "Epoch 21/100\n",
            "\u001b[1m500/500\u001b[0m \u001b[32m━━━━━━━━━━━━━━━━━━━━\u001b[0m\u001b[37m\u001b[0m \u001b[1m1s\u001b[0m 2ms/step - accuracy: 0.3096 - loss: 2.6795\n",
            "Epoch 22/100\n",
            "\u001b[1m500/500\u001b[0m \u001b[32m━━━━━━━━━━━━━━━━━━━━\u001b[0m\u001b[37m\u001b[0m \u001b[1m1s\u001b[0m 2ms/step - accuracy: 0.3277 - loss: 2.5863\n",
            "Epoch 23/100\n",
            "\u001b[1m500/500\u001b[0m \u001b[32m━━━━━━━━━━━━━━━━━━━━\u001b[0m\u001b[37m\u001b[0m \u001b[1m1s\u001b[0m 2ms/step - accuracy: 0.3450 - loss: 2.4980\n",
            "Epoch 24/100\n",
            "\u001b[1m500/500\u001b[0m \u001b[32m━━━━━━━━━━━━━━━━━━━━\u001b[0m\u001b[37m\u001b[0m \u001b[1m1s\u001b[0m 2ms/step - accuracy: 0.3633 - loss: 2.4145\n",
            "Epoch 25/100\n",
            "\u001b[1m500/500\u001b[0m \u001b[32m━━━━━━━━━━━━━━━━━━━━\u001b[0m\u001b[37m\u001b[0m \u001b[1m1s\u001b[0m 2ms/step - accuracy: 0.3788 - loss: 2.3353\n",
            "Epoch 26/100\n",
            "\u001b[1m500/500\u001b[0m \u001b[32m━━━━━━━━━━━━━━━━━━━━\u001b[0m\u001b[37m\u001b[0m \u001b[1m1s\u001b[0m 2ms/step - accuracy: 0.3958 - loss: 2.2602\n",
            "Epoch 27/100\n",
            "\u001b[1m500/500\u001b[0m \u001b[32m━━━━━━━━━━━━━━━━━━━━\u001b[0m\u001b[37m\u001b[0m \u001b[1m2s\u001b[0m 2ms/step - accuracy: 0.4111 - loss: 2.1886\n",
            "Epoch 28/100\n",
            "\u001b[1m500/500\u001b[0m \u001b[32m━━━━━━━━━━━━━━━━━━━━\u001b[0m\u001b[37m\u001b[0m \u001b[1m1s\u001b[0m 3ms/step - accuracy: 0.4276 - loss: 2.1205\n",
            "Epoch 29/100\n",
            "\u001b[1m500/500\u001b[0m \u001b[32m━━━━━━━━━━━━━━━━━━━━\u001b[0m\u001b[37m\u001b[0m \u001b[1m2s\u001b[0m 2ms/step - accuracy: 0.4431 - loss: 2.0556\n",
            "Epoch 30/100\n",
            "\u001b[1m500/500\u001b[0m \u001b[32m━━━━━━━━━━━━━━━━━━━━\u001b[0m\u001b[37m\u001b[0m \u001b[1m1s\u001b[0m 2ms/step - accuracy: 0.4579 - loss: 1.9938\n",
            "Epoch 31/100\n",
            "\u001b[1m500/500\u001b[0m \u001b[32m━━━━━━━━━━━━━━━━━━━━\u001b[0m\u001b[37m\u001b[0m \u001b[1m1s\u001b[0m 2ms/step - accuracy: 0.4708 - loss: 1.9348\n",
            "Epoch 32/100\n",
            "\u001b[1m500/500\u001b[0m \u001b[32m━━━━━━━━━━━━━━━━━━━━\u001b[0m\u001b[37m\u001b[0m \u001b[1m1s\u001b[0m 2ms/step - accuracy: 0.4848 - loss: 1.8785\n",
            "Epoch 33/100\n",
            "\u001b[1m500/500\u001b[0m \u001b[32m━━━━━━━━━━━━━━━━━━━━\u001b[0m\u001b[37m\u001b[0m \u001b[1m1s\u001b[0m 2ms/step - accuracy: 0.4984 - loss: 1.8245\n",
            "Epoch 34/100\n",
            "\u001b[1m500/500\u001b[0m \u001b[32m━━━━━━━━━━━━━━━━━━━━\u001b[0m\u001b[37m\u001b[0m \u001b[1m1s\u001b[0m 2ms/step - accuracy: 0.5118 - loss: 1.7727\n",
            "Epoch 35/100\n",
            "\u001b[1m500/500\u001b[0m \u001b[32m━━━━━━━━━━━━━━━━━━━━\u001b[0m\u001b[37m\u001b[0m \u001b[1m1s\u001b[0m 2ms/step - accuracy: 0.5245 - loss: 1.7233\n",
            "Epoch 36/100\n",
            "\u001b[1m500/500\u001b[0m \u001b[32m━━━━━━━━━━━━━━━━━━━━\u001b[0m\u001b[37m\u001b[0m \u001b[1m1s\u001b[0m 2ms/step - accuracy: 0.5385 - loss: 1.6760\n",
            "Epoch 37/100\n",
            "\u001b[1m500/500\u001b[0m \u001b[32m━━━━━━━━━━━━━━━━━━━━\u001b[0m\u001b[37m\u001b[0m \u001b[1m2s\u001b[0m 2ms/step - accuracy: 0.5512 - loss: 1.6304\n",
            "Epoch 38/100\n",
            "\u001b[1m500/500\u001b[0m \u001b[32m━━━━━━━━━━━━━━━━━━━━\u001b[0m\u001b[37m\u001b[0m \u001b[1m1s\u001b[0m 3ms/step - accuracy: 0.5631 - loss: 1.5867\n",
            "Epoch 39/100\n",
            "\u001b[1m500/500\u001b[0m \u001b[32m━━━━━━━━━━━━━━━━━━━━\u001b[0m\u001b[37m\u001b[0m \u001b[1m1s\u001b[0m 2ms/step - accuracy: 0.5744 - loss: 1.5446\n",
            "Epoch 40/100\n",
            "\u001b[1m500/500\u001b[0m \u001b[32m━━━━━━━━━━━━━━━━━━━━\u001b[0m\u001b[37m\u001b[0m \u001b[1m1s\u001b[0m 2ms/step - accuracy: 0.5854 - loss: 1.5041\n",
            "Epoch 41/100\n",
            "\u001b[1m500/500\u001b[0m \u001b[32m━━━━━━━━━━━━━━━━━━━━\u001b[0m\u001b[37m\u001b[0m \u001b[1m1s\u001b[0m 2ms/step - accuracy: 0.5967 - loss: 1.4652\n",
            "Epoch 42/100\n",
            "\u001b[1m500/500\u001b[0m \u001b[32m━━━━━━━━━━━━━━━━━━━━\u001b[0m\u001b[37m\u001b[0m \u001b[1m1s\u001b[0m 2ms/step - accuracy: 0.6071 - loss: 1.4277\n",
            "Epoch 43/100\n",
            "\u001b[1m500/500\u001b[0m \u001b[32m━━━━━━━━━━━━━━━━━━━━\u001b[0m\u001b[37m\u001b[0m \u001b[1m1s\u001b[0m 2ms/step - accuracy: 0.6172 - loss: 1.3914\n",
            "Epoch 44/100\n",
            "\u001b[1m500/500\u001b[0m \u001b[32m━━━━━━━━━━━━━━━━━━━━\u001b[0m\u001b[37m\u001b[0m \u001b[1m1s\u001b[0m 2ms/step - accuracy: 0.6284 - loss: 1.3562\n",
            "Epoch 45/100\n",
            "\u001b[1m500/500\u001b[0m \u001b[32m━━━━━━━━━━━━━━━━━━━━\u001b[0m\u001b[37m\u001b[0m \u001b[1m1s\u001b[0m 2ms/step - accuracy: 0.6398 - loss: 1.3223\n",
            "Epoch 46/100\n",
            "\u001b[1m500/500\u001b[0m \u001b[32m━━━━━━━━━━━━━━━━━━━━\u001b[0m\u001b[37m\u001b[0m \u001b[1m1s\u001b[0m 2ms/step - accuracy: 0.6508 - loss: 1.2895\n",
            "Epoch 47/100\n",
            "\u001b[1m500/500\u001b[0m \u001b[32m━━━━━━━━━━━━━━━━━━━━\u001b[0m\u001b[37m\u001b[0m \u001b[1m1s\u001b[0m 2ms/step - accuracy: 0.6605 - loss: 1.2576\n",
            "Epoch 48/100\n",
            "\u001b[1m500/500\u001b[0m \u001b[32m━━━━━━━━━━━━━━━━━━━━\u001b[0m\u001b[37m\u001b[0m \u001b[1m1s\u001b[0m 2ms/step - accuracy: 0.6700 - loss: 1.2267\n",
            "Epoch 49/100\n",
            "\u001b[1m500/500\u001b[0m \u001b[32m━━━━━━━━━━━━━━━━━━━━\u001b[0m\u001b[37m\u001b[0m \u001b[1m1s\u001b[0m 2ms/step - accuracy: 0.6790 - loss: 1.1965\n",
            "Epoch 50/100\n",
            "\u001b[1m500/500\u001b[0m \u001b[32m━━━━━━━━━━━━━━━━━━━━\u001b[0m\u001b[37m\u001b[0m \u001b[1m1s\u001b[0m 3ms/step - accuracy: 0.6884 - loss: 1.1672\n",
            "Epoch 51/100\n",
            "\u001b[1m500/500\u001b[0m \u001b[32m━━━━━━━━━━━━━━━━━━━━\u001b[0m\u001b[37m\u001b[0m \u001b[1m2s\u001b[0m 2ms/step - accuracy: 0.6980 - loss: 1.1388\n",
            "Epoch 52/100\n",
            "\u001b[1m500/500\u001b[0m \u001b[32m━━━━━━━━━━━━━━━━━━━━\u001b[0m\u001b[37m\u001b[0m \u001b[1m1s\u001b[0m 2ms/step - accuracy: 0.7066 - loss: 1.1111\n",
            "Epoch 53/100\n",
            "\u001b[1m500/500\u001b[0m \u001b[32m━━━━━━━━━━━━━━━━━━━━\u001b[0m\u001b[37m\u001b[0m \u001b[1m1s\u001b[0m 2ms/step - accuracy: 0.7152 - loss: 1.0840\n",
            "Epoch 54/100\n",
            "\u001b[1m500/500\u001b[0m \u001b[32m━━━━━━━━━━━━━━━━━━━━\u001b[0m\u001b[37m\u001b[0m \u001b[1m1s\u001b[0m 2ms/step - accuracy: 0.7243 - loss: 1.0575\n",
            "Epoch 55/100\n",
            "\u001b[1m500/500\u001b[0m \u001b[32m━━━━━━━━━━━━━━━━━━━━\u001b[0m\u001b[37m\u001b[0m \u001b[1m1s\u001b[0m 2ms/step - accuracy: 0.7332 - loss: 1.0318\n",
            "Epoch 56/100\n",
            "\u001b[1m500/500\u001b[0m \u001b[32m━━━━━━━━━━━━━━━━━━━━\u001b[0m\u001b[37m\u001b[0m \u001b[1m1s\u001b[0m 2ms/step - accuracy: 0.7412 - loss: 1.0067\n",
            "Epoch 57/100\n",
            "\u001b[1m500/500\u001b[0m \u001b[32m━━━━━━━━━━━━━━━━━━━━\u001b[0m\u001b[37m\u001b[0m \u001b[1m1s\u001b[0m 2ms/step - accuracy: 0.7480 - loss: 0.9822\n",
            "Epoch 58/100\n",
            "\u001b[1m500/500\u001b[0m \u001b[32m━━━━━━━━━━━━━━━━━━━━\u001b[0m\u001b[37m\u001b[0m \u001b[1m1s\u001b[0m 2ms/step - accuracy: 0.7566 - loss: 0.9582\n",
            "Epoch 59/100\n",
            "\u001b[1m500/500\u001b[0m \u001b[32m━━━━━━━━━━━━━━━━━━━━\u001b[0m\u001b[37m\u001b[0m \u001b[1m1s\u001b[0m 2ms/step - accuracy: 0.7648 - loss: 0.9348\n",
            "Epoch 60/100\n",
            "\u001b[1m500/500\u001b[0m \u001b[32m━━━━━━━━━━━━━━━━━━━━\u001b[0m\u001b[37m\u001b[0m \u001b[1m1s\u001b[0m 3ms/step - accuracy: 0.7726 - loss: 0.9118\n",
            "Epoch 61/100\n",
            "\u001b[1m500/500\u001b[0m \u001b[32m━━━━━━━━━━━━━━━━━━━━\u001b[0m\u001b[37m\u001b[0m \u001b[1m1s\u001b[0m 2ms/step - accuracy: 0.7803 - loss: 0.8895\n",
            "Epoch 62/100\n",
            "\u001b[1m500/500\u001b[0m \u001b[32m━━━━━━━━━━━━━━━━━━━━\u001b[0m\u001b[37m\u001b[0m \u001b[1m1s\u001b[0m 2ms/step - accuracy: 0.7878 - loss: 0.8676\n",
            "Epoch 63/100\n",
            "\u001b[1m500/500\u001b[0m \u001b[32m━━━━━━━━━━━━━━━━━━━━\u001b[0m\u001b[37m\u001b[0m \u001b[1m1s\u001b[0m 2ms/step - accuracy: 0.7947 - loss: 0.8461\n",
            "Epoch 64/100\n",
            "\u001b[1m500/500\u001b[0m \u001b[32m━━━━━━━━━━━━━━━━━━━━\u001b[0m\u001b[37m\u001b[0m \u001b[1m1s\u001b[0m 2ms/step - accuracy: 0.8014 - loss: 0.8251\n",
            "Epoch 65/100\n",
            "\u001b[1m500/500\u001b[0m \u001b[32m━━━━━━━━━━━━━━━━━━━━\u001b[0m\u001b[37m\u001b[0m \u001b[1m1s\u001b[0m 2ms/step - accuracy: 0.8082 - loss: 0.8046\n",
            "Epoch 66/100\n",
            "\u001b[1m500/500\u001b[0m \u001b[32m━━━━━━━━━━━━━━━━━━━━\u001b[0m\u001b[37m\u001b[0m \u001b[1m1s\u001b[0m 2ms/step - accuracy: 0.8147 - loss: 0.7844\n",
            "Epoch 67/100\n",
            "\u001b[1m500/500\u001b[0m \u001b[32m━━━━━━━━━━━━━━━━━━━━\u001b[0m\u001b[37m\u001b[0m \u001b[1m1s\u001b[0m 2ms/step - accuracy: 0.8212 - loss: 0.7647\n",
            "Epoch 68/100\n",
            "\u001b[1m500/500\u001b[0m \u001b[32m━━━━━━━━━━━━━━━━━━━━\u001b[0m\u001b[37m\u001b[0m \u001b[1m1s\u001b[0m 2ms/step - accuracy: 0.8274 - loss: 0.7454\n",
            "Epoch 69/100\n",
            "\u001b[1m500/500\u001b[0m \u001b[32m━━━━━━━━━━━━━━━━━━━━\u001b[0m\u001b[37m\u001b[0m \u001b[1m1s\u001b[0m 2ms/step - accuracy: 0.8339 - loss: 0.7264\n",
            "Epoch 70/100\n",
            "\u001b[1m500/500\u001b[0m \u001b[32m━━━━━━━━━━━━━━━━━━━━\u001b[0m\u001b[37m\u001b[0m \u001b[1m1s\u001b[0m 2ms/step - accuracy: 0.8404 - loss: 0.7078\n",
            "Epoch 71/100\n",
            "\u001b[1m500/500\u001b[0m \u001b[32m━━━━━━━━━━━━━━━━━━━━\u001b[0m\u001b[37m\u001b[0m \u001b[1m1s\u001b[0m 3ms/step - accuracy: 0.8462 - loss: 0.6897\n",
            "Epoch 72/100\n",
            "\u001b[1m500/500\u001b[0m \u001b[32m━━━━━━━━━━━━━━━━━━━━\u001b[0m\u001b[37m\u001b[0m \u001b[1m2s\u001b[0m 2ms/step - accuracy: 0.8526 - loss: 0.6718\n",
            "Epoch 73/100\n",
            "\u001b[1m500/500\u001b[0m \u001b[32m━━━━━━━━━━━━━━━━━━━━\u001b[0m\u001b[37m\u001b[0m \u001b[1m1s\u001b[0m 2ms/step - accuracy: 0.8584 - loss: 0.6543\n",
            "Epoch 74/100\n",
            "\u001b[1m500/500\u001b[0m \u001b[32m━━━━━━━━━━━━━━━━━━━━\u001b[0m\u001b[37m\u001b[0m \u001b[1m1s\u001b[0m 2ms/step - accuracy: 0.8645 - loss: 0.6371\n",
            "Epoch 75/100\n",
            "\u001b[1m500/500\u001b[0m \u001b[32m━━━━━━━━━━━━━━━━━━━━\u001b[0m\u001b[37m\u001b[0m \u001b[1m1s\u001b[0m 2ms/step - accuracy: 0.8708 - loss: 0.6202\n",
            "Epoch 76/100\n",
            "\u001b[1m500/500\u001b[0m \u001b[32m━━━━━━━━━━━━━━━━━━━━\u001b[0m\u001b[37m\u001b[0m \u001b[1m1s\u001b[0m 2ms/step - accuracy: 0.8768 - loss: 0.6037\n",
            "Epoch 77/100\n",
            "\u001b[1m500/500\u001b[0m \u001b[32m━━━━━━━━━━━━━━━━━━━━\u001b[0m\u001b[37m\u001b[0m \u001b[1m1s\u001b[0m 2ms/step - accuracy: 0.8818 - loss: 0.5874\n",
            "Epoch 78/100\n",
            "\u001b[1m500/500\u001b[0m \u001b[32m━━━━━━━━━━━━━━━━━━━━\u001b[0m\u001b[37m\u001b[0m \u001b[1m1s\u001b[0m 2ms/step - accuracy: 0.8871 - loss: 0.5714\n",
            "Epoch 79/100\n",
            "\u001b[1m500/500\u001b[0m \u001b[32m━━━━━━━━━━━━━━━━━━━━\u001b[0m\u001b[37m\u001b[0m \u001b[1m1s\u001b[0m 2ms/step - accuracy: 0.8918 - loss: 0.5556\n",
            "Epoch 80/100\n",
            "\u001b[1m500/500\u001b[0m \u001b[32m━━━━━━━━━━━━━━━━━━━━\u001b[0m\u001b[37m\u001b[0m \u001b[1m1s\u001b[0m 2ms/step - accuracy: 0.8964 - loss: 0.5403\n",
            "Epoch 81/100\n",
            "\u001b[1m500/500\u001b[0m \u001b[32m━━━━━━━━━━━━━━━━━━━━\u001b[0m\u001b[37m\u001b[0m \u001b[1m1s\u001b[0m 2ms/step - accuracy: 0.9011 - loss: 0.5252\n",
            "Epoch 82/100\n",
            "\u001b[1m500/500\u001b[0m \u001b[32m━━━━━━━━━━━━━━━━━━━━\u001b[0m\u001b[37m\u001b[0m \u001b[1m1s\u001b[0m 3ms/step - accuracy: 0.9068 - loss: 0.5103\n",
            "Epoch 83/100\n",
            "\u001b[1m500/500\u001b[0m \u001b[32m━━━━━━━━━━━━━━━━━━━━\u001b[0m\u001b[37m\u001b[0m \u001b[1m1s\u001b[0m 2ms/step - accuracy: 0.9103 - loss: 0.4958\n",
            "Epoch 84/100\n",
            "\u001b[1m500/500\u001b[0m \u001b[32m━━━━━━━━━━━━━━━━━━━━\u001b[0m\u001b[37m\u001b[0m \u001b[1m1s\u001b[0m 2ms/step - accuracy: 0.9152 - loss: 0.4815\n",
            "Epoch 85/100\n",
            "\u001b[1m500/500\u001b[0m \u001b[32m━━━━━━━━━━━━━━━━━━━━\u001b[0m\u001b[37m\u001b[0m \u001b[1m1s\u001b[0m 2ms/step - accuracy: 0.9196 - loss: 0.4675\n",
            "Epoch 86/100\n",
            "\u001b[1m500/500\u001b[0m \u001b[32m━━━━━━━━━━━━━━━━━━━━\u001b[0m\u001b[37m\u001b[0m \u001b[1m1s\u001b[0m 2ms/step - accuracy: 0.9243 - loss: 0.4538\n",
            "Epoch 87/100\n",
            "\u001b[1m500/500\u001b[0m \u001b[32m━━━━━━━━━━━━━━━━━━━━\u001b[0m\u001b[37m\u001b[0m \u001b[1m1s\u001b[0m 2ms/step - accuracy: 0.9287 - loss: 0.4403\n",
            "Epoch 88/100\n",
            "\u001b[1m500/500\u001b[0m \u001b[32m━━━━━━━━━━━━━━━━━━━━\u001b[0m\u001b[37m\u001b[0m \u001b[1m1s\u001b[0m 2ms/step - accuracy: 0.9331 - loss: 0.4270\n",
            "Epoch 89/100\n",
            "\u001b[1m500/500\u001b[0m \u001b[32m━━━━━━━━━━━━━━━━━━━━\u001b[0m\u001b[37m\u001b[0m \u001b[1m1s\u001b[0m 2ms/step - accuracy: 0.9378 - loss: 0.4140\n",
            "Epoch 90/100\n",
            "\u001b[1m500/500\u001b[0m \u001b[32m━━━━━━━━━━━━━━━━━━━━\u001b[0m\u001b[37m\u001b[0m \u001b[1m1s\u001b[0m 2ms/step - accuracy: 0.9418 - loss: 0.4013\n",
            "Epoch 91/100\n",
            "\u001b[1m500/500\u001b[0m \u001b[32m━━━━━━━━━━━━━━━━━━━━\u001b[0m\u001b[37m\u001b[0m \u001b[1m1s\u001b[0m 2ms/step - accuracy: 0.9453 - loss: 0.3888\n",
            "Epoch 92/100\n",
            "\u001b[1m500/500\u001b[0m \u001b[32m━━━━━━━━━━━━━━━━━━━━\u001b[0m\u001b[37m\u001b[0m \u001b[1m1s\u001b[0m 3ms/step - accuracy: 0.9492 - loss: 0.3766\n",
            "Epoch 93/100\n",
            "\u001b[1m500/500\u001b[0m \u001b[32m━━━━━━━━━━━━━━━━━━━━\u001b[0m\u001b[37m\u001b[0m \u001b[1m2s\u001b[0m 2ms/step - accuracy: 0.9528 - loss: 0.3646\n",
            "Epoch 94/100\n",
            "\u001b[1m500/500\u001b[0m \u001b[32m━━━━━━━━━━━━━━━━━━━━\u001b[0m\u001b[37m\u001b[0m \u001b[1m1s\u001b[0m 2ms/step - accuracy: 0.9566 - loss: 0.3528\n",
            "Epoch 95/100\n",
            "\u001b[1m500/500\u001b[0m \u001b[32m━━━━━━━━━━━━━━━━━━━━\u001b[0m\u001b[37m\u001b[0m \u001b[1m1s\u001b[0m 2ms/step - accuracy: 0.9600 - loss: 0.3413\n",
            "Epoch 96/100\n",
            "\u001b[1m500/500\u001b[0m \u001b[32m━━━━━━━━━━━━━━━━━━━━\u001b[0m\u001b[37m\u001b[0m \u001b[1m1s\u001b[0m 2ms/step - accuracy: 0.9634 - loss: 0.3299\n",
            "Epoch 97/100\n",
            "\u001b[1m500/500\u001b[0m \u001b[32m━━━━━━━━━━━━━━━━━━━━\u001b[0m\u001b[37m\u001b[0m \u001b[1m1s\u001b[0m 2ms/step - accuracy: 0.9665 - loss: 0.3189\n",
            "Epoch 98/100\n",
            "\u001b[1m500/500\u001b[0m \u001b[32m━━━━━━━━━━━━━━━━━━━━\u001b[0m\u001b[37m\u001b[0m \u001b[1m1s\u001b[0m 2ms/step - accuracy: 0.9693 - loss: 0.3081\n",
            "Epoch 99/100\n",
            "\u001b[1m500/500\u001b[0m \u001b[32m━━━━━━━━━━━━━━━━━━━━\u001b[0m\u001b[37m\u001b[0m \u001b[1m1s\u001b[0m 2ms/step - accuracy: 0.9716 - loss: 0.2975\n",
            "Epoch 100/100\n",
            "\u001b[1m500/500\u001b[0m \u001b[32m━━━━━━━━━━━━━━━━━━━━\u001b[0m\u001b[37m\u001b[0m \u001b[1m1s\u001b[0m 2ms/step - accuracy: 0.9748 - loss: 0.2871\n"
          ]
        }
      ],
      "source": [
        "# Training\n",
        "input_size= len(selected_features[0])\n",
        "model, batch_size = best_mlp_id_rpoi_100_ascadf(nb_classes, input_size)\n",
        "nb_epochs = 100\n",
        "history = model.fit(x=selected_features, y=Y_profiling, shuffle=True, batch_size=batch_size, verbose=1, epochs=nb_epochs)"
      ]
    },
    {
      "cell_type": "code",
      "execution_count": null,
      "metadata": {
        "colab": {
          "base_uri": "https://localhost:8080/",
          "height": 522
        },
        "id": "QVxJpYd_91Rk",
        "outputId": "167ff060-d53e-4ff8-f814-229f1118d1f2"
      },
      "outputs": [
        {
          "name": "stdout",
          "output_type": "stream",
          "text": [
            "\u001b[1m313/313\u001b[0m \u001b[32m━━━━━━━━━━━━━━━━━━━━\u001b[0m\u001b[37m\u001b[0m \u001b[1m1s\u001b[0m 2ms/step\n",
            "GE of 0.0 with 3 traces.\n"
          ]
        },
        {
          "data": {
            "image/png": "[encoded data removed]",
            "text/plain": [
              "<Figure size 640x480 with 1 Axes>"
            ]
          },
          "metadata": {},
          "output_type": "display_data"
        }
      ],
      "source": [
        "# Evaluation of the model in NOPOI scenario.\n",
        "predictions = model.predict(selected_features_attack)\n",
        "correct_key = attack_metadata[\"key\"][0, target_byte]\n",
        "medge, avgge = guessing_entropy_convergence(predictions, attack_metadata[\"plaintext\"][:, target_byte], correct_key, 1000)\n",
        "print(f\"GE of {np.min(avgge)} with {np.argmin(avgge)} traces.\")\n",
        "figure = plt.gcf()\n",
        "plt.plot(avgge, linewidth=1, label=\"GE\")\n",
        "plt.grid(True, which=\"both\", ls=\"-\")\n",
        "plt.xlabel(\"Traces\", fontsize=12)\n",
        "plt.ylabel(\"Guessing Entropy\", fontsize=12)\n",
        "plt.ylim(0, 256)\n",
        "plt.legend()\n",
        "plt.tight_layout()"
      ]
    }
  ],
  "metadata": {
    "accelerator": "GPU",
    "colab": {
      "gpuType": "T4",
      "provenance": [],
      "toc_visible": true
    },
    "kernelspec": {
      "display_name": ".venv",
      "language": "python",
      "name": "python3"
    },
    "language_info": {
      "codemirror_mode": {
        "name": "ipython",
        "version": 3
      },
      "file_extension": ".py",
      "mimetype": "text/x-python",
      "name": "python",
      "nbconvert_exporter": "python",
      "pygments_lexer": "ipython3",
      "version": "3.12.3"
    }
  },
  "nbformat": 4,
  "nbformat_minor": 0
}
